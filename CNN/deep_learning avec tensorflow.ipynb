{
 "cells": [
  {
   "cell_type": "markdown",
   "id": "b503ca5d",
   "metadata": {},
   "source": [
    "# Classification d'Images avec un CNN : Détection de Camions et Taxis"
   ]
  },
  {
   "cell_type": "code",
   "execution_count": null,
   "id": "dfdcbb93",
   "metadata": {},
   "outputs": [],
   "source": [
    "import tensorflow as tf\n",
    "import os\n",
    "import numpy as np\n",
    "from PIL import Image\n",
    "from sklearn.model_selection import train_test_split\n",
    "from tensorflow.keras.models import Sequential\n",
    "from tensorflow.keras.layers import Conv2D, MaxPooling2D, Flatten, Dense, Dropout\n",
    "from tensorflow.keras.optimizers import Adam\n"
   ]
  },
  {
   "cell_type": "code",
   "execution_count": 45,
   "id": "c55061f1",
   "metadata": {},
   "outputs": [
    {
     "data": {
      "text/plain": [
       "[14.684806823730469, 2.5867815017700195]"
      ]
     },
     "execution_count": 45,
     "metadata": {},
     "output_type": "execute_result"
    }
   ],
   "source": [
    "res_eval"
   ]
  },
  {
   "cell_type": "code",
   "execution_count": null,
   "id": "23379df8",
   "metadata": {},
   "outputs": [],
   "source": [
    "from serpapi import GoogleSearch\n",
    "\n",
    "params = {\n",
    "  \"engine\": \"google_images\",\n",
    "  \"q\": \"beach\",\n",
    "  \"api_key\": \"042577b4184f0a2496b757891c05a4c85605ffc35544478e87f893daf1fb9f74\",\n",
    "  \"num\": 1000,  # Increase this number to retrieve more results\n",
    "  'ijn' : \"\"\n",
    "}\n",
    "\n",
    "lesresults = []\n",
    "\n",
    "for i in range (3):\n",
    "    params['ijn'] = i\n",
    "    search = GoogleSearch(params)\n",
    "    results2 = search.get_dict()\n",
    "    lesresul"
   ]
  },
  {
   "cell_type": "code",
   "execution_count": null,
   "id": "99db99c3",
   "metadata": {},
   "outputs": [],
   "source": [
    "results=les"
   ]
  },
  {
   "cell_type": "code",
   "execution_count": 3,
   "id": "64c2d20e",
   "metadata": {},
   "outputs": [],
   "source": [
    "import requests\n",
    "import os"
   ]
  },
  {
   "cell_type": "code",
   "execution_count": 14,
   "id": "a6270a6a",
   "metadata": {},
   "outputs": [],
   "source": [
    "from serpapi import GoogleSearch\n",
    "\n",
    "params = {\n",
    "  \"engine\": \"google_images\",\n",
    "  \"q\": \"voitures\",\n",
    "  \"api_key\": \"64f68aa7488097be836263a7ef0022660ab32e45a73e07880bbc45e580ca52d4\",\n",
    "  \n",
    "}\n",
    "\n",
    "search = GoogleSearch(params)\n",
    "results = search.get_dict()"
   ]
  },
  {
   "cell_type": "code",
   "execution_count": 144,
   "id": "a0831a2d",
   "metadata": {},
   "outputs": [],
   "source": [
    "import os\n",
    "import requests\n",
    "from serpapi import GoogleSearch\n",
    "\n",
    "# Paramètres de la recherche\n",
    "search_params = {\n",
    "    \"engine\": \"google_images\",\n",
    "    \"q\": \"renault\",  # Spécifiez la marque \"Toyota\" dans la requête de recherche\n",
    "   \n",
    "    \"api_key\": \"64f68aa7488097be836263a7ef0022660ab32e45a73e07880bbc45e580ca52d4\",\n",
    "    'ijn' :2\n",
    "}\n",
    "\n",
    "\n",
    "\n",
    "# Effectuer la recherche\n",
    "search = GoogleSearch(search_params)\n",
    "results = search.get_dict()"
   ]
  },
  {
   "cell_type": "code",
   "execution_count": 145,
   "id": "0d135e86",
   "metadata": {
    "scrolled": true
   },
   "outputs": [
    {
     "name": "stdout",
     "output_type": "stream",
     "text": [
      "Image 1 de Toyota enregistrée avec succès sous /home/mouhammed/Images/image_serapi/images_1.jpeg\n",
      "Image 2 de Toyota enregistrée avec succès sous /home/mouhammed/Images/image_serapi/images_2.jpeg\n",
      "Image 3 de Toyota enregistrée avec succès sous /home/mouhammed/Images/image_serapi/images_3.jpeg\n",
      "Image 4 de Toyota enregistrée avec succès sous /home/mouhammed/Images/image_serapi/images_4.jpeg\n",
      "Image 5 de Toyota enregistrée avec succès sous /home/mouhammed/Images/image_serapi/images_5.jpeg\n",
      "Image 6 de Toyota enregistrée avec succès sous /home/mouhammed/Images/image_serapi/images_6.jpeg\n",
      "Image 7 de Toyota enregistrée avec succès sous /home/mouhammed/Images/image_serapi/images_7.jpeg\n",
      "Image 8 de Toyota enregistrée avec succès sous /home/mouhammed/Images/image_serapi/images_8.jpeg\n",
      "Image 9 de Toyota enregistrée avec succès sous /home/mouhammed/Images/image_serapi/images_9.jpeg\n",
      "Image 10 de Toyota enregistrée avec succès sous /home/mouhammed/Images/image_serapi/images_10.jpeg\n",
      "Image 11 de Toyota enregistrée avec succès sous /home/mouhammed/Images/image_serapi/images_11.jpeg\n",
      "Image 12 de Toyota enregistrée avec succès sous /home/mouhammed/Images/image_serapi/images_12.jpeg\n",
      "Échec du téléchargement de l'image 13 de Toyota depuis https://www.theaa.ie/wp-content/uploads/2022/08/Renault_Megane_etech_Video_Review_Featured_5f90ddf6148de3dab41cf28ff958d2ab_2000.png.\n",
      "Image 14 de Toyota enregistrée avec succès sous /home/mouhammed/Images/image_serapi/images_14.jpeg\n",
      "Image 15 de Toyota enregistrée avec succès sous /home/mouhammed/Images/image_serapi/images_15.jpeg\n",
      "Image 16 de Toyota enregistrée avec succès sous /home/mouhammed/Images/image_serapi/images_16.jpeg\n",
      "Image 17 de Toyota enregistrée avec succès sous /home/mouhammed/Images/image_serapi/images_17.jpeg\n",
      "Échec du téléchargement de l'image 18 de Toyota depuis https://www.topgear.com/sites/default/files/2022/10/15-Renault-Austral_0.jpg.\n",
      "Échec du téléchargement de l'image 19 de Toyota depuis https://upload.wikimedia.org/wikipedia/commons/c/c6/2019_Renault_Megane_R.S._300_Trophy_1.8_Front.jpg.\n",
      "Image 20 de Toyota enregistrée avec succès sous /home/mouhammed/Images/image_serapi/images_20.jpeg\n",
      "Image 21 de Toyota enregistrée avec succès sous /home/mouhammed/Images/image_serapi/images_21.jpeg\n",
      "Échec du téléchargement de l'image 22 de Toyota depuis https://www.alcopa-auction.es/build/img/brand-renault.png.\n",
      "Image 23 de Toyota enregistrée avec succès sous /home/mouhammed/Images/image_serapi/images_23.jpeg\n",
      "Image 24 de Toyota enregistrée avec succès sous /home/mouhammed/Images/image_serapi/images_24.jpeg\n",
      "Image 25 de Toyota enregistrée avec succès sous /home/mouhammed/Images/image_serapi/images_25.jpeg\n",
      "Image 26 de Toyota enregistrée avec succès sous /home/mouhammed/Images/image_serapi/images_26.jpeg\n",
      "Image 27 de Toyota enregistrée avec succès sous /home/mouhammed/Images/image_serapi/images_27.jpeg\n",
      "Image 28 de Toyota enregistrée avec succès sous /home/mouhammed/Images/image_serapi/images_28.jpeg\n",
      "Image 29 de Toyota enregistrée avec succès sous /home/mouhammed/Images/image_serapi/images_29.jpeg\n",
      "Échec du téléchargement de l'image 30 de Toyota depuis https://www.motortrend.com/uploads/2022/03/Renault-AMC-Alliance-our-1983-Car-of-the-Year-1.jpg.\n",
      "Image 31 de Toyota enregistrée avec succès sous /home/mouhammed/Images/image_serapi/images_31.jpeg\n",
      "Image 32 de Toyota enregistrée avec succès sous /home/mouhammed/Images/image_serapi/images_32.jpeg\n",
      "Image 33 de Toyota enregistrée avec succès sous /home/mouhammed/Images/image_serapi/images_33.jpeg\n",
      "Échec du téléchargement de l'image 34 de Toyota depuis https://image-prod.iol.co.za/16x9/800/?source=https://xlibris.public.prod.oc.inl.infomaker.io:8443/opencontent/objects/8dcf7bfb-df52-5c40-952c-242ada851147&operation=CROP&offset=59x349&resize=1474x830.\n",
      "Image 35 de Toyota enregistrée avec succès sous /home/mouhammed/Images/image_serapi/images_35.jpeg\n",
      "Image 36 de Toyota enregistrée avec succès sous /home/mouhammed/Images/image_serapi/images_36.jpeg\n",
      "Image 37 de Toyota enregistrée avec succès sous /home/mouhammed/Images/image_serapi/images_37.jpeg\n",
      "Image 38 de Toyota enregistrée avec succès sous /home/mouhammed/Images/image_serapi/images_38.jpeg\n",
      "Image 39 de Toyota enregistrée avec succès sous /home/mouhammed/Images/image_serapi/images_39.jpeg\n",
      "Une erreur s'est produite lors du téléchargement de l'image 40 de Toyota : HTTPSConnectionPool(host='www.motorbeam.com', port=443): Max retries exceeded with url: /wp-content/uploads/2008/12/mahindra-renault-logan-1200x799.jpg (Caused by SSLError(SSLCertVerificationError(1, '[SSL: CERTIFICATE_VERIFY_FAILED] certificate verify failed: unable to get local issuer certificate (_ssl.c:1131)')))\n",
      "Image 41 de Toyota enregistrée avec succès sous /home/mouhammed/Images/image_serapi/images_41.jpeg\n",
      "Image 42 de Toyota enregistrée avec succès sous /home/mouhammed/Images/image_serapi/images_42.jpeg\n",
      "Image 43 de Toyota enregistrée avec succès sous /home/mouhammed/Images/image_serapi/images_43.jpeg\n",
      "Échec du téléchargement de l'image 44 de Toyota depuis https://imgd.aeplcdn.com/1200x900/n/cw/ec/45463/renault-kwid-exterior9.jpeg?wm=0.\n",
      "Image 45 de Toyota enregistrée avec succès sous /home/mouhammed/Images/image_serapi/images_45.jpeg\n",
      "Image 46 de Toyota enregistrée avec succès sous /home/mouhammed/Images/image_serapi/images_46.jpeg\n",
      "Échec du téléchargement de l'image 47 de Toyota depuis https://www.evanshalshaw.com/-/media/evanshalshaw/renault/used-cars/scenic/page-link/scenic-480x270px.ashx?mh=519&la=en&h=270&w=480&mw=519&hash=BF0B4DACA8681CD235B3AEAA9DD602F8.\n",
      "Image 48 de Toyota enregistrée avec succès sous /home/mouhammed/Images/image_serapi/images_48.jpeg\n",
      "Image 49 de Toyota enregistrée avec succès sous /home/mouhammed/Images/image_serapi/images_49.jpeg\n",
      "Image 50 de Toyota enregistrée avec succès sous /home/mouhammed/Images/image_serapi/images_50.jpeg\n",
      "Image 51 de Toyota enregistrée avec succès sous /home/mouhammed/Images/image_serapi/images_51.jpeg\n",
      "Image 52 de Toyota enregistrée avec succès sous /home/mouhammed/Images/image_serapi/images_52.jpeg\n",
      "Image 53 de Toyota enregistrée avec succès sous /home/mouhammed/Images/image_serapi/images_53.jpeg\n",
      "Échec du téléchargement de l'image 54 de Toyota depuis https://upload.wikimedia.org/wikipedia/commons/9/99/Renault_Latitude_1X7A6504.jpg.\n",
      "Image 55 de Toyota enregistrée avec succès sous /home/mouhammed/Images/image_serapi/images_55.jpeg\n",
      "Image 56 de Toyota enregistrée avec succès sous /home/mouhammed/Images/image_serapi/images_56.jpeg\n",
      "Image 57 de Toyota enregistrée avec succès sous /home/mouhammed/Images/image_serapi/images_57.jpeg\n",
      "Image 58 de Toyota enregistrée avec succès sous /home/mouhammed/Images/image_serapi/images_58.jpeg\n",
      "Image 59 de Toyota enregistrée avec succès sous /home/mouhammed/Images/image_serapi/images_59.jpeg\n",
      "Image 60 de Toyota enregistrée avec succès sous /home/mouhammed/Images/image_serapi/images_60.jpeg\n",
      "Échec du téléchargement de l'image 61 de Toyota depuis https://www.topgear.com/sites/default/files/2023/01/1_1.jpg.\n",
      "Image 62 de Toyota enregistrée avec succès sous /home/mouhammed/Images/image_serapi/images_62.jpeg\n",
      "Image 63 de Toyota enregistrée avec succès sous /home/mouhammed/Images/image_serapi/images_63.jpeg\n",
      "Image 64 de Toyota enregistrée avec succès sous /home/mouhammed/Images/image_serapi/images_64.jpeg\n",
      "Image 65 de Toyota enregistrée avec succès sous /home/mouhammed/Images/image_serapi/images_65.jpeg\n",
      "Image 66 de Toyota enregistrée avec succès sous /home/mouhammed/Images/image_serapi/images_66.jpeg\n",
      "Image 67 de Toyota enregistrée avec succès sous /home/mouhammed/Images/image_serapi/images_67.jpeg\n",
      "Image 68 de Toyota enregistrée avec succès sous /home/mouhammed/Images/image_serapi/images_68.jpeg\n",
      "Image 69 de Toyota enregistrée avec succès sous /home/mouhammed/Images/image_serapi/images_69.jpeg\n",
      "Image 70 de Toyota enregistrée avec succès sous /home/mouhammed/Images/image_serapi/images_70.jpeg\n",
      "Échec du téléchargement de l'image 71 de Toyota depuis https://cdnwp.dealerk.com/4253a2f9/uploads/sites/49/2023/09/renault-captur-2019-promo.jpg.\n",
      "Image 72 de Toyota enregistrée avec succès sous /home/mouhammed/Images/image_serapi/images_72.jpeg\n",
      "Image 73 de Toyota enregistrée avec succès sous /home/mouhammed/Images/image_serapi/images_73.jpeg\n",
      "Image 74 de Toyota enregistrée avec succès sous /home/mouhammed/Images/image_serapi/images_74.jpeg\n"
     ]
    },
    {
     "name": "stdout",
     "output_type": "stream",
     "text": [
      "Image 75 de Toyota enregistrée avec succès sous /home/mouhammed/Images/image_serapi/images_75.jpeg\n",
      "Image 76 de Toyota enregistrée avec succès sous /home/mouhammed/Images/image_serapi/images_76.jpeg\n",
      "Image 77 de Toyota enregistrée avec succès sous /home/mouhammed/Images/image_serapi/images_77.jpeg\n",
      "Image 78 de Toyota enregistrée avec succès sous /home/mouhammed/Images/image_serapi/images_78.jpeg\n",
      "Image 79 de Toyota enregistrée avec succès sous /home/mouhammed/Images/image_serapi/images_79.jpeg\n",
      "Échec du téléchargement de l'image 80 de Toyota depuis https://imgd-ct.aeplcdn.com/664x415/n/cw/ec/47028/duster-exterior-left-front-three-quarter.jpeg?q=80.\n",
      "Image 81 de Toyota enregistrée avec succès sous /home/mouhammed/Images/image_serapi/images_81.jpeg\n",
      "Échec du téléchargement de l'image 82 de Toyota depuis https://www.motortrend.com/uploads/sites/25/2017/03/Alpine-A110-Teaser-2.jpg?fit=around%7C875:492.\n",
      "Image 83 de Toyota enregistrée avec succès sous /home/mouhammed/Images/image_serapi/images_83.jpeg\n",
      "Image 84 de Toyota enregistrée avec succès sous /home/mouhammed/Images/image_serapi/images_84.jpeg\n",
      "Image 85 de Toyota enregistrée avec succès sous /home/mouhammed/Images/image_serapi/images_85.jpeg\n",
      "Image 86 de Toyota enregistrée avec succès sous /home/mouhammed/Images/image_serapi/images_86.jpeg\n",
      "Image 87 de Toyota enregistrée avec succès sous /home/mouhammed/Images/image_serapi/images_87.jpeg\n",
      "Image 88 de Toyota enregistrée avec succès sous /home/mouhammed/Images/image_serapi/images_88.jpeg\n",
      "Image 89 de Toyota enregistrée avec succès sous /home/mouhammed/Images/image_serapi/images_89.jpeg\n",
      "Image 90 de Toyota enregistrée avec succès sous /home/mouhammed/Images/image_serapi/images_90.jpeg\n",
      "Image 91 de Toyota enregistrée avec succès sous /home/mouhammed/Images/image_serapi/images_91.jpeg\n",
      "Image 92 de Toyota enregistrée avec succès sous /home/mouhammed/Images/image_serapi/images_92.jpeg\n",
      "Image 93 de Toyota enregistrée avec succès sous /home/mouhammed/Images/image_serapi/images_93.jpeg\n",
      "Image 94 de Toyota enregistrée avec succès sous /home/mouhammed/Images/image_serapi/images_94.jpeg\n",
      "Échec du téléchargement de l'image 95 de Toyota depuis https://www.topgear.com/sites/default/files/2023/06/Renault_AustralE_2023_0027.jpg.\n",
      "Image 96 de Toyota enregistrée avec succès sous /home/mouhammed/Images/image_serapi/images_96.jpeg\n",
      "Image 97 de Toyota enregistrée avec succès sous /home/mouhammed/Images/image_serapi/images_97.jpeg\n",
      "Image 98 de Toyota enregistrée avec succès sous /home/mouhammed/Images/image_serapi/images_98.jpeg\n",
      "Échec du téléchargement de l'image 99 de Toyota depuis https://www.evanshalshaw.com/-/media/evanshalshaw/renault/5-year-warranty/2023-update-3-year-warranty/renault-3-year-warranty-720x405px.ashx.\n",
      "Image 100 de Toyota enregistrée avec succès sous /home/mouhammed/Images/image_serapi/images_100.jpeg\n"
     ]
    }
   ],
   "source": [
    "destination_directory=\"/home/mouhammed/Images/image_serapi/\"\n",
    "for i, result in enumerate(results['images_results']):\n",
    "    url_image = result['original']\n",
    "    \n",
    "    try:\n",
    "        response = requests.get(url_image)\n",
    "        \n",
    "        if response.status_code == 200:\n",
    "            image_filename = os.path.join(destination_directory, f\"images_{i+1}.jpeg\")\n",
    "            \n",
    "            with open(image_filename, 'wb') as f:\n",
    "                f.write(response.content)\n",
    "            \n",
    "            print(f\"Image {i+1} de Toyota enregistrée avec succès sous {image_filename}\")\n",
    "        else:\n",
    "            print(f\"Échec du téléchargement de l'image {i+1} de Toyota depuis {url_image}.\")\n",
    "    except Exception as e:\n",
    "        print(f\"Une erreur s'est produite lors du téléchargement de l'image {i+1} de Toyota : {str(e)}\")\n"
   ]
  },
  {
   "cell_type": "code",
   "execution_count": 4,
   "id": "16095705",
   "metadata": {},
   "outputs": [],
   "source": [
    "from PIL import Image\n",
    "import numpy as np"
   ]
  },
  {
   "cell_type": "markdown",
   "id": "ff7d3ff5",
   "metadata": {},
   "source": [
    "## Chemins vers les répertoires des différentes classes"
   ]
  },
  {
   "cell_type": "code",
   "execution_count": 5,
   "id": "5f397d5b",
   "metadata": {},
   "outputs": [],
   "source": [
    "chemin_camion = \"chemin/vers/repertoire_camion\"\n",
    "chemin_taxi = \"chemin/vers/repertoire_taxi\"\n",
    "chemin_autre = \"chemin/vers/repertoire_autre\""
   ]
  },
  {
   "cell_type": "code",
   "execution_count": 6,
   "id": "0b56a20a",
   "metadata": {},
   "outputs": [],
   "source": [
    "def load_images(directory, label):\n",
    "    data = []  # Une liste de paires (image, label)\n",
    "    for filename in os.listdir(directory):\n",
    "        if filename.endswith(\".jpeg\"):\n",
    "            img = Image.open(os.path.join(directory, filename))\n",
    "            img = img.resize((64, 64))  # Redimensionner les images à une taille fixe\n",
    "            img_array = np.array(img)\n",
    "            \n",
    "            # Vérifier si les dimensions de l'image sont correctes (64x64 pixels)\n",
    "            if img_array.shape == (64, 64, 3):  # Assurez-vous que les images sont en couleur (3 canaux)\n",
    "                data.append((img_array, label))\n",
    "            else:\n",
    "                print(f\"Ignorée : {filename} - dimensions incorrectes : {img_array.shape}\")\n",
    "    return data "
   ]
  },
  {
   "cell_type": "code",
   "execution_count": 7,
   "id": "714cfb7b",
   "metadata": {},
   "outputs": [],
   "source": [
    "types_voitures={\n",
    "    0:\"camion\",\n",
    "    1:\"taxi\",\n",
    "    2:\"autre\"\n",
    "}"
   ]
  },
  {
   "cell_type": "markdown",
   "id": "651ce66a",
   "metadata": {},
   "source": [
    "## Charger les images pour chaque classe"
   ]
  },
  {
   "cell_type": "code",
   "execution_count": 8,
   "id": "2bda6fb6",
   "metadata": {},
   "outputs": [
    {
     "name": "stdout",
     "output_type": "stream",
     "text": [
      "Ignorée : image_22.jpeg - dimensions incorrectes : (64, 64, 4)\n",
      "Ignorée : image_48.jpeg - dimensions incorrectes : (64, 64)\n",
      "Ignorée : imagess_5.jpeg - dimensions incorrectes : (64, 64, 4)\n",
      "Ignorée : imagess_2.jpeg - dimensions incorrectes : (64, 64)\n",
      "Ignorée : image_22.jpeg - dimensions incorrectes : (64, 64, 4)\n",
      "Ignorée : image_48.jpeg - dimensions incorrectes : (64, 64)\n",
      "Ignorée : imagess_5.jpeg - dimensions incorrectes : (64, 64, 4)\n",
      "Ignorée : imagess_2.jpeg - dimensions incorrectes : (64, 64)\n",
      "Ignorée : images_25.jpeg - dimensions incorrectes : (64, 64)\n",
      "Ignorée : image_3.jpeg - dimensions incorrectes : (64, 64)\n",
      "Ignorée : images_50.jpeg - dimensions incorrectes : (64, 64)\n",
      "Ignorée : images_68.jpeg - dimensions incorrectes : (64, 64)\n",
      "Ignorée : image_2.jpeg - dimensions incorrectes : (64, 64)\n",
      "Ignorée : images_24.jpeg - dimensions incorrectes : (64, 64, 4)\n",
      "Ignorée : images_81.jpeg - dimensions incorrectes : (64, 64)\n"
     ]
    }
   ],
   "source": [
    "image_camion=load_images(chemin_camion,0)\n",
    "image_taxi=load_images(chemin_taxi,1)\n",
    "image_autre=load_images(chemin_autre,2)"
   ]
  },
  {
   "cell_type": "code",
   "execution_count": 9,
   "id": "b822f673",
   "metadata": {},
   "outputs": [],
   "source": [
    "data=image_autre+image_camion+image_taxi\n"
   ]
  },
  {
   "cell_type": "code",
   "execution_count": null,
   "id": "288d0c54",
   "metadata": {},
   "outputs": [],
   "source": []
  },
  {
   "cell_type": "code",
   "execution_count": 10,
   "id": "8bdad9cf",
   "metadata": {},
   "outputs": [],
   "source": [
    "from sklearn.model_selection import train_test_split"
   ]
  },
  {
   "cell_type": "code",
   "execution_count": 11,
   "id": "22722030",
   "metadata": {},
   "outputs": [],
   "source": [
    "images,labels= zip(*data)"
   ]
  },
  {
   "cell_type": "code",
   "execution_count": 12,
   "id": "3d9f40bc",
   "metadata": {},
   "outputs": [],
   "source": [
    "images = np.array(images)\n",
    "labels = np.array(labels)"
   ]
  },
  {
   "cell_type": "code",
   "execution_count": 13,
   "id": "a38a0b88",
   "metadata": {},
   "outputs": [],
   "source": [
    "from tensorflow.image import resize"
   ]
  },
  {
   "cell_type": "code",
   "execution_count": 14,
   "id": "9ec538e2",
   "metadata": {},
   "outputs": [],
   "source": [
    "all_x_train,all_x_test,all_y_train,y_test=train_test_split(images,labels)"
   ]
  },
  {
   "cell_type": "code",
   "execution_count": 15,
   "id": "bebf2789",
   "metadata": {},
   "outputs": [],
   "source": [
    "x_train,x_validation,y_train,y_validation=train_test_split(all_x_train,all_y_train)"
   ]
  },
  {
   "cell_type": "markdown",
   "id": "f9bf3494",
   "metadata": {},
   "source": [
    "## Redimensionner les images à une taille de (32, 32)"
   ]
  },
  {
   "cell_type": "code",
   "execution_count": 16,
   "id": "2021fff3",
   "metadata": {},
   "outputs": [],
   "source": [
    "x_train = resize(x_train, (32, 32))\n",
    "x_validation= resize(x_validation, (32, 32))"
   ]
  },
  {
   "cell_type": "code",
   "execution_count": 17,
   "id": "5997d6b8",
   "metadata": {},
   "outputs": [
    {
     "data": {
      "text/plain": [
       "TensorShape([87, 32, 32, 3])"
      ]
     },
     "execution_count": 17,
     "metadata": {},
     "output_type": "execute_result"
    }
   ],
   "source": [
    "x_train.shape"
   ]
  },
  {
   "cell_type": "markdown",
   "id": "5c60e18a",
   "metadata": {},
   "source": [
    "## Normaliser les valeurs des pixels entre 0 et 1"
   ]
  },
  {
   "cell_type": "code",
   "execution_count": 18,
   "id": "39f21859",
   "metadata": {},
   "outputs": [],
   "source": [
    "x_train=x_train/255\n",
    "x_val=x_validation/255"
   ]
  },
  {
   "cell_type": "code",
   "execution_count": 19,
   "id": "3d508f70",
   "metadata": {},
   "outputs": [],
   "source": [
    "x_test=all_x_test/255"
   ]
  },
  {
   "cell_type": "code",
   "execution_count": 20,
   "id": "f510e70a",
   "metadata": {},
   "outputs": [],
   "source": [
    "from tensorflow import keras"
   ]
  },
  {
   "cell_type": "markdown",
   "id": "6be294e9",
   "metadata": {},
   "source": [
    "## Construire le modèle CNN"
   ]
  },
  {
   "cell_type": "code",
   "execution_count": 22,
   "id": "4b8c889c",
   "metadata": {},
   "outputs": [],
   "source": [
    "model = Sequential()\n",
    "model.add(Conv2D(32, (3, 3), padding=\"same\", activation=\"relu\", input_shape=(32, 32, 3)))\n",
    "model.add(Conv2D(32, (3, 3), activation=\"relu\"))\n",
    "model.add(MaxPooling2D(pool_size=(2, 2)))\n",
    "model.add(Dropout(0.25))\n",
    "\n",
    "model.add(Conv2D(64, (3, 3), padding=\"same\", activation=\"relu\"))\n",
    "model.add(Conv2D(64, (3, 3), activation=\"relu\"))\n",
    "model.add(MaxPooling2D(pool_size=(2, 2)))\n",
    "model.add(Dropout(0.25))\n",
    "\n",
    "model.add(Flatten())\n",
    "model.add(Dense(500, activation=\"relu\"))\n",
    "model.add(Dense(250, activation=\"relu\"))\n",
    "model.add(Dense(150, activation=\"relu\"))\n",
    "model.add(Dropout(0.5))\n",
    "\n",
    "model.add(Dense(3, activation=\"softmax\"))\n",
    "\n",
    "\n"
   ]
  },
  {
   "cell_type": "markdown",
   "id": "8758cdcf",
   "metadata": {},
   "source": [
    "##  Compiler le modèle"
   ]
  },
  {
   "cell_type": "code",
   "execution_count": 23,
   "id": "228b0fcf",
   "metadata": {},
   "outputs": [],
   "source": [
    "model.compile(optimizer=Adam(lr=0.001), loss=\"sparse_categorical_crossentropy\", metrics=[\"accuracy\"])"
   ]
  },
  {
   "cell_type": "code",
   "execution_count": 24,
   "id": "8c5a9be9",
   "metadata": {
    "scrolled": true
   },
   "outputs": [
    {
     "name": "stdout",
     "output_type": "stream",
     "text": [
      "Epoch 1/30\n"
     ]
    },
    {
     "name": "stderr",
     "output_type": "stream",
     "text": [
      "/home/mouhammed/anaconda3/envs/tensorflows/lib/python3.8/site-packages/tensorflow/python/util/dispatch.py:1176: SyntaxWarning: In loss categorical_crossentropy, expected y_pred.shape to be (batch_size, num_classes) with num_classes > 1. Received: y_pred.shape=(None, 1). Consider using 'binary_crossentropy' if you only have 2 classes.\n",
      "  return dispatch_target(*args, **kwargs)\n"
     ]
    },
    {
     "name": "stdout",
     "output_type": "stream",
     "text": [
      "3/3 [==============================] - 1s 123ms/step - loss: 0.0000e+00 - accuracy: 0.2529 - val_loss: 0.0000e+00 - val_accuracy: 0.2069\n",
      "Epoch 2/30\n",
      "3/3 [==============================] - 0s 25ms/step - loss: 0.0000e+00 - accuracy: 0.2529 - val_loss: 0.0000e+00 - val_accuracy: 0.2069\n",
      "Epoch 3/30\n",
      "3/3 [==============================] - 0s 24ms/step - loss: 0.0000e+00 - accuracy: 0.2529 - val_loss: 0.0000e+00 - val_accuracy: 0.2069\n",
      "Epoch 4/30\n",
      "3/3 [==============================] - 0s 25ms/step - loss: 0.0000e+00 - accuracy: 0.2529 - val_loss: 0.0000e+00 - val_accuracy: 0.2069\n",
      "Epoch 5/30\n",
      "3/3 [==============================] - 0s 23ms/step - loss: 0.0000e+00 - accuracy: 0.2529 - val_loss: 0.0000e+00 - val_accuracy: 0.2069\n",
      "Epoch 6/30\n",
      "3/3 [==============================] - 0s 25ms/step - loss: 0.0000e+00 - accuracy: 0.2529 - val_loss: 0.0000e+00 - val_accuracy: 0.2069\n",
      "Epoch 7/30\n",
      "3/3 [==============================] - 0s 24ms/step - loss: 0.0000e+00 - accuracy: 0.2529 - val_loss: 0.0000e+00 - val_accuracy: 0.2069\n",
      "Epoch 8/30\n",
      "3/3 [==============================] - 0s 23ms/step - loss: 0.0000e+00 - accuracy: 0.2529 - val_loss: 0.0000e+00 - val_accuracy: 0.2069\n",
      "Epoch 9/30\n",
      "3/3 [==============================] - 0s 23ms/step - loss: 0.0000e+00 - accuracy: 0.2529 - val_loss: 0.0000e+00 - val_accuracy: 0.2069\n",
      "Epoch 10/30\n",
      "3/3 [==============================] - 0s 23ms/step - loss: 0.0000e+00 - accuracy: 0.2529 - val_loss: 0.0000e+00 - val_accuracy: 0.2069\n",
      "Epoch 11/30\n",
      "3/3 [==============================] - 0s 24ms/step - loss: 0.0000e+00 - accuracy: 0.2529 - val_loss: 0.0000e+00 - val_accuracy: 0.2069\n",
      "Epoch 12/30\n",
      "3/3 [==============================] - 0s 23ms/step - loss: 0.0000e+00 - accuracy: 0.2529 - val_loss: 0.0000e+00 - val_accuracy: 0.2069\n",
      "Epoch 13/30\n",
      "3/3 [==============================] - 0s 24ms/step - loss: 0.0000e+00 - accuracy: 0.2529 - val_loss: 0.0000e+00 - val_accuracy: 0.2069\n",
      "Epoch 14/30\n",
      "3/3 [==============================] - 0s 23ms/step - loss: 0.0000e+00 - accuracy: 0.2529 - val_loss: 0.0000e+00 - val_accuracy: 0.2069\n",
      "Epoch 15/30\n",
      "3/3 [==============================] - 0s 23ms/step - loss: 0.0000e+00 - accuracy: 0.2529 - val_loss: 0.0000e+00 - val_accuracy: 0.2069\n",
      "Epoch 16/30\n",
      "3/3 [==============================] - 0s 24ms/step - loss: 0.0000e+00 - accuracy: 0.2529 - val_loss: 0.0000e+00 - val_accuracy: 0.2069\n",
      "Epoch 17/30\n",
      "3/3 [==============================] - 0s 24ms/step - loss: 0.0000e+00 - accuracy: 0.2529 - val_loss: 0.0000e+00 - val_accuracy: 0.2069\n",
      "Epoch 18/30\n",
      "3/3 [==============================] - 0s 23ms/step - loss: 0.0000e+00 - accuracy: 0.2529 - val_loss: 0.0000e+00 - val_accuracy: 0.2069\n",
      "Epoch 19/30\n",
      "3/3 [==============================] - 0s 24ms/step - loss: 0.0000e+00 - accuracy: 0.2529 - val_loss: 0.0000e+00 - val_accuracy: 0.2069\n",
      "Epoch 20/30\n",
      "3/3 [==============================] - 0s 23ms/step - loss: 0.0000e+00 - accuracy: 0.2529 - val_loss: 0.0000e+00 - val_accuracy: 0.2069\n",
      "Epoch 21/30\n",
      "3/3 [==============================] - 0s 24ms/step - loss: 0.0000e+00 - accuracy: 0.2529 - val_loss: 0.0000e+00 - val_accuracy: 0.2069\n",
      "Epoch 22/30\n",
      "3/3 [==============================] - 0s 23ms/step - loss: 0.0000e+00 - accuracy: 0.2529 - val_loss: 0.0000e+00 - val_accuracy: 0.2069\n",
      "Epoch 23/30\n",
      "3/3 [==============================] - 0s 24ms/step - loss: 0.0000e+00 - accuracy: 0.2529 - val_loss: 0.0000e+00 - val_accuracy: 0.2069\n",
      "Epoch 24/30\n",
      "3/3 [==============================] - 0s 24ms/step - loss: 0.0000e+00 - accuracy: 0.2529 - val_loss: 0.0000e+00 - val_accuracy: 0.2069\n",
      "Epoch 25/30\n",
      "3/3 [==============================] - 0s 25ms/step - loss: 0.0000e+00 - accuracy: 0.2529 - val_loss: 0.0000e+00 - val_accuracy: 0.2069\n",
      "Epoch 26/30\n",
      "3/3 [==============================] - 0s 24ms/step - loss: 0.0000e+00 - accuracy: 0.2529 - val_loss: 0.0000e+00 - val_accuracy: 0.2069\n",
      "Epoch 27/30\n",
      "3/3 [==============================] - 0s 24ms/step - loss: 0.0000e+00 - accuracy: 0.2529 - val_loss: 0.0000e+00 - val_accuracy: 0.2069\n",
      "Epoch 28/30\n",
      "3/3 [==============================] - 0s 24ms/step - loss: 0.0000e+00 - accuracy: 0.2529 - val_loss: 0.0000e+00 - val_accuracy: 0.2069\n",
      "Epoch 29/30\n",
      "3/3 [==============================] - 0s 28ms/step - loss: 0.0000e+00 - accuracy: 0.2529 - val_loss: 0.0000e+00 - val_accuracy: 0.2069\n",
      "Epoch 30/30\n",
      "3/3 [==============================] - 0s 23ms/step - loss: 0.0000e+00 - accuracy: 0.2529 - val_loss: 0.0000e+00 - val_accuracy: 0.2069\n"
     ]
    },
    {
     "data": {
      "text/plain": [
       "<keras.src.callbacks.History at 0x7fe458348190>"
      ]
     },
     "execution_count": 24,
     "metadata": {},
     "output_type": "execute_result"
    }
   ],
   "source": [
    "model.fit(x_train,y_train,\\\n",
    "                   batch_size=32,\\\n",
    "                   epochs=30,\\\n",
    "                   validation_data=[x_val, y_validation],\\\n",
    "                   shuffle=True)"
   ]
  },
  {
   "cell_type": "code",
   "execution_count": 25,
   "id": "ecd52c1f",
   "metadata": {},
   "outputs": [],
   "source": [
    "x_test= resize(x_test, (32, 32))"
   ]
  },
  {
   "cell_type": "code",
   "execution_count": 26,
   "id": "90164aa3",
   "metadata": {},
   "outputs": [
    {
     "name": "stdout",
     "output_type": "stream",
     "text": [
      "2/2 [==============================] - 0s 5ms/step - loss: 0.0000e+00 - accuracy: 0.2821\n"
     ]
    },
    {
     "data": {
      "text/plain": [
       "[0.0, 0.28205129504203796]"
      ]
     },
     "execution_count": 26,
     "metadata": {},
     "output_type": "execute_result"
    }
   ],
   "source": [
    "model.evaluate(x_test,y_test)"
   ]
  },
  {
   "cell_type": "code",
   "execution_count": null,
   "id": "80447d1a",
   "metadata": {},
   "outputs": [],
   "source": []
  }
 ],
 "metadata": {
  "kernelspec": {
   "display_name": "Python 3 (ipykernel)",
   "language": "python",
   "name": "python3"
  },
  "language_info": {
   "codemirror_mode": {
    "name": "ipython",
    "version": 3
   },
   "file_extension": ".py",
   "mimetype": "text/x-python",
   "name": "python",
   "nbconvert_exporter": "python",
   "pygments_lexer": "ipython3",
   "version": "3.9.13"
  }
 },
 "nbformat": 4,
 "nbformat_minor": 5
}
