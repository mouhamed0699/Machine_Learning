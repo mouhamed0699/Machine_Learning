{
 "cells": [
  {
   "cell_type": "markdown",
   "id": "40469dc8",
   "metadata": {},
   "source": [
    "#  Projet de machine learning sur les Etats de Prêt d'une Banque"
   ]
  },
  {
   "cell_type": "code",
   "execution_count": 1,
   "id": "d95167a0",
   "metadata": {},
   "outputs": [],
   "source": [
    "import pandas as pd\n",
    "import seaborn as sns\n",
    "import matplotlib.pyplot as plt\n",
    "import numpy as np"
   ]
  },
  {
   "cell_type": "code",
   "execution_count": 2,
   "id": "2e6eb27e",
   "metadata": {},
   "outputs": [],
   "source": [
    "# importation de notre dataset\n",
    "df=pd.read_csv(\"archive(4)/training_set.csv\")"
   ]
  },
  {
   "cell_type": "markdown",
   "id": "c682f855",
   "metadata": {},
   "source": []
  },
  {
   "cell_type": "markdown",
   "id": "24cad07b",
   "metadata": {},
   "source": [
    "### Visualisation de l'entête de notre dataset"
   ]
  },
  {
   "cell_type": "code",
   "execution_count": 3,
   "id": "da5a2aef",
   "metadata": {},
   "outputs": [
    {
     "data": {
      "text/html": [
       "<div>\n",
       "<style scoped>\n",
       "    .dataframe tbody tr th:only-of-type {\n",
       "        vertical-align: middle;\n",
       "    }\n",
       "\n",
       "    .dataframe tbody tr th {\n",
       "        vertical-align: top;\n",
       "    }\n",
       "\n",
       "    .dataframe thead th {\n",
       "        text-align: right;\n",
       "    }\n",
       "</style>\n",
       "<table border=\"1\" class=\"dataframe\">\n",
       "  <thead>\n",
       "    <tr style=\"text-align: right;\">\n",
       "      <th></th>\n",
       "      <th>Loan_ID</th>\n",
       "      <th>Gender</th>\n",
       "      <th>Married</th>\n",
       "      <th>Dependents</th>\n",
       "      <th>Education</th>\n",
       "      <th>Self_Employed</th>\n",
       "      <th>ApplicantIncome</th>\n",
       "      <th>CoapplicantIncome</th>\n",
       "      <th>LoanAmount</th>\n",
       "      <th>Loan_Amount_Term</th>\n",
       "      <th>Credit_History</th>\n",
       "      <th>property_Area</th>\n",
       "      <th>Loan_Status</th>\n",
       "    </tr>\n",
       "  </thead>\n",
       "  <tbody>\n",
       "    <tr>\n",
       "      <th>0</th>\n",
       "      <td>LP001002</td>\n",
       "      <td>Male</td>\n",
       "      <td>No</td>\n",
       "      <td>0</td>\n",
       "      <td>Graduate</td>\n",
       "      <td>No</td>\n",
       "      <td>5849.0</td>\n",
       "      <td>0.0</td>\n",
       "      <td>NaN</td>\n",
       "      <td>360.0</td>\n",
       "      <td>1.0</td>\n",
       "      <td>Urban</td>\n",
       "      <td>Y</td>\n",
       "    </tr>\n",
       "    <tr>\n",
       "      <th>1</th>\n",
       "      <td>LP001003</td>\n",
       "      <td>Male</td>\n",
       "      <td>Yes</td>\n",
       "      <td>1</td>\n",
       "      <td>Graduate</td>\n",
       "      <td>No</td>\n",
       "      <td>NaN</td>\n",
       "      <td>1508.0</td>\n",
       "      <td>128.0</td>\n",
       "      <td>360.0</td>\n",
       "      <td>1.0</td>\n",
       "      <td>Rural</td>\n",
       "      <td>N</td>\n",
       "    </tr>\n",
       "    <tr>\n",
       "      <th>2</th>\n",
       "      <td>LP001005</td>\n",
       "      <td>Male</td>\n",
       "      <td>Yes</td>\n",
       "      <td>0</td>\n",
       "      <td>Graduate</td>\n",
       "      <td>Yes</td>\n",
       "      <td>3000.0</td>\n",
       "      <td>0.0</td>\n",
       "      <td>66.0</td>\n",
       "      <td>360.0</td>\n",
       "      <td>1.0</td>\n",
       "      <td>Urban</td>\n",
       "      <td>Y</td>\n",
       "    </tr>\n",
       "  </tbody>\n",
       "</table>\n",
       "</div>"
      ],
      "text/plain": [
       "    Loan_ID Gender Married Dependents Education Self_Employed  \\\n",
       "0  LP001002   Male      No          0  Graduate            No   \n",
       "1  LP001003   Male     Yes          1  Graduate            No   \n",
       "2  LP001005   Male     Yes          0  Graduate           Yes   \n",
       "\n",
       "   ApplicantIncome  CoapplicantIncome  LoanAmount  Loan_Amount_Term  \\\n",
       "0           5849.0                0.0         NaN             360.0   \n",
       "1              NaN             1508.0       128.0             360.0   \n",
       "2           3000.0                0.0        66.0             360.0   \n",
       "\n",
       "   Credit_History property_Area Loan_Status  \n",
       "0             1.0         Urban           Y  \n",
       "1             1.0         Rural           N  \n",
       "2             1.0         Urban           Y  "
      ]
     },
     "execution_count": 3,
     "metadata": {},
     "output_type": "execute_result"
    }
   ],
   "source": [
    "# visualisation de l'entête de nos données\n",
    "df.head(3)"
   ]
  },
  {
   "cell_type": "markdown",
   "id": "29c1d2da",
   "metadata": {},
   "source": [
    "## 1.Exploration des données"
   ]
  },
  {
   "cell_type": "markdown",
   "id": "55beb5da",
   "metadata": {},
   "source": [
    "### 1.b) Analyse de forme"
   ]
  },
  {
   "cell_type": "markdown",
   "id": "72f59785",
   "metadata": {},
   "source": [
    "#### . Signification des variables\n",
    "  - **Loan_ID**: est l'identifiant(numéro de credit) de l'emprunteur\n",
    "  - __Gender__: est le sex de l'emprunteur\n",
    "  - __Married__: est la situation matrimoniale\n",
    "  - __Self_Employed__: montre si l'emprunteur travail pour son compte ou non\n",
    "  - __ApplicantIncom__: est le revenu de l'emprunteur\n",
    "  - __CoapplicantIncome__: est le revenue du co-demandeur\n",
    "  - __Dependants__: le nombre d'enfant de la personne\n",
    "  - __Education__: montre si l'emprunteur a fait des etudes ou non \n",
    "  - __loanAmount__: Le Montant demander\n",
    "  - __Loan_Amount_Term__: Durée du Pret\n",
    "  - __Credit_History__: historique du credit de l'empunteur\n",
    "  - __Property_Area__: zone d'habitation de l'emprunteur\n",
    "  - __Loan_Status__:  Etat du Prêt"
   ]
  },
  {
   "cell_type": "markdown",
   "id": "3c62277f",
   "metadata": {},
   "source": [
    "#### -Variable Target est Loan_Statut"
   ]
  },
  {
   "cell_type": "markdown",
   "id": "0ab807b9",
   "metadata": {},
   "source": [
    "#### - Dimension du Dataset"
   ]
  },
  {
   "cell_type": "code",
   "execution_count": 4,
   "id": "c766012f",
   "metadata": {},
   "outputs": [
    {
     "data": {
      "text/plain": [
       "(614, 13)"
      ]
     },
     "execution_count": 4,
     "metadata": {},
     "output_type": "execute_result"
    }
   ],
   "source": [
    "df.shape"
   ]
  },
  {
   "cell_type": "markdown",
   "id": "32435c8e",
   "metadata": {},
   "source": [
    "#### -valeur manquante"
   ]
  },
  {
   "cell_type": "code",
   "execution_count": 5,
   "id": "bf592f6a",
   "metadata": {},
   "outputs": [
    {
     "data": {
      "text/plain": [
       "Loan_ID              0.000000\n",
       "Gender               0.024430\n",
       "Married              0.004886\n",
       "Dependents           0.024430\n",
       "Education            0.001629\n",
       "Self_Employed        0.052117\n",
       "ApplicantIncome      0.003257\n",
       "CoapplicantIncome    0.001629\n",
       "LoanAmount           0.035831\n",
       "Loan_Amount_Term     0.022801\n",
       "Credit_History       0.081433\n",
       "property_Area        0.000000\n",
       "Loan_Status          0.000000\n",
       "dtype: float64"
      ]
     },
     "execution_count": 5,
     "metadata": {},
     "output_type": "execute_result"
    }
   ],
   "source": [
    "# visualisation des valeurs manquantes\n",
    "df.isna().sum()/df.shape[0]"
   ]
  },
  {
   "cell_type": "code",
   "execution_count": 6,
   "id": "c9fd723a",
   "metadata": {},
   "outputs": [
    {
     "data": {
      "text/plain": [
       "<AxesSubplot:>"
      ]
     },
     "execution_count": 6,
     "metadata": {},
     "output_type": "execute_result"
    },
    {
     "data": {
      "image/png": "[encoded data removed]",
      "text/plain": [
       "<Figure size 2000x500 with 1 Axes>"
      ]
     },
     "metadata": {},
     "output_type": "display_data"
    }
   ],
   "source": [
    "# visualisation des valeurs manquantes sur une figure\n",
    "plt.figure(figsize=(20,5))\n",
    "sns.heatmap(df.isna(),cbar=False)"
   ]
  },
  {
   "cell_type": "markdown",
   "id": "e6490ca2",
   "metadata": {},
   "source": [
    "En examinant les valeurs manquantes dans notre jeu de données, nous constatons que la plupart des variables ont très peu de valeurs manquantes, soit moins de 5%. Par exemple, la variable \"Gender\" présente des valeurs manquantes pour environ 2,44% des cas, et la variable \"Credit_History\" pour environ 8,14% des cas. Ces pourcentages relativement bas indiquent que notre ensemble de données est assez complet, ce qui est encourageant pour notre analyse. Cependant, il est essentiel de décider judicieusement de la manière de traiter ces valeurs manquantes pour garantir l'exactitude de nos résultats tout au long de l'analyse."
   ]
  },
  {
   "cell_type": "code",
   "execution_count": 7,
   "id": "efb19d1f",
   "metadata": {},
   "outputs": [
    {
     "data": {
      "text/plain": [
       "Loan_ID               object\n",
       "Gender                object\n",
       "Married               object\n",
       "Dependents            object\n",
       "Education             object\n",
       "Self_Employed         object\n",
       "ApplicantIncome      float64\n",
       "CoapplicantIncome    float64\n",
       "LoanAmount           float64\n",
       "Loan_Amount_Term     float64\n",
       "Credit_History       float64\n",
       "property_Area         object\n",
       "Loan_Status           object\n",
       "dtype: object"
      ]
     },
     "execution_count": 7,
     "metadata": {},
     "output_type": "execute_result"
    }
   ],
   "source": [
    "# determination des types de valeurs\n",
    "df.dtypes"
   ]
  },
  {
   "cell_type": "markdown",
   "id": "69994011",
   "metadata": {},
   "source": [
    "On a deux types de variables qui sont : variables quantitatives et qualitatives"
   ]
  },
  {
   "cell_type": "markdown",
   "id": "f3ea1544",
   "metadata": {},
   "source": [
    "### 1.b) Analyse de fond"
   ]
  },
  {
   "cell_type": "markdown",
   "id": "34b0d3f7",
   "metadata": {},
   "source": [
    "### Valeur Aberante"
   ]
  },
  {
   "cell_type": "code",
   "execution_count": 12,
   "id": "399d7464",
   "metadata": {},
   "outputs": [
    {
     "data": {
      "image/png": "[encoded data removed]",
      "text/plain": [
       "<Figure size 640x480 with 1 Axes>"
      ]
     },
     "metadata": {},
     "output_type": "display_data"
    },
    {
     "data": {
      "image/png": "[encoded data removed]",
      "text/plain": [
       "<Figure size 640x480 with 1 Axes>"
      ]
     },
     "metadata": {},
     "output_type": "display_data"
    },
    {
     "data": {
      "image/png": "[encoded data removed]",
      "text/plain": [
       "<Figure size 640x480 with 1 Axes>"
      ]
     },
     "metadata": {},
     "output_type": "display_data"
    }
   ],
   "source": [
    "column_number=['ApplicantIncome','CoapplicantIncome','LoanAmount']\n",
    "\n",
    "for col in column_number:\n",
    "    sns.boxplot(x=df[col])\n",
    "    plt.show()"
   ]
  },
  {
   "cell_type": "code",
   "execution_count": 13,
   "id": "246466a3",
   "metadata": {},
   "outputs": [],
   "source": [
    "Q1=df['LoanAmount'].quantile(0.25)\n",
    "Q3=df['LoanAmount'].quantile(0.75)\n",
    "\n",
    "IQR=Q3-Q1\n",
    "borne_inferieur=Q1-1.5*IQR\n",
    "borne_superieur=Q3+1.5*IQR\n",
    "\n",
    "df_aberante_LoanAmount=df[(df['LoanAmount']<borne_inferieur) | (df['LoanAmount']>borne_superieur)]"
   ]
  },
  {
   "cell_type": "code",
   "execution_count": 14,
   "id": "d5afa6eb",
   "metadata": {},
   "outputs": [
    {
     "data": {
      "text/plain": [
       "(39, 13)"
      ]
     },
     "execution_count": 14,
     "metadata": {},
     "output_type": "execute_result"
    }
   ],
   "source": [
    "df_aberante_LoanAmount.shape"
   ]
  },
  {
   "cell_type": "code",
   "execution_count": 15,
   "id": "67ea173c",
   "metadata": {},
   "outputs": [],
   "source": [
    "Q1=df['ApplicantIncome'].quantile(0.25)\n",
    "Q3=df['ApplicantIncome'].quantile(0.75)\n",
    "\n",
    "IQR=Q3-Q1\n",
    "borne_inferieur=Q1-1.5*IQR\n",
    "borne_superieur=Q3+1.5*IQR\n",
    "\n",
    "df_aberante_ApplicantIncome=df[(df['ApplicantIncome']<borne_inferieur) | (df['ApplicantIncome']>borne_superieur)]"
   ]
  },
  {
   "cell_type": "code",
   "execution_count": 16,
   "id": "54cf695d",
   "metadata": {},
   "outputs": [
    {
     "data": {
      "text/plain": [
       "(50, 13)"
      ]
     },
     "execution_count": 16,
     "metadata": {},
     "output_type": "execute_result"
    }
   ],
   "source": [
    "df_aberante_ApplicantIncome.shape"
   ]
  },
  {
   "cell_type": "code",
   "execution_count": 17,
   "id": "c984a0a0",
   "metadata": {},
   "outputs": [],
   "source": [
    "Q1=df['CoapplicantIncome'].quantile(0.25)\n",
    "Q3=df['CoapplicantIncome'].quantile(0.75)\n",
    "\n",
    "IQR=Q3-Q1\n",
    "borne_inferieur=Q1-1.5*IQR\n",
    "borne_superieur=Q3+1.5*IQR\n",
    "\n",
    "df_aberante_CoapplicantIncome=df[(df['CoapplicantIncome']<borne_inferieur) | (df['CoapplicantIncome']>borne_superieur)]"
   ]
  },
  {
   "cell_type": "code",
   "execution_count": 18,
   "id": "5ad7bde1",
   "metadata": {},
   "outputs": [
    {
     "data": {
      "text/plain": [
       "(18, 13)"
      ]
     },
     "execution_count": 18,
     "metadata": {},
     "output_type": "execute_result"
    }
   ],
   "source": [
    "df_aberante_CoapplicantIncome.shape"
   ]
  },
  {
   "cell_type": "markdown",
   "id": "290301dd",
   "metadata": {},
   "source": [
    "Ces calculs représentent la détection des valeurs aberrantes (outliers) pour les colonnes 'LoanAmount', 'ApplicantIncome' et 'CoapplicantIncome'.\n",
    "\n",
    "Pour 'LoanAmount':\n",
    "\n",
    "    Il y a 39 valeurs aberrantes détectées, avec des valeurs de prêts soit très basses, soit très élevées.\n",
    "\n",
    "Pour 'ApplicantIncome':\n",
    "\n",
    "    50 valeurs aberrantes ont été trouvées dans la colonne 'ApplicantIncome'. Cela indique des revenus d'emprunteurs soit très faibles, soit très élevés.\n",
    "\n",
    "Pour 'CoapplicantIncome':\n",
    "\n",
    "    18 valeurs aberrantes ont été détectées dans la colonne 'CoapplicantIncome', montrant des revenus de co-demandeurs soit très bas, soit très élevés.\n",
    "\n",
    "Ces valeurs aberrantes peuvent avoir un impact significatif sur les analyses et les modèles prédictifs. Il est important de décider comment traiter ces valeurs, que ce soit en les supprimant, en les transformant ou en utilisant des méthodes spécifiques pour les modèles."
   ]
  },
  {
   "cell_type": "code",
   "execution_count": null,
   "id": "a5ca467f",
   "metadata": {},
   "outputs": [],
   "source": []
  },
  {
   "cell_type": "markdown",
   "id": "85b6a775",
   "metadata": {},
   "source": [
    "ces résultats concernant les valeurs aberrantes ont également été confirmés visuellement à travers nos graphiques. La visualisation des données, en particulier les boîtes à moustaches (boxplots), a été utilisée pour illustrer graphiquement la présence de ces valeurs aberrantes dans les variables LoanAmount, ApplicantIncome, et CoapplicantIncome. Cela renforce nos constatations et souligne l'importance de gérer ces valeurs de manière appropriée lors de l'analyse des données et du développement du modèle."
   ]
  },
  {
   "cell_type": "markdown",
   "id": "a4c64e03",
   "metadata": {},
   "source": [
    "### - Relation entre Variable"
   ]
  },
  {
   "cell_type": "code",
   "execution_count": 22,
   "id": "c827f1a4",
   "metadata": {},
   "outputs": [
    {
     "data": {
      "image/png": "[encoded data removed]",
      "text/plain": [
       "<Figure size 1500x500 with 2 Axes>"
      ]
     },
     "metadata": {},
     "output_type": "display_data"
    }
   ],
   "source": [
    "plt.figure(figsize=(15,5))\n",
    "sns.heatmap(df.corr(),annot=True)\n",
    "plt.show()"
   ]
  },
  {
   "cell_type": "markdown",
   "id": "6f49ffe1",
   "metadata": {},
   "source": [
    "### . Relation Target/variable"
   ]
  },
  {
   "cell_type": "code",
   "execution_count": 21,
   "id": "96d55a0a",
   "metadata": {},
   "outputs": [
    {
     "data": {
      "text/html": [
       "<div>\n",
       "<style scoped>\n",
       "    .dataframe tbody tr th:only-of-type {\n",
       "        vertical-align: middle;\n",
       "    }\n",
       "\n",
       "    .dataframe tbody tr th {\n",
       "        vertical-align: top;\n",
       "    }\n",
       "\n",
       "    .dataframe thead th {\n",
       "        text-align: right;\n",
       "    }\n",
       "</style>\n",
       "<table border=\"1\" class=\"dataframe\">\n",
       "  <thead>\n",
       "    <tr style=\"text-align: right;\">\n",
       "      <th></th>\n",
       "      <th>Loan_ID</th>\n",
       "      <th>Gender</th>\n",
       "      <th>Married</th>\n",
       "      <th>Dependents</th>\n",
       "      <th>Education</th>\n",
       "      <th>Self_Employed</th>\n",
       "      <th>ApplicantIncome</th>\n",
       "      <th>CoapplicantIncome</th>\n",
       "      <th>LoanAmount</th>\n",
       "      <th>Loan_Amount_Term</th>\n",
       "      <th>Credit_History</th>\n",
       "      <th>property_Area</th>\n",
       "      <th>Loan_Status</th>\n",
       "    </tr>\n",
       "  </thead>\n",
       "  <tbody>\n",
       "    <tr>\n",
       "      <th>0</th>\n",
       "      <td>LP001002</td>\n",
       "      <td>Male</td>\n",
       "      <td>No</td>\n",
       "      <td>0</td>\n",
       "      <td>Graduate</td>\n",
       "      <td>No</td>\n",
       "      <td>5849.0</td>\n",
       "      <td>0.0</td>\n",
       "      <td>NaN</td>\n",
       "      <td>360.0</td>\n",
       "      <td>1.0</td>\n",
       "      <td>Urban</td>\n",
       "      <td>Y</td>\n",
       "    </tr>\n",
       "    <tr>\n",
       "      <th>1</th>\n",
       "      <td>LP001003</td>\n",
       "      <td>Male</td>\n",
       "      <td>Yes</td>\n",
       "      <td>1</td>\n",
       "      <td>Graduate</td>\n",
       "      <td>No</td>\n",
       "      <td>NaN</td>\n",
       "      <td>1508.0</td>\n",
       "      <td>128.0</td>\n",
       "      <td>360.0</td>\n",
       "      <td>1.0</td>\n",
       "      <td>Rural</td>\n",
       "      <td>N</td>\n",
       "    </tr>\n",
       "    <tr>\n",
       "      <th>2</th>\n",
       "      <td>LP001005</td>\n",
       "      <td>Male</td>\n",
       "      <td>Yes</td>\n",
       "      <td>0</td>\n",
       "      <td>Graduate</td>\n",
       "      <td>Yes</td>\n",
       "      <td>3000.0</td>\n",
       "      <td>0.0</td>\n",
       "      <td>66.0</td>\n",
       "      <td>360.0</td>\n",
       "      <td>1.0</td>\n",
       "      <td>Urban</td>\n",
       "      <td>Y</td>\n",
       "    </tr>\n",
       "    <tr>\n",
       "      <th>3</th>\n",
       "      <td>LP001006</td>\n",
       "      <td>Male</td>\n",
       "      <td>Yes</td>\n",
       "      <td>0</td>\n",
       "      <td>Not Graduate</td>\n",
       "      <td>No</td>\n",
       "      <td>2583.0</td>\n",
       "      <td>2358.0</td>\n",
       "      <td>120.0</td>\n",
       "      <td>360.0</td>\n",
       "      <td>1.0</td>\n",
       "      <td>Urban</td>\n",
       "      <td>Y</td>\n",
       "    </tr>\n",
       "    <tr>\n",
       "      <th>4</th>\n",
       "      <td>LP001008</td>\n",
       "      <td>Male</td>\n",
       "      <td>No</td>\n",
       "      <td>0</td>\n",
       "      <td>Graduate</td>\n",
       "      <td>No</td>\n",
       "      <td>6000.0</td>\n",
       "      <td>0.0</td>\n",
       "      <td>141.0</td>\n",
       "      <td>360.0</td>\n",
       "      <td>1.0</td>\n",
       "      <td>Urban</td>\n",
       "      <td>Y</td>\n",
       "    </tr>\n",
       "  </tbody>\n",
       "</table>\n",
       "</div>"
      ],
      "text/plain": [
       "    Loan_ID Gender Married Dependents     Education Self_Employed  \\\n",
       "0  LP001002   Male      No          0      Graduate            No   \n",
       "1  LP001003   Male     Yes          1      Graduate            No   \n",
       "2  LP001005   Male     Yes          0      Graduate           Yes   \n",
       "3  LP001006   Male     Yes          0  Not Graduate            No   \n",
       "4  LP001008   Male      No          0      Graduate            No   \n",
       "\n",
       "   ApplicantIncome  CoapplicantIncome  LoanAmount  Loan_Amount_Term  \\\n",
       "0           5849.0                0.0         NaN             360.0   \n",
       "1              NaN             1508.0       128.0             360.0   \n",
       "2           3000.0                0.0        66.0             360.0   \n",
       "3           2583.0             2358.0       120.0             360.0   \n",
       "4           6000.0                0.0       141.0             360.0   \n",
       "\n",
       "   Credit_History property_Area Loan_Status  \n",
       "0             1.0         Urban           Y  \n",
       "1             1.0         Rural           N  \n",
       "2             1.0         Urban           Y  \n",
       "3             1.0         Urban           Y  \n",
       "4             1.0         Urban           Y  "
      ]
     },
     "execution_count": 21,
     "metadata": {},
     "output_type": "execute_result"
    }
   ],
   "source": [
    "df.head()"
   ]
  },
  {
   "cell_type": "markdown",
   "id": "5aca5b4b",
   "metadata": {},
   "source": [
    "#### relation entre Target/Gender"
   ]
  },
  {
   "cell_type": "code",
   "execution_count": 30,
   "id": "a69cd650",
   "metadata": {},
   "outputs": [
    {
     "data": {
      "text/plain": [
       "Gender  Loan_Status\n",
       "Female  N               37\n",
       "        Y               75\n",
       "Male    N              150\n",
       "        Y              337\n",
       "Name: Loan_Status, dtype: int64"
      ]
     },
     "execution_count": 30,
     "metadata": {},
     "output_type": "execute_result"
    }
   ],
   "source": [
    "df.groupby(['Gender','Loan_Status'])['Loan_Status'].count()"
   ]
  },
  {
   "cell_type": "code",
   "execution_count": 25,
   "id": "f643c889",
   "metadata": {},
   "outputs": [
    {
     "data": {
      "text/plain": [
       "<AxesSubplot:xlabel='Gender', ylabel='count'>"
      ]
     },
     "execution_count": 25,
     "metadata": {},
     "output_type": "execute_result"
    },
    {
     "data": {
      "image/png": "[encoded data removed]",
      "text/plain": [
       "<Figure size 640x480 with 1 Axes>"
      ]
     },
     "metadata": {},
     "output_type": "display_data"
    }
   ],
   "source": [
    "sns.countplot(data=df,x=df['Gender'],hue=\"Loan_Status\")"
   ]
  },
  {
   "cell_type": "markdown",
   "id": "cd7aff0a",
   "metadata": {},
   "source": [
    "En observant les données sur l'approbation des prêts en fonction du genre des emprunteurs, une tendance intéressante émerge. La visualisation et Les chiffres révèlent que parmi les emprunteurs masculins, 337 ont obtenu un prêt, tandis que 150 n'ont pas été approuvés. Du côté des emprunteuses féminines, 75 ont obtenu un prêt, tandis que 37 n'ont pas été approuvées. Ces chiffres suggèrent qu'il y a une disparité entre les hommes et les femmes en ce qui concerne l'approbation des prêts, les hommes ayant une plus grande probabilité d'obtenir un prêt par rapport aux femmes dans cet ensemble de données. Cependant, il est important de garder à l'esprit que d'autres variables pourraient également influencer cette tendance, et une analyse plus approfondie serait nécessaire pour tirer des conclusions définitives sur l'impact du genre sur l'octroi de prêts."
   ]
  },
  {
   "cell_type": "markdown",
   "id": "126d25a3",
   "metadata": {},
   "source": [
    "#### relation entre Target/Credit_History"
   ]
  },
  {
   "cell_type": "code",
   "execution_count": 29,
   "id": "e198c33c",
   "metadata": {},
   "outputs": [
    {
     "data": {
      "text/plain": [
       "Credit_History  Loan_Status\n",
       "0.0             N               82\n",
       "                Y                7\n",
       "1.0             N               97\n",
       "                Y              378\n",
       "Name: Loan_Status, dtype: int64"
      ]
     },
     "execution_count": 29,
     "metadata": {},
     "output_type": "execute_result"
    }
   ],
   "source": [
    "df.groupby(['Credit_History','Loan_Status'])['Loan_Status'].count()"
   ]
  },
  {
   "cell_type": "code",
   "execution_count": 31,
   "id": "2c21d9ef",
   "metadata": {},
   "outputs": [
    {
     "data": {
      "text/plain": [
       "<AxesSubplot:xlabel='Credit_History', ylabel='count'>"
      ]
     },
     "execution_count": 31,
     "metadata": {},
     "output_type": "execute_result"
    },
    {
     "data": {
      "image/png": "[encoded data removed]",
      "text/plain": [
       "<Figure size 640x480 with 1 Axes>"
      ]
     },
     "metadata": {},
     "output_type": "display_data"
    }
   ],
   "source": [
    "\n",
    "sns.countplot(data=df,x=df['Credit_History'],hue=\"Loan_Status\")"
   ]
  },
  {
   "cell_type": "markdown",
   "id": "8617c70c",
   "metadata": {},
   "source": [
    "\n",
    "En examinant les données de l'historique de crédit des emprunteurs par rapport à l'approbation des prêts, une conclusion notable se dégage. Parmi les emprunteurs ayant un historique de crédit positif (valeur 1.0), 378 ont obtenu un prêt tandis que seulement 97 ont été refusés. En revanche, pour les emprunteurs ayant un historique de crédit négatif ou absent (valeur 0.0), seuls 7 ont réussi à obtenir un prêt, tandis que 82 ont été refusés. Ces résultats indiquent clairement que l'historique de crédit joue un rôle crucial dans l'approbation des prêts, les emprunteurs ayant un historique de crédit positif ayant beaucoup plus de chances d'obtenir un prêt par rapport à ceux ayant un historique de crédit négatif ou absent. Cependant, il est important de noter que d'autres variables pourraient également influencer cette tendance et nécessiteraient une analyse plus approfondie pour une compréhension complète du processus d'approbation des prêts."
   ]
  },
  {
   "cell_type": "code",
   "execution_count": 32,
   "id": "088aa7b0",
   "metadata": {},
   "outputs": [
    {
     "data": {
      "text/html": [
       "<div>\n",
       "<style scoped>\n",
       "    .dataframe tbody tr th:only-of-type {\n",
       "        vertical-align: middle;\n",
       "    }\n",
       "\n",
       "    .dataframe tbody tr th {\n",
       "        vertical-align: top;\n",
       "    }\n",
       "\n",
       "    .dataframe thead th {\n",
       "        text-align: right;\n",
       "    }\n",
       "</style>\n",
       "<table border=\"1\" class=\"dataframe\">\n",
       "  <thead>\n",
       "    <tr style=\"text-align: right;\">\n",
       "      <th></th>\n",
       "      <th>Loan_ID</th>\n",
       "      <th>Gender</th>\n",
       "      <th>Married</th>\n",
       "      <th>Dependents</th>\n",
       "      <th>Education</th>\n",
       "      <th>Self_Employed</th>\n",
       "      <th>ApplicantIncome</th>\n",
       "      <th>CoapplicantIncome</th>\n",
       "      <th>LoanAmount</th>\n",
       "      <th>Loan_Amount_Term</th>\n",
       "      <th>Credit_History</th>\n",
       "      <th>property_Area</th>\n",
       "      <th>Loan_Status</th>\n",
       "    </tr>\n",
       "  </thead>\n",
       "  <tbody>\n",
       "    <tr>\n",
       "      <th>0</th>\n",
       "      <td>LP001002</td>\n",
       "      <td>Male</td>\n",
       "      <td>No</td>\n",
       "      <td>0</td>\n",
       "      <td>Graduate</td>\n",
       "      <td>No</td>\n",
       "      <td>5849.0</td>\n",
       "      <td>0.0</td>\n",
       "      <td>NaN</td>\n",
       "      <td>360.0</td>\n",
       "      <td>1.0</td>\n",
       "      <td>Urban</td>\n",
       "      <td>Y</td>\n",
       "    </tr>\n",
       "  </tbody>\n",
       "</table>\n",
       "</div>"
      ],
      "text/plain": [
       "    Loan_ID Gender Married Dependents Education Self_Employed  \\\n",
       "0  LP001002   Male      No          0  Graduate            No   \n",
       "\n",
       "   ApplicantIncome  CoapplicantIncome  LoanAmount  Loan_Amount_Term  \\\n",
       "0           5849.0                0.0         NaN             360.0   \n",
       "\n",
       "   Credit_History property_Area Loan_Status  \n",
       "0             1.0         Urban           Y  "
      ]
     },
     "execution_count": 32,
     "metadata": {},
     "output_type": "execute_result"
    }
   ],
   "source": [
    "df.head(1)"
   ]
  },
  {
   "cell_type": "markdown",
   "id": "160aa748",
   "metadata": {},
   "source": [
    "#### relation entre Target/Education"
   ]
  },
  {
   "cell_type": "code",
   "execution_count": 33,
   "id": "74896b57",
   "metadata": {},
   "outputs": [
    {
     "data": {
      "text/plain": [
       "Education     Loan_Status\n",
       "Graduate      N              140\n",
       "              Y              339\n",
       "Not Graduate  N               52\n",
       "              Y               82\n",
       "Name: Loan_Status, dtype: int64"
      ]
     },
     "execution_count": 33,
     "metadata": {},
     "output_type": "execute_result"
    }
   ],
   "source": [
    "df.groupby(['Education','Loan_Status'])['Loan_Status'].count()"
   ]
  },
  {
   "cell_type": "code",
   "execution_count": 34,
   "id": "4f695d8a",
   "metadata": {},
   "outputs": [
    {
     "data": {
      "text/plain": [
       "<AxesSubplot:xlabel='Education', ylabel='count'>"
      ]
     },
     "execution_count": 34,
     "metadata": {},
     "output_type": "execute_result"
    },
    {
     "data": {
      "image/png": "[encoded data removed]",
      "text/plain": [
       "<Figure size 640x480 with 1 Axes>"
      ]
     },
     "metadata": {},
     "output_type": "display_data"
    }
   ],
   "source": [
    "sns.countplot(data=df,x=df['Education'],hue=\"Loan_Status\")"
   ]
  },
  {
   "cell_type": "markdown",
   "id": "710b151f",
   "metadata": {},
   "source": [
    "En analysant les données de l'éducation des emprunteurs par rapport à l'approbation des prêts, on observe une différence significative entre les diplômés (Graduate) et les non-diplômés (Not Graduate). Parmi les diplômés, 339 ont obtenu un prêt, tandis que seulement 140 ont été refusés. En revanche, parmi les non-diplômés, seuls 82 ont réussi à obtenir un prêt, tandis que 52 ont été refusés.\n",
    "\n",
    "Ces résultats suggèrent que les emprunteurs diplômés ont une probabilité plus élevée d'obtenir un prêt par rapport à ceux qui ne sont pas diplômés. L'éducation semble donc jouer un rôle dans le processus d'approbation des prêts, avec une préférence pour les emprunteurs ayant un niveau d'éducation supérieur. Il est important de noter que d'autres variables pourraient également influencer ces résultats et nécessiteraient une analyse approfondie pour une compréhension complète des facteurs d'approbation des prêts."
   ]
  },
  {
   "cell_type": "markdown",
   "id": "2d2ebe3c",
   "metadata": {},
   "source": [
    "#### Relation entre Target/Dependents"
   ]
  },
  {
   "cell_type": "code",
   "execution_count": 35,
   "id": "812ef8a2",
   "metadata": {},
   "outputs": [
    {
     "data": {
      "text/plain": [
       "Dependents  Loan_Status\n",
       "0           N              107\n",
       "            Y              238\n",
       "1           N               36\n",
       "            Y               66\n",
       "2           N               25\n",
       "            Y               76\n",
       "3+          N               18\n",
       "            Y               33\n",
       "Name: Loan_Status, dtype: int64"
      ]
     },
     "execution_count": 35,
     "metadata": {},
     "output_type": "execute_result"
    }
   ],
   "source": [
    "df.groupby(['Dependents','Loan_Status'])['Loan_Status'].count()"
   ]
  },
  {
   "cell_type": "code",
   "execution_count": 36,
   "id": "8963f1f2",
   "metadata": {},
   "outputs": [
    {
     "data": {
      "text/plain": [
       "<AxesSubplot:xlabel='Dependents', ylabel='count'>"
      ]
     },
     "execution_count": 36,
     "metadata": {},
     "output_type": "execute_result"
    },
    {
     "data": {
      "image/png": "[encoded data removed]",
      "text/plain": [
       "<Figure size 640x480 with 1 Axes>"
      ]
     },
     "metadata": {},
     "output_type": "display_data"
    }
   ],
   "source": [
    "sns.countplot(data=df,x=df['Dependents'],hue=\"Loan_Status\")"
   ]
  },
  {
   "cell_type": "markdown",
   "id": "9073992e",
   "metadata": {},
   "source": [
    "L'analyse des dépendants (Dependents) par rapport à l'approbation des prêts révèle des tendances intéressantes. Les emprunteurs sans personnes à charge (0 Dependents) ont un taux d'approbation plus élevé, avec 238 prêts accordés et seulement 107 refusés. À mesure que le nombre de personnes à charge augmente, le nombre de prêts approuvés diminue. Par exemple, pour les emprunteurs ayant 3 personnes à charge ou plus (3+ Dependents), seuls 33 prêts ont été accordés, tandis que 18 ont été refusés.\n",
    "\n",
    "Ces résultats suggèrent que les emprunteurs sans personnes à charge ont plus de chances d'obtenir un prêt, tandis que les emprunteurs ayant des personnes à charge, en particulier 3 personnes ou plus, ont des chances d'approbation plus faibles. Cependant, il est important de considérer d'autres variables et d'effectuer des analyses plus approfondies pour une compréhension complète de l'influence des personnes à charge sur l'approbation des prêts."
   ]
  },
  {
   "cell_type": "markdown",
   "id": "02b44917",
   "metadata": {},
   "source": [
    "#### - Relation entre Target/LoanAmount"
   ]
  },
  {
   "cell_type": "code",
   "execution_count": 38,
   "id": "7550f04f",
   "metadata": {},
   "outputs": [
    {
     "data": {
      "text/plain": [
       "<seaborn.axisgrid.FacetGrid at 0x7f6a84b12eb0>"
      ]
     },
     "execution_count": 38,
     "metadata": {},
     "output_type": "execute_result"
    },
    {
     "data": {
      "text/plain": [
       "<Figure size 2000x500 with 0 Axes>"
      ]
     },
     "metadata": {},
     "output_type": "display_data"
    },
    {
     "data": {
      "image/png": "[encoded data removed]",
      "text/plain": [
       "<Figure size 595.736x500 with 1 Axes>"
      ]
     },
     "metadata": {},
     "output_type": "display_data"
    }
   ],
   "source": [
    "plt.figure(figsize=(20,5))\n",
    "sns.displot(data=df, x='LoanAmount',hue='Loan_Status')"
   ]
  },
  {
   "cell_type": "markdown",
   "id": "3877d03d",
   "metadata": {},
   "source": [
    "Il est difficile de discerner une relation claire entre les deux variables à partir du graphique. Cependant, on remarque qu'aucun prêt n'a été refusé pour les demandes de prêts d'une somme supérieure ou égale à 600. Il reste à déterminer si c'est une simple coïncidence. Pour clarifier ce point, nous examinerons attentivement ces cas lors du prétraitement de nos données, notamment lors de la sélection des meilleures variables"
   ]
  },
  {
   "cell_type": "markdown",
   "id": "759c2531",
   "metadata": {},
   "source": [
    "#### -Relation Target/Coapplicantincom"
   ]
  },
  {
   "cell_type": "code",
   "execution_count": 39,
   "id": "1d9b3b5c",
   "metadata": {},
   "outputs": [
    {
     "data": {
      "image/png": "[encoded data removed]",
      "text/plain": [
       "<Figure size 2000x500 with 1 Axes>"
      ]
     },
     "metadata": {},
     "output_type": "display_data"
    }
   ],
   "source": [
    "plt.figure(figsize=(20,5))\n",
    "sns.histplot(data=df, x='CoapplicantIncome',hue='Loan_Status')\n",
    "plt.show()"
   ]
  },
  {
   "cell_type": "markdown",
   "id": "bfe69a2d",
   "metadata": {},
   "source": [
    "Il est difficile de déterminer une relation entre la variable cible et le revenu du co-demandeur (CoapplicantIncome). Cependant, il est possible que cette variable ait un impact sur notre étude. Nous devrons vérifier cela de manière approfondie lors du prétraitement de nos données pour confirmer son influence potentielle."
   ]
  },
  {
   "cell_type": "markdown",
   "id": "a452dc52",
   "metadata": {},
   "source": [
    "#### .Relation entre Target/self_employed"
   ]
  },
  {
   "cell_type": "code",
   "execution_count": 40,
   "id": "6353193c",
   "metadata": {},
   "outputs": [
    {
     "data": {
      "text/plain": [
       "<AxesSubplot:xlabel='Self_Employed', ylabel='Count'>"
      ]
     },
     "execution_count": 40,
     "metadata": {},
     "output_type": "execute_result"
    },
    {
     "data": {
      "image/png": "[encoded data removed]",
      "text/plain": [
       "<Figure size 640x480 with 1 Axes>"
      ]
     },
     "metadata": {},
     "output_type": "display_data"
    }
   ],
   "source": [
    "sns.histplot(data=df, x='Self_Employed',hue='Loan_Status')"
   ]
  },
  {
   "cell_type": "code",
   "execution_count": 41,
   "id": "feedcd81",
   "metadata": {},
   "outputs": [
    {
     "data": {
      "text/plain": [
       "Self_Employed  Loan_Status\n",
       "No             N              157\n",
       "               Y              343\n",
       "Yes            N               26\n",
       "               Y               56\n",
       "Name: Loan_Status, dtype: int64"
      ]
     },
     "execution_count": 41,
     "metadata": {},
     "output_type": "execute_result"
    }
   ],
   "source": [
    "df.groupby(['Self_Employed','Loan_Status'])['Loan_Status'].count()"
   ]
  },
  {
   "cell_type": "markdown",
   "id": "cc9030eb",
   "metadata": {},
   "source": [
    "La variable \"Self_Employed\" semble avoir une influence limitée sur le statut du prêt. La plupart des demandeurs, qu'ils soient travailleurs indépendants ou non, ont vu leur prêt approuvé. Cependant, une analyse plus approfondie sera nécessaire pour confirmer cette observation et déterminer son impact réel sur le statut des prêts."
   ]
  },
  {
   "cell_type": "markdown",
   "id": "9114c173",
   "metadata": {},
   "source": [
    "#### -Relation target/ApplicantIncome"
   ]
  },
  {
   "cell_type": "code",
   "execution_count": 44,
   "id": "c04588ee",
   "metadata": {},
   "outputs": [
    {
     "data": {
      "text/plain": [
       "<AxesSubplot:xlabel='ApplicantIncome', ylabel='Count'>"
      ]
     },
     "execution_count": 44,
     "metadata": {},
     "output_type": "execute_result"
    },
    {
     "data": {
      "image/png": "[encoded data removed]",
      "text/plain": [
       "<Figure size 2000x500 with 1 Axes>"
      ]
     },
     "metadata": {},
     "output_type": "display_data"
    }
   ],
   "source": [
    "plt.figure(figsize=(20,5))\n",
    "sns.histplot(data=df,x='ApplicantIncome',hue=\"Loan_Status\")\n"
   ]
  },
  {
   "cell_type": "markdown",
   "id": "0cf1db3a",
   "metadata": {},
   "source": [
    "il est très difficile de deduire ou de poser une hypothèse trouvant une relation entre le target et la variable ApplicantIncome car les deux distribution sont presque les mêmes. De ce faite nous allons conserver par prudence notre variable pour la suite de notre treavail à moins d'avoir quel que chose de concrête lors du Prè-Traitement de nos donné grâce à la selection des meilleur variables\n"
   ]
  },
  {
   "cell_type": "markdown",
   "id": "9ecc6ca1",
   "metadata": {},
   "source": [
    "## 2. Pré-Traitement des données et Traitement de nos donéé"
   ]
  },
  {
   "cell_type": "markdown",
   "id": "91ffd955",
   "metadata": {},
   "source": [
    "### -Imputation"
   ]
  },
  {
   "cell_type": "code",
   "execution_count": 46,
   "id": "56784daa",
   "metadata": {},
   "outputs": [],
   "source": [
    "df.dropna(axis=0,inplace=True)"
   ]
  },
  {
   "cell_type": "code",
   "execution_count": 47,
   "id": "65f54aaf",
   "metadata": {},
   "outputs": [],
   "source": [
    "# On elimine la colonne Loan_ID\n",
    "df.drop('Loan_ID',axis=1,inplace=True)\n",
    "x=df.drop('Loan_Status',axis=1)\n",
    "y=df['Loan_Status']"
   ]
  },
  {
   "cell_type": "markdown",
   "id": "5d3905e0",
   "metadata": {},
   "source": [
    "### -Encodage"
   ]
  },
  {
   "cell_type": "markdown",
   "id": "0771dad1",
   "metadata": {},
   "source": [
    "Nous utiliserons l'encodage pour convertir toutes les chaînes de caractères en valeurs numériques, simplifiant ainsi le traitement des données et permettant aux algorithmes d'apprentissage automatique de les comprendre plus facilement. Ce processus est essentiel pour garantir la cohérence des données et améliorer la précision de notre modèle d'analyse."
   ]
  },
  {
   "cell_type": "code",
   "execution_count": 48,
   "id": "e3a9d6c6",
   "metadata": {},
   "outputs": [
    {
     "data": {
      "text/html": [
       "<div>\n",
       "<style scoped>\n",
       "    .dataframe tbody tr th:only-of-type {\n",
       "        vertical-align: middle;\n",
       "    }\n",
       "\n",
       "    .dataframe tbody tr th {\n",
       "        vertical-align: top;\n",
       "    }\n",
       "\n",
       "    .dataframe thead th {\n",
       "        text-align: right;\n",
       "    }\n",
       "</style>\n",
       "<table border=\"1\" class=\"dataframe\">\n",
       "  <thead>\n",
       "    <tr style=\"text-align: right;\">\n",
       "      <th></th>\n",
       "      <th>Gender</th>\n",
       "      <th>Married</th>\n",
       "      <th>Dependents</th>\n",
       "      <th>Education</th>\n",
       "      <th>Self_Employed</th>\n",
       "      <th>ApplicantIncome</th>\n",
       "      <th>CoapplicantIncome</th>\n",
       "      <th>LoanAmount</th>\n",
       "      <th>Loan_Amount_Term</th>\n",
       "      <th>Credit_History</th>\n",
       "      <th>property_Area</th>\n",
       "      <th>Loan_Status</th>\n",
       "    </tr>\n",
       "  </thead>\n",
       "  <tbody>\n",
       "    <tr>\n",
       "      <th>2</th>\n",
       "      <td>Male</td>\n",
       "      <td>Yes</td>\n",
       "      <td>0</td>\n",
       "      <td>Graduate</td>\n",
       "      <td>Yes</td>\n",
       "      <td>3000.0</td>\n",
       "      <td>0.0</td>\n",
       "      <td>66.0</td>\n",
       "      <td>360.0</td>\n",
       "      <td>1.0</td>\n",
       "      <td>Urban</td>\n",
       "      <td>Y</td>\n",
       "    </tr>\n",
       "    <tr>\n",
       "      <th>3</th>\n",
       "      <td>Male</td>\n",
       "      <td>Yes</td>\n",
       "      <td>0</td>\n",
       "      <td>Not Graduate</td>\n",
       "      <td>No</td>\n",
       "      <td>2583.0</td>\n",
       "      <td>2358.0</td>\n",
       "      <td>120.0</td>\n",
       "      <td>360.0</td>\n",
       "      <td>1.0</td>\n",
       "      <td>Urban</td>\n",
       "      <td>Y</td>\n",
       "    </tr>\n",
       "  </tbody>\n",
       "</table>\n",
       "</div>"
      ],
      "text/plain": [
       "  Gender Married Dependents     Education Self_Employed  ApplicantIncome  \\\n",
       "2   Male     Yes          0      Graduate           Yes           3000.0   \n",
       "3   Male     Yes          0  Not Graduate            No           2583.0   \n",
       "\n",
       "   CoapplicantIncome  LoanAmount  Loan_Amount_Term  Credit_History  \\\n",
       "2                0.0        66.0             360.0             1.0   \n",
       "3             2358.0       120.0             360.0             1.0   \n",
       "\n",
       "  property_Area Loan_Status  \n",
       "2         Urban           Y  \n",
       "3         Urban           Y  "
      ]
     },
     "execution_count": 48,
     "metadata": {},
     "output_type": "execute_result"
    }
   ],
   "source": [
    "df.head(2)"
   ]
  },
  {
   "cell_type": "code",
   "execution_count": 50,
   "id": "d9e1c5fc",
   "metadata": {},
   "outputs": [],
   "source": [
    "df['Gender'].replace(['Male','Female'],[1,0],inplace=True)\n",
    "df['Married'].replace(['Yes','No'],[1,0],inplace=True)\n",
    "df['Education'].replace(['Graduate','Not Graduate'],[1,0],inplace=True)\n",
    "df['Self_Employed'].replace(['Yes','No'],[1,0],inplace=True)\n",
    "df['property_Area'].replace(['Urban','Rural','Semiurban'],[2,1,0],inplace=True)\n",
    "df['Loan_Status'].replace(['Y','N'],[1,0],inplace=True)\n",
    "df['Dependents'].replace('3+',31,inplace=True)"
   ]
  },
  {
   "cell_type": "code",
   "execution_count": 51,
   "id": "9d01394d",
   "metadata": {},
   "outputs": [
    {
     "data": {
      "text/html": [
       "<div>\n",
       "<style scoped>\n",
       "    .dataframe tbody tr th:only-of-type {\n",
       "        vertical-align: middle;\n",
       "    }\n",
       "\n",
       "    .dataframe tbody tr th {\n",
       "        vertical-align: top;\n",
       "    }\n",
       "\n",
       "    .dataframe thead th {\n",
       "        text-align: right;\n",
       "    }\n",
       "</style>\n",
       "<table border=\"1\" class=\"dataframe\">\n",
       "  <thead>\n",
       "    <tr style=\"text-align: right;\">\n",
       "      <th></th>\n",
       "      <th>Gender</th>\n",
       "      <th>Married</th>\n",
       "      <th>Dependents</th>\n",
       "      <th>Education</th>\n",
       "      <th>Self_Employed</th>\n",
       "      <th>ApplicantIncome</th>\n",
       "      <th>CoapplicantIncome</th>\n",
       "      <th>LoanAmount</th>\n",
       "      <th>Loan_Amount_Term</th>\n",
       "      <th>Credit_History</th>\n",
       "      <th>property_Area</th>\n",
       "      <th>Loan_Status</th>\n",
       "    </tr>\n",
       "  </thead>\n",
       "  <tbody>\n",
       "    <tr>\n",
       "      <th>2</th>\n",
       "      <td>1</td>\n",
       "      <td>1</td>\n",
       "      <td>0</td>\n",
       "      <td>1</td>\n",
       "      <td>1</td>\n",
       "      <td>3000.0</td>\n",
       "      <td>0.0</td>\n",
       "      <td>66.0</td>\n",
       "      <td>360.0</td>\n",
       "      <td>1.0</td>\n",
       "      <td>2</td>\n",
       "      <td>1</td>\n",
       "    </tr>\n",
       "    <tr>\n",
       "      <th>3</th>\n",
       "      <td>1</td>\n",
       "      <td>1</td>\n",
       "      <td>0</td>\n",
       "      <td>0</td>\n",
       "      <td>0</td>\n",
       "      <td>2583.0</td>\n",
       "      <td>2358.0</td>\n",
       "      <td>120.0</td>\n",
       "      <td>360.0</td>\n",
       "      <td>1.0</td>\n",
       "      <td>2</td>\n",
       "      <td>1</td>\n",
       "    </tr>\n",
       "    <tr>\n",
       "      <th>4</th>\n",
       "      <td>1</td>\n",
       "      <td>0</td>\n",
       "      <td>0</td>\n",
       "      <td>1</td>\n",
       "      <td>0</td>\n",
       "      <td>6000.0</td>\n",
       "      <td>0.0</td>\n",
       "      <td>141.0</td>\n",
       "      <td>360.0</td>\n",
       "      <td>1.0</td>\n",
       "      <td>2</td>\n",
       "      <td>1</td>\n",
       "    </tr>\n",
       "    <tr>\n",
       "      <th>6</th>\n",
       "      <td>1</td>\n",
       "      <td>1</td>\n",
       "      <td>0</td>\n",
       "      <td>0</td>\n",
       "      <td>0</td>\n",
       "      <td>2333.0</td>\n",
       "      <td>1516.0</td>\n",
       "      <td>95.0</td>\n",
       "      <td>360.0</td>\n",
       "      <td>1.0</td>\n",
       "      <td>2</td>\n",
       "      <td>1</td>\n",
       "    </tr>\n",
       "    <tr>\n",
       "      <th>7</th>\n",
       "      <td>1</td>\n",
       "      <td>1</td>\n",
       "      <td>31</td>\n",
       "      <td>1</td>\n",
       "      <td>0</td>\n",
       "      <td>3036.0</td>\n",
       "      <td>2504.0</td>\n",
       "      <td>158.0</td>\n",
       "      <td>360.0</td>\n",
       "      <td>0.0</td>\n",
       "      <td>0</td>\n",
       "      <td>0</td>\n",
       "    </tr>\n",
       "  </tbody>\n",
       "</table>\n",
       "</div>"
      ],
      "text/plain": [
       "   Gender  Married Dependents  Education  Self_Employed  ApplicantIncome  \\\n",
       "2       1        1          0          1              1           3000.0   \n",
       "3       1        1          0          0              0           2583.0   \n",
       "4       1        0          0          1              0           6000.0   \n",
       "6       1        1          0          0              0           2333.0   \n",
       "7       1        1         31          1              0           3036.0   \n",
       "\n",
       "   CoapplicantIncome  LoanAmount  Loan_Amount_Term  Credit_History  \\\n",
       "2                0.0        66.0             360.0             1.0   \n",
       "3             2358.0       120.0             360.0             1.0   \n",
       "4                0.0       141.0             360.0             1.0   \n",
       "6             1516.0        95.0             360.0             1.0   \n",
       "7             2504.0       158.0             360.0             0.0   \n",
       "\n",
       "   property_Area  Loan_Status  \n",
       "2              2            1  \n",
       "3              2            1  \n",
       "4              2            1  \n",
       "6              2            1  \n",
       "7              0            0  "
      ]
     },
     "execution_count": 51,
     "metadata": {},
     "output_type": "execute_result"
    }
   ],
   "source": [
    "df.head()"
   ]
  },
  {
   "cell_type": "markdown",
   "id": "27d006c3",
   "metadata": {},
   "source": [
    "### Division de notre Dataset en donnée d'entrairement et en donnée de test, et entrainement de nos premier model\n"
   ]
  },
  {
   "cell_type": "code",
   "execution_count": 52,
   "id": "86504a14",
   "metadata": {},
   "outputs": [],
   "source": [
    "from sklearn.model_selection import train_test_split"
   ]
  },
  {
   "cell_type": "markdown",
   "id": "7e47d62b",
   "metadata": {},
   "source": [
    "nous allons d'abord utiliser le modele KNeighborsClassifier qui est un algorithme de classification basé sur les k pus proche voisin.\n",
    "Cet algorithme predit un l'element en se basant sur une vote des elements les proches de ce dernier"
   ]
  },
  {
   "cell_type": "code",
   "execution_count": 53,
   "id": "c3393754",
   "metadata": {},
   "outputs": [],
   "source": [
    "from sklearn.neighbors import KNeighborsClassifier\n",
    "x=df.drop('Loan_Status',axis=1)\n",
    "y=df['Loan_Status']\n"
   ]
  },
  {
   "cell_type": "code",
   "execution_count": 54,
   "id": "cbc85625",
   "metadata": {},
   "outputs": [],
   "source": [
    "x_train,x_test,y_train,y_test=train_test_split(x,y,test_size=0.3,random_state=0)"
   ]
  },
  {
   "cell_type": "code",
   "execution_count": 55,
   "id": "4ac45dbf",
   "metadata": {},
   "outputs": [
    {
     "name": "stderr",
     "output_type": "stream",
     "text": [
      "/home/mouhammed/anaconda3/lib/python3.9/site-packages/sklearn/neighbors/_classification.py:228: FutureWarning: Unlike other reduction functions (e.g. `skew`, `kurtosis`), the default behavior of `mode` typically preserves the axis it acts along. In SciPy 1.11.0, this behavior will change: the default value of `keepdims` will become False, the `axis` over which the statistic is taken will be eliminated, and the value None will no longer be accepted. Set `keepdims` to True or False to avoid this warning.\n",
      "  mode, _ = stats.mode(_y[neigh_ind, k], axis=1)\n"
     ]
    },
    {
     "data": {
      "text/plain": [
       "array([1, 0, 1, 0, 1, 1, 1, 1, 1, 1, 0, 1, 1, 1, 1, 1, 0, 1, 1, 1, 1, 1,\n",
       "       1, 1, 1, 1, 1, 1, 1, 0, 1, 1, 1, 1, 1, 1, 1, 0, 1, 0, 1, 0, 0, 1,\n",
       "       1, 1, 1, 1, 0, 0, 1, 1, 1, 1, 1, 1, 1, 1, 1, 0, 1, 1, 1, 1, 1, 1,\n",
       "       1, 1, 1, 0, 1, 1, 1, 1, 1, 1, 1, 1, 0, 1, 0, 1, 1, 1, 1, 1, 1, 1,\n",
       "       0, 1, 1, 1, 0, 1, 1, 1, 1, 0, 1, 1, 1, 1, 1, 1, 1, 1, 1, 1, 1, 0,\n",
       "       1, 1, 1, 1, 1, 0, 1, 1, 1, 1, 1, 1, 1, 0, 1, 1, 0, 1, 1, 1, 0, 1,\n",
       "       1, 1, 0, 1, 0, 1, 1, 1, 1, 1, 0])"
      ]
     },
     "execution_count": 55,
     "metadata": {},
     "output_type": "execute_result"
    }
   ],
   "source": [
    "model=KNeighborsClassifier()\n",
    "model.fit(x_train,y_train)\n",
    "model.predict(x_test) "
   ]
  },
  {
   "cell_type": "code",
   "execution_count": 63,
   "id": "3cd683dc",
   "metadata": {},
   "outputs": [
    {
     "name": "stderr",
     "output_type": "stream",
     "text": [
      "/home/mouhammed/anaconda3/lib/python3.9/site-packages/sklearn/neighbors/_classification.py:228: FutureWarning: Unlike other reduction functions (e.g. `skew`, `kurtosis`), the default behavior of `mode` typically preserves the axis it acts along. In SciPy 1.11.0, this behavior will change: the default value of `keepdims` will become False, the `axis` over which the statistic is taken will be eliminated, and the value None will no longer be accepted. Set `keepdims` to True or False to avoid this warning.\n",
      "  mode, _ = stats.mode(_y[neigh_ind, k], axis=1)\n"
     ]
    },
    {
     "data": {
      "text/plain": [
       "0.6153846153846154"
      ]
     },
     "execution_count": 63,
     "metadata": {},
     "output_type": "execute_result"
    }
   ],
   "source": [
    "model.score(x_test,y_test)"
   ]
  },
  {
   "cell_type": "markdown",
   "id": "9286fe5f",
   "metadata": {},
   "source": [
    "On a une Score de 61.5% avec le modele KNeighborsClassifier"
   ]
  },
  {
   "cell_type": "markdown",
   "id": "c5250b87",
   "metadata": {},
   "source": [
    "utilisons le model LogisticRegression pour voir si on peut avoir une meilleur performance"
   ]
  },
  {
   "cell_type": "code",
   "execution_count": 59,
   "id": "1190366b",
   "metadata": {},
   "outputs": [],
   "source": [
    "from sklearn.linear_model import LogisticRegression\n",
    "from sklearn.metrics import confusion_matrix, accuracy_score"
   ]
  },
  {
   "cell_type": "code",
   "execution_count": 60,
   "id": "d8e1a494",
   "metadata": {},
   "outputs": [
    {
     "name": "stderr",
     "output_type": "stream",
     "text": [
      "/home/mouhammed/anaconda3/lib/python3.9/site-packages/sklearn/linear_model/_logistic.py:814: ConvergenceWarning: lbfgs failed to converge (status=1):\n",
      "STOP: TOTAL NO. of ITERATIONS REACHED LIMIT.\n",
      "\n",
      "Increase the number of iterations (max_iter) or scale the data as shown in:\n",
      "    https://scikit-learn.org/stable/modules/preprocessing.html\n",
      "Please also refer to the documentation for alternative solver options:\n",
      "    https://scikit-learn.org/stable/modules/linear_model.html#logistic-regression\n",
      "  n_iter_i = _check_optimize_result(\n"
     ]
    },
    {
     "data": {
      "text/plain": [
       "LogisticRegression()"
      ]
     },
     "execution_count": 60,
     "metadata": {},
     "output_type": "execute_result"
    }
   ],
   "source": [
    "mod=LogisticRegression()\n",
    "mod.fit(x_train,y_train) "
   ]
  },
  {
   "cell_type": "code",
   "execution_count": 61,
   "id": "fbc49a9c",
   "metadata": {},
   "outputs": [
    {
     "data": {
      "text/plain": [
       "0.7412587412587412"
      ]
     },
     "execution_count": 61,
     "metadata": {},
     "output_type": "execute_result"
    }
   ],
   "source": [
    "y_pred=mod.predict(x_test)\n",
    "accuracy_score(y_test,y_pred)"
   ]
  },
  {
   "cell_type": "markdown",
   "id": "b1258033",
   "metadata": {},
   "source": [
    "on obtient une score de 74% avec le model de LogiticRegression meilleur que celle obtenu avec la methode de KNeighborsClassifier"
   ]
  },
  {
   "cell_type": "markdown",
   "id": "cd875744",
   "metadata": {},
   "source": [
    "#### Confusion_matrix donne une matrice dont les elements de la diagonale constitues les bonnes prediction des differentes classe et les autres elements qui ne sont pas dans le diagonale constitue les mauvaise prediction"
   ]
  },
  {
   "cell_type": "code",
   "execution_count": 64,
   "id": "f3320fd7",
   "metadata": {},
   "outputs": [
    {
     "name": "stdout",
     "output_type": "stream",
     "text": [
      "On le test sur (143,) personne\n"
     ]
    },
    {
     "data": {
      "text/plain": [
       "<AxesSubplot:>"
      ]
     },
     "execution_count": 64,
     "metadata": {},
     "output_type": "execute_result"
    },
    {
     "data": {
      "image/png": "[encoded data removed]",
      "text/plain": [
       "<Figure size 1000x500 with 2 Axes>"
      ]
     },
     "metadata": {},
     "output_type": "display_data"
    }
   ],
   "source": [
    "print('On le test sur',y_test.shape,'personne')\n",
    "plt.figure(figsize=(10,5))\n",
    "sns.heatmap(confusion_matrix(y_test,y_pred),annot=True)"
   ]
  },
  {
   "cell_type": "markdown",
   "id": "8b475cfa",
   "metadata": {},
   "source": [
    "Nous observons un problème de prédiction dans la classe 0, où le modèle a fait 31 prédictions incorrectes sur les 47 échantillons. Nous nous efforcerons d'améliorer notre modèle afin d'obtenir de meilleures performances dans cette classe, en cherchant des moyens d'optimiser nos algorithmes et de mieux traiter les caractéristiques pertinentes. L'objectif est d'augmenter la précision globale du modèle, en particulier pour les cas où les prédictions sont actuellement moins précises."
   ]
  },
  {
   "cell_type": "markdown",
   "id": "13724862",
   "metadata": {},
   "source": [
    "================================================"
   ]
  },
  {
   "cell_type": "markdown",
   "id": "2dbe4e2b",
   "metadata": {},
   "source": [
    "Nous allons utiliser make_pipeline pour assembler plusieurs méthodes de prétraitement et les traiter conjointement. Nous inclurons StandardScaler dans le pipeline pour normaliser nos données. De plus, nous utiliserons PolynomialFeatures, un polynôme permettant de mieux classifier nos éléments et de réduire les erreurs, améliorant ainsi nos prédictions. Cette approche combinée de normalisation et de transformation polynomiale contribuera à obtenir des prédictions plus précises."
   ]
  },
  {
   "cell_type": "code",
   "execution_count": 65,
   "id": "1251a712",
   "metadata": {},
   "outputs": [],
   "source": [
    "from sklearn.pipeline import make_pipeline\n",
    "from sklearn.preprocessing import PolynomialFeatures\n",
    "from sklearn.preprocessing import StandardScaler"
   ]
  },
  {
   "cell_type": "code",
   "execution_count": 74,
   "id": "83cd21de",
   "metadata": {},
   "outputs": [],
   "source": [
    "logisticregr=make_pipeline(StandardScaler(),PolynomialFeatures(4),LogisticRegression(random_state=0))"
   ]
  },
  {
   "cell_type": "code",
   "execution_count": 75,
   "id": "8dc49a36",
   "metadata": {},
   "outputs": [
    {
     "name": "stderr",
     "output_type": "stream",
     "text": [
      "/home/mouhammed/anaconda3/lib/python3.9/site-packages/sklearn/linear_model/_logistic.py:814: ConvergenceWarning: lbfgs failed to converge (status=1):\n",
      "STOP: TOTAL NO. of ITERATIONS REACHED LIMIT.\n",
      "\n",
      "Increase the number of iterations (max_iter) or scale the data as shown in:\n",
      "    https://scikit-learn.org/stable/modules/preprocessing.html\n",
      "Please also refer to the documentation for alternative solver options:\n",
      "    https://scikit-learn.org/stable/modules/linear_model.html#logistic-regression\n",
      "  n_iter_i = _check_optimize_result(\n"
     ]
    },
    {
     "data": {
      "text/plain": [
       "0.7342657342657343"
      ]
     },
     "execution_count": 75,
     "metadata": {},
     "output_type": "execute_result"
    }
   ],
   "source": [
    "logisticregr.fit(x_train,y_train)\n",
    "logisticregr.score(x_test,y_test)"
   ]
  },
  {
   "cell_type": "code",
   "execution_count": 76,
   "id": "f67c2824",
   "metadata": {},
   "outputs": [
    {
     "name": "stdout",
     "output_type": "stream",
     "text": [
      "On le test sur (143,) personne\n"
     ]
    },
    {
     "data": {
      "text/plain": [
       "<AxesSubplot:>"
      ]
     },
     "execution_count": 76,
     "metadata": {},
     "output_type": "execute_result"
    },
    {
     "data": {
      "image/png": "[encoded data removed]",
      "text/plain": [
       "<Figure size 1000x500 with 2 Axes>"
      ]
     },
     "metadata": {},
     "output_type": "display_data"
    }
   ],
   "source": [
    "y_prede=logisticregr.predict(x_test)\n",
    "print('On le test sur',y_test.shape,'personne')\n",
    "plt.figure(figsize=(10,5))\n",
    "sns.heatmap(confusion_matrix(y_test,y_prede),annot=True)"
   ]
  },
  {
   "cell_type": "markdown",
   "id": "d0691bce",
   "metadata": {},
   "source": [
    "On a toujours pas une meilleure performance sur nos predictions"
   ]
  },
  {
   "cell_type": "markdown",
   "id": "124c7686",
   "metadata": {},
   "source": [
    "### Cherchons par un autre moyen une maniere de rendre plus performant notre modele"
   ]
  },
  {
   "cell_type": "markdown",
   "id": "2ed0a26c",
   "metadata": {},
   "source": [
    "Important maintenant SelectKBest et le test de chi2 qui nous viennent du module sklearn.feature_selection,ils permettent de selection les meilleures variables"
   ]
  },
  {
   "cell_type": "code",
   "execution_count": 77,
   "id": "de4b8e21",
   "metadata": {},
   "outputs": [
    {
     "data": {
      "text/plain": [
       "(array([3.55649079e-01, 2.23350307e+00, 1.02760691e-02, 4.51572287e-01,\n",
       "        6.17270673e-01, 5.37884891e+03, 5.15757844e+03, 1.20401432e+02,\n",
       "        3.92876753e-01, 1.97608217e+01, 6.03403505e+00]),\n",
       " array([5.50932612e-01, 1.35047357e-01, 9.19255998e-01, 5.01589245e-01,\n",
       "        4.32063333e-01, 0.00000000e+00, 0.00000000e+00, 5.16714283e-28,\n",
       "        5.30791121e-01, 8.77633484e-06, 1.40326194e-02]))"
      ]
     },
     "execution_count": 77,
     "metadata": {},
     "output_type": "execute_result"
    }
   ],
   "source": [
    "from sklearn.feature_selection import SelectKBest , chi2\n",
    "chi2(x,y)"
   ]
  },
  {
   "cell_type": "code",
   "execution_count": 78,
   "id": "cff5ed89",
   "metadata": {},
   "outputs": [
    {
     "data": {
      "text/plain": [
       "array([False, False, False, False, False,  True,  True,  True, False,\n",
       "        True, False])"
      ]
     },
     "execution_count": 78,
     "metadata": {},
     "output_type": "execute_result"
    }
   ],
   "source": [
    "selector=SelectKBest(chi2,k=4)\n",
    "selector.fit_transform(x,y)\n",
    "selector.get_support()"
   ]
  },
  {
   "cell_type": "markdown",
   "id": "14f603eb",
   "metadata": {},
   "source": [
    "les 4 meilleures variables selon le test sont: ApplicantIncome CoapplicantIncome LoanAmount Credit_History. Nous allons donc supprimé toute les autres variables pour voir si nous allons voir une meilleure performance\n"
   ]
  },
  {
   "cell_type": "code",
   "execution_count": 79,
   "id": "bb862566",
   "metadata": {},
   "outputs": [
    {
     "data": {
      "text/html": [
       "<div>\n",
       "<style scoped>\n",
       "    .dataframe tbody tr th:only-of-type {\n",
       "        vertical-align: middle;\n",
       "    }\n",
       "\n",
       "    .dataframe tbody tr th {\n",
       "        vertical-align: top;\n",
       "    }\n",
       "\n",
       "    .dataframe thead th {\n",
       "        text-align: right;\n",
       "    }\n",
       "</style>\n",
       "<table border=\"1\" class=\"dataframe\">\n",
       "  <thead>\n",
       "    <tr style=\"text-align: right;\">\n",
       "      <th></th>\n",
       "      <th>Gender</th>\n",
       "      <th>Married</th>\n",
       "      <th>Dependents</th>\n",
       "      <th>Education</th>\n",
       "      <th>Self_Employed</th>\n",
       "      <th>ApplicantIncome</th>\n",
       "      <th>CoapplicantIncome</th>\n",
       "      <th>LoanAmount</th>\n",
       "      <th>Loan_Amount_Term</th>\n",
       "      <th>Credit_History</th>\n",
       "      <th>property_Area</th>\n",
       "      <th>Loan_Status</th>\n",
       "    </tr>\n",
       "  </thead>\n",
       "  <tbody>\n",
       "    <tr>\n",
       "      <th>2</th>\n",
       "      <td>1</td>\n",
       "      <td>1</td>\n",
       "      <td>0</td>\n",
       "      <td>1</td>\n",
       "      <td>1</td>\n",
       "      <td>3000.0</td>\n",
       "      <td>0.0</td>\n",
       "      <td>66.0</td>\n",
       "      <td>360.0</td>\n",
       "      <td>1.0</td>\n",
       "      <td>2</td>\n",
       "      <td>1</td>\n",
       "    </tr>\n",
       "  </tbody>\n",
       "</table>\n",
       "</div>"
      ],
      "text/plain": [
       "   Gender  Married Dependents  Education  Self_Employed  ApplicantIncome  \\\n",
       "2       1        1          0          1              1           3000.0   \n",
       "\n",
       "   CoapplicantIncome  LoanAmount  Loan_Amount_Term  Credit_History  \\\n",
       "2                0.0        66.0             360.0             1.0   \n",
       "\n",
       "   property_Area  Loan_Status  \n",
       "2              2            1  "
      ]
     },
     "execution_count": 79,
     "metadata": {},
     "output_type": "execute_result"
    }
   ],
   "source": [
    "df.head(1)"
   ]
  },
  {
   "cell_type": "code",
   "execution_count": 81,
   "id": "94b03f28",
   "metadata": {},
   "outputs": [
    {
     "data": {
      "text/html": [
       "<div>\n",
       "<style scoped>\n",
       "    .dataframe tbody tr th:only-of-type {\n",
       "        vertical-align: middle;\n",
       "    }\n",
       "\n",
       "    .dataframe tbody tr th {\n",
       "        vertical-align: top;\n",
       "    }\n",
       "\n",
       "    .dataframe thead th {\n",
       "        text-align: right;\n",
       "    }\n",
       "</style>\n",
       "<table border=\"1\" class=\"dataframe\">\n",
       "  <thead>\n",
       "    <tr style=\"text-align: right;\">\n",
       "      <th></th>\n",
       "      <th>ApplicantIncome</th>\n",
       "      <th>CoapplicantIncome</th>\n",
       "      <th>LoanAmount</th>\n",
       "      <th>Credit_History</th>\n",
       "      <th>Loan_Status</th>\n",
       "    </tr>\n",
       "  </thead>\n",
       "  <tbody>\n",
       "    <tr>\n",
       "      <th>2</th>\n",
       "      <td>3000.0</td>\n",
       "      <td>0.0</td>\n",
       "      <td>66.0</td>\n",
       "      <td>1.0</td>\n",
       "      <td>1</td>\n",
       "    </tr>\n",
       "    <tr>\n",
       "      <th>3</th>\n",
       "      <td>2583.0</td>\n",
       "      <td>2358.0</td>\n",
       "      <td>120.0</td>\n",
       "      <td>1.0</td>\n",
       "      <td>1</td>\n",
       "    </tr>\n",
       "    <tr>\n",
       "      <th>4</th>\n",
       "      <td>6000.0</td>\n",
       "      <td>0.0</td>\n",
       "      <td>141.0</td>\n",
       "      <td>1.0</td>\n",
       "      <td>1</td>\n",
       "    </tr>\n",
       "    <tr>\n",
       "      <th>6</th>\n",
       "      <td>2333.0</td>\n",
       "      <td>1516.0</td>\n",
       "      <td>95.0</td>\n",
       "      <td>1.0</td>\n",
       "      <td>1</td>\n",
       "    </tr>\n",
       "    <tr>\n",
       "      <th>7</th>\n",
       "      <td>3036.0</td>\n",
       "      <td>2504.0</td>\n",
       "      <td>158.0</td>\n",
       "      <td>0.0</td>\n",
       "      <td>0</td>\n",
       "    </tr>\n",
       "  </tbody>\n",
       "</table>\n",
       "</div>"
      ],
      "text/plain": [
       "   ApplicantIncome  CoapplicantIncome  LoanAmount  Credit_History  Loan_Status\n",
       "2           3000.0                0.0        66.0             1.0            1\n",
       "3           2583.0             2358.0       120.0             1.0            1\n",
       "4           6000.0                0.0       141.0             1.0            1\n",
       "6           2333.0             1516.0        95.0             1.0            1\n",
       "7           3036.0             2504.0       158.0             0.0            0"
      ]
     },
     "execution_count": 81,
     "metadata": {},
     "output_type": "execute_result"
    }
   ],
   "source": [
    "df.drop(['Gender','Married','Dependents','Education','Self_Employed','Loan_Amount_Term','property_Area'],axis=1,inplace=True)\n",
    "df.head()"
   ]
  },
  {
   "cell_type": "code",
   "execution_count": 82,
   "id": "e6153a92",
   "metadata": {},
   "outputs": [
    {
     "name": "stderr",
     "output_type": "stream",
     "text": [
      "/home/mouhammed/anaconda3/lib/python3.9/site-packages/sklearn/linear_model/_logistic.py:814: ConvergenceWarning: lbfgs failed to converge (status=1):\n",
      "STOP: TOTAL NO. of ITERATIONS REACHED LIMIT.\n",
      "\n",
      "Increase the number of iterations (max_iter) or scale the data as shown in:\n",
      "    https://scikit-learn.org/stable/modules/preprocessing.html\n",
      "Please also refer to the documentation for alternative solver options:\n",
      "    https://scikit-learn.org/stable/modules/linear_model.html#logistic-regression\n",
      "  n_iter_i = _check_optimize_result(\n"
     ]
    },
    {
     "data": {
      "text/plain": [
       "0.8041958041958042"
      ]
     },
     "execution_count": 82,
     "metadata": {},
     "output_type": "execute_result"
    }
   ],
   "source": [
    "c=df.drop('Loan_Status',axis=1)\n",
    "d=df['Loan_Status']\n",
    "c_train,c_test,d_train,d_test=train_test_split(c,d,test_size=0.3,random_state=0)\n",
    "logisticregr.fit(c_train,d_train)\n",
    "logisticregr.score(c_test,d_test)"
   ]
  },
  {
   "cell_type": "markdown",
   "id": "056d451c",
   "metadata": {},
   "source": [
    "Nous venons d'avoir la meilleure score(80%) depuis le debut de notre traitement, donc la selection de variable pése vraiment sur la performance de notre modele\n"
   ]
  },
  {
   "cell_type": "code",
   "execution_count": 83,
   "id": "a04de0e8",
   "metadata": {},
   "outputs": [
    {
     "name": "stdout",
     "output_type": "stream",
     "text": [
      "On le test sur (143,) personne\n"
     ]
    },
    {
     "data": {
      "text/plain": [
       "<AxesSubplot:>"
      ]
     },
     "execution_count": 83,
     "metadata": {},
     "output_type": "execute_result"
    },
    {
     "data": {
      "image/png": "[encoded data removed]",
      "text/plain": [
       "<Figure size 1000x500 with 2 Axes>"
      ]
     },
     "metadata": {},
     "output_type": "display_data"
    }
   ],
   "source": [
    "d_prede=logisticregr.predict(c_test)\n",
    "print('On le test sur',d_test.shape,'personne')\n",
    "plt.figure(figsize=(10,5))\n",
    "sns.heatmap(confusion_matrix(d_test,d_prede),annot=True)"
   ]
  },
  {
   "cell_type": "markdown",
   "id": "debca011",
   "metadata": {},
   "source": [
    "On a toujours un probleme sur la classe 0( les personnes ayant pas prêt) car sur les 47 qui devaient etre sur la classe 0, le modele en a fait 25 de maivais classement. Cela s'explique du fait que le modele c'est tres peu entrainer sur cette classe à cause du manque de donnée"
   ]
  },
  {
   "cell_type": "markdown",
   "id": "f03f6794",
   "metadata": {},
   "source": [
    "### Maintenant nous alllons supprimer les valeures manquantes apres avoir selection les meilleures variables a fin d'avoir plus de données\n"
   ]
  },
  {
   "cell_type": "code",
   "execution_count": 85,
   "id": "8b810757",
   "metadata": {},
   "outputs": [
    {
     "data": {
      "text/html": [
       "<div>\n",
       "<style scoped>\n",
       "    .dataframe tbody tr th:only-of-type {\n",
       "        vertical-align: middle;\n",
       "    }\n",
       "\n",
       "    .dataframe tbody tr th {\n",
       "        vertical-align: top;\n",
       "    }\n",
       "\n",
       "    .dataframe thead th {\n",
       "        text-align: right;\n",
       "    }\n",
       "</style>\n",
       "<table border=\"1\" class=\"dataframe\">\n",
       "  <thead>\n",
       "    <tr style=\"text-align: right;\">\n",
       "      <th></th>\n",
       "      <th>Loan_ID</th>\n",
       "      <th>Gender</th>\n",
       "      <th>Married</th>\n",
       "      <th>Dependents</th>\n",
       "      <th>Education</th>\n",
       "      <th>Self_Employed</th>\n",
       "      <th>ApplicantIncome</th>\n",
       "      <th>CoapplicantIncome</th>\n",
       "      <th>LoanAmount</th>\n",
       "      <th>Loan_Amount_Term</th>\n",
       "      <th>Credit_History</th>\n",
       "      <th>property_Area</th>\n",
       "      <th>Loan_Status</th>\n",
       "    </tr>\n",
       "  </thead>\n",
       "  <tbody>\n",
       "    <tr>\n",
       "      <th>0</th>\n",
       "      <td>LP001002</td>\n",
       "      <td>Male</td>\n",
       "      <td>No</td>\n",
       "      <td>0</td>\n",
       "      <td>Graduate</td>\n",
       "      <td>No</td>\n",
       "      <td>5849.0</td>\n",
       "      <td>0.0</td>\n",
       "      <td>NaN</td>\n",
       "      <td>360.0</td>\n",
       "      <td>1.0</td>\n",
       "      <td>Urban</td>\n",
       "      <td>Y</td>\n",
       "    </tr>\n",
       "  </tbody>\n",
       "</table>\n",
       "</div>"
      ],
      "text/plain": [
       "    Loan_ID Gender Married Dependents Education Self_Employed  \\\n",
       "0  LP001002   Male      No          0  Graduate            No   \n",
       "\n",
       "   ApplicantIncome  CoapplicantIncome  LoanAmount  Loan_Amount_Term  \\\n",
       "0           5849.0                0.0         NaN             360.0   \n",
       "\n",
       "   Credit_History property_Area Loan_Status  \n",
       "0             1.0         Urban           Y  "
      ]
     },
     "execution_count": 85,
     "metadata": {},
     "output_type": "execute_result"
    }
   ],
   "source": [
    "dat=pd.read_csv(\"archive(4)/training_set.csv\")\n",
    "dat.head(1)"
   ]
  },
  {
   "cell_type": "code",
   "execution_count": 86,
   "id": "fb60cbbd",
   "metadata": {},
   "outputs": [
    {
     "data": {
      "text/html": [
       "<div>\n",
       "<style scoped>\n",
       "    .dataframe tbody tr th:only-of-type {\n",
       "        vertical-align: middle;\n",
       "    }\n",
       "\n",
       "    .dataframe tbody tr th {\n",
       "        vertical-align: top;\n",
       "    }\n",
       "\n",
       "    .dataframe thead th {\n",
       "        text-align: right;\n",
       "    }\n",
       "</style>\n",
       "<table border=\"1\" class=\"dataframe\">\n",
       "  <thead>\n",
       "    <tr style=\"text-align: right;\">\n",
       "      <th></th>\n",
       "      <th>ApplicantIncome</th>\n",
       "      <th>CoapplicantIncome</th>\n",
       "      <th>LoanAmount</th>\n",
       "      <th>Credit_History</th>\n",
       "      <th>Loan_Status</th>\n",
       "    </tr>\n",
       "  </thead>\n",
       "  <tbody>\n",
       "    <tr>\n",
       "      <th>0</th>\n",
       "      <td>5849.0</td>\n",
       "      <td>0.0</td>\n",
       "      <td>NaN</td>\n",
       "      <td>1.0</td>\n",
       "      <td>Y</td>\n",
       "    </tr>\n",
       "    <tr>\n",
       "      <th>1</th>\n",
       "      <td>NaN</td>\n",
       "      <td>1508.0</td>\n",
       "      <td>128.0</td>\n",
       "      <td>1.0</td>\n",
       "      <td>N</td>\n",
       "    </tr>\n",
       "    <tr>\n",
       "      <th>2</th>\n",
       "      <td>3000.0</td>\n",
       "      <td>0.0</td>\n",
       "      <td>66.0</td>\n",
       "      <td>1.0</td>\n",
       "      <td>Y</td>\n",
       "    </tr>\n",
       "    <tr>\n",
       "      <th>3</th>\n",
       "      <td>2583.0</td>\n",
       "      <td>2358.0</td>\n",
       "      <td>120.0</td>\n",
       "      <td>1.0</td>\n",
       "      <td>Y</td>\n",
       "    </tr>\n",
       "    <tr>\n",
       "      <th>4</th>\n",
       "      <td>6000.0</td>\n",
       "      <td>0.0</td>\n",
       "      <td>141.0</td>\n",
       "      <td>1.0</td>\n",
       "      <td>Y</td>\n",
       "    </tr>\n",
       "  </tbody>\n",
       "</table>\n",
       "</div>"
      ],
      "text/plain": [
       "   ApplicantIncome  CoapplicantIncome  LoanAmount  Credit_History Loan_Status\n",
       "0           5849.0                0.0         NaN             1.0           Y\n",
       "1              NaN             1508.0       128.0             1.0           N\n",
       "2           3000.0                0.0        66.0             1.0           Y\n",
       "3           2583.0             2358.0       120.0             1.0           Y\n",
       "4           6000.0                0.0       141.0             1.0           Y"
      ]
     },
     "execution_count": 86,
     "metadata": {},
     "output_type": "execute_result"
    }
   ],
   "source": [
    "dat.drop(['Loan_ID','Gender','Married','Dependents','Education','Self_Employed','Loan_Amount_Term','property_Area'],axis=1,inplace=True)\n",
    "dat.head()"
   ]
  },
  {
   "cell_type": "code",
   "execution_count": 87,
   "id": "23b00f14",
   "metadata": {},
   "outputs": [
    {
     "name": "stderr",
     "output_type": "stream",
     "text": [
      "/home/mouhammed/anaconda3/lib/python3.9/site-packages/sklearn/linear_model/_logistic.py:814: ConvergenceWarning: lbfgs failed to converge (status=1):\n",
      "STOP: TOTAL NO. of ITERATIONS REACHED LIMIT.\n",
      "\n",
      "Increase the number of iterations (max_iter) or scale the data as shown in:\n",
      "    https://scikit-learn.org/stable/modules/preprocessing.html\n",
      "Please also refer to the documentation for alternative solver options:\n",
      "    https://scikit-learn.org/stable/modules/linear_model.html#logistic-regression\n",
      "  n_iter_i = _check_optimize_result(\n"
     ]
    },
    {
     "data": {
      "text/plain": [
       "0.808641975308642"
      ]
     },
     "execution_count": 87,
     "metadata": {},
     "output_type": "execute_result"
    }
   ],
   "source": [
    "dat['Loan_Status'].replace(['Y','N'],[1,0],inplace=True)\n",
    "dat.dropna(axis=0,inplace=True)\n",
    "dat.shape\n",
    "(543, 5)\n",
    "e=dat.drop('Loan_Status',axis=1)\n",
    "f=dat['Loan_Status']\n",
    "e_train,e_test,f_train,f_test=train_test_split(e,f,test_size=0.3,random_state=0)\n",
    "logisticregr.fit(e_train,f_train)\n",
    "logisticregr.score(e_test,f_test)"
   ]
  },
  {
   "cell_type": "code",
   "execution_count": 88,
   "id": "a2d033cb",
   "metadata": {},
   "outputs": [
    {
     "name": "stdout",
     "output_type": "stream",
     "text": [
      "On le test sur (162,) personne\n"
     ]
    },
    {
     "data": {
      "text/plain": [
       "<AxesSubplot:>"
      ]
     },
     "execution_count": 88,
     "metadata": {},
     "output_type": "execute_result"
    },
    {
     "data": {
      "image/png": "[encoded data removed]",
      "text/plain": [
       "<Figure size 1000x500 with 2 Axes>"
      ]
     },
     "metadata": {},
     "output_type": "display_data"
    }
   ],
   "source": [
    "f_prede=logisticregr.predict(e_test)\n",
    "print('On le test sur',f_test.shape,'personne')\n",
    "plt.figure(figsize=(10,5))\n",
    "sns.heatmap(confusion_matrix(f_test,f_prede),annot=True)"
   ]
  },
  {
   "cell_type": "markdown",
   "id": "fabcca71",
   "metadata": {},
   "source": [
    "On obtient maintenant une score de 81% la meilleure score et que le modele arrive actuellement à faire une prediction de plus 50% sur la classe 0 chose qu'on a jamiais eu\n"
   ]
  },
  {
   "cell_type": "markdown",
   "id": "374a0360",
   "metadata": {},
   "source": [
    "### Finalement, nous avons obtenu un score de 81%. Cependant, il reste encore des possibilités d'amélioration du modèle, que ce soit en ajoutant des techniques de traitement supplémentaires ou en intégrant davantage de données pour renforcer la performance de nos prédictions."
   ]
  },
  {
   "cell_type": "code",
   "execution_count": null,
   "id": "d7a9ca7d",
   "metadata": {},
   "outputs": [],
   "source": []
  },
  {
   "cell_type": "code",
   "execution_count": null,
   "id": "c3360887",
   "metadata": {},
   "outputs": [],
   "source": []
  }
 ],
 "metadata": {
  "kernelspec": {
   "display_name": "Python 3 (ipykernel)",
   "language": "python",
   "name": "python3"
  },
  "language_info": {
   "codemirror_mode": {
    "name": "ipython",
    "version": 3
   },
   "file_extension": ".py",
   "mimetype": "text/x-python",
   "name": "python",
   "nbconvert_exporter": "python",
   "pygments_lexer": "ipython3",
   "version": "3.9.13"
  }
 },
 "nbformat": 4,
 "nbformat_minor": 5
}
