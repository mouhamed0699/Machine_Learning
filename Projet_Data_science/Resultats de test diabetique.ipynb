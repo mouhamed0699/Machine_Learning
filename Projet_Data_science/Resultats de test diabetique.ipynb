{
 "cells": [
  {
   "cell_type": "markdown",
   "id": "751852da",
   "metadata": {},
   "source": [
    "### Mouhammed Niah\n",
    "### Etudiant: IMN"
   ]
  },
  {
   "cell_type": "markdown",
   "id": "43cfb635",
   "metadata": {},
   "source": [
    "______"
   ]
  },
  {
   "cell_type": "markdown",
   "id": "684457cb",
   "metadata": {},
   "source": [
    "# 1) Exploration de nos données"
   ]
  },
  {
   "cell_type": "code",
   "execution_count": 1,
   "id": "bd4fb4f4",
   "metadata": {},
   "outputs": [],
   "source": [
    "import pandas as pd \n",
    "import matplotlib.pyplot as plt\n",
    "import seaborn as sns\n",
    "import numpy as np"
   ]
  },
  {
   "cell_type": "code",
   "execution_count": 2,
   "id": "cabcaee4",
   "metadata": {},
   "outputs": [],
   "source": [
    "df=pd.read_csv(\"C:\\\\Users\\\\HP\\\\Desktop\\\\Données\\\\diabetes.csv\")"
   ]
  },
  {
   "cell_type": "code",
   "execution_count": 3,
   "id": "e7362ddd",
   "metadata": {},
   "outputs": [
    {
     "data": {
      "text/html": [
       "<div>\n",
       "<style scoped>\n",
       "    .dataframe tbody tr th:only-of-type {\n",
       "        vertical-align: middle;\n",
       "    }\n",
       "\n",
       "    .dataframe tbody tr th {\n",
       "        vertical-align: top;\n",
       "    }\n",
       "\n",
       "    .dataframe thead th {\n",
       "        text-align: right;\n",
       "    }\n",
       "</style>\n",
       "<table border=\"1\" class=\"dataframe\">\n",
       "  <thead>\n",
       "    <tr style=\"text-align: right;\">\n",
       "      <th></th>\n",
       "      <th>Pregnancies</th>\n",
       "      <th>Glucose</th>\n",
       "      <th>BloodPressure</th>\n",
       "      <th>SkinThickness</th>\n",
       "      <th>Insulin</th>\n",
       "      <th>BMI</th>\n",
       "      <th>DiabetesPedigreeFunction</th>\n",
       "      <th>Age</th>\n",
       "      <th>Outcome</th>\n",
       "    </tr>\n",
       "  </thead>\n",
       "  <tbody>\n",
       "    <tr>\n",
       "      <th>0</th>\n",
       "      <td>6</td>\n",
       "      <td>148</td>\n",
       "      <td>72</td>\n",
       "      <td>35</td>\n",
       "      <td>0</td>\n",
       "      <td>33.6</td>\n",
       "      <td>0.627</td>\n",
       "      <td>50</td>\n",
       "      <td>1</td>\n",
       "    </tr>\n",
       "    <tr>\n",
       "      <th>1</th>\n",
       "      <td>1</td>\n",
       "      <td>85</td>\n",
       "      <td>66</td>\n",
       "      <td>29</td>\n",
       "      <td>0</td>\n",
       "      <td>26.6</td>\n",
       "      <td>0.351</td>\n",
       "      <td>31</td>\n",
       "      <td>0</td>\n",
       "    </tr>\n",
       "    <tr>\n",
       "      <th>2</th>\n",
       "      <td>8</td>\n",
       "      <td>183</td>\n",
       "      <td>64</td>\n",
       "      <td>0</td>\n",
       "      <td>0</td>\n",
       "      <td>23.3</td>\n",
       "      <td>0.672</td>\n",
       "      <td>32</td>\n",
       "      <td>1</td>\n",
       "    </tr>\n",
       "    <tr>\n",
       "      <th>3</th>\n",
       "      <td>1</td>\n",
       "      <td>89</td>\n",
       "      <td>66</td>\n",
       "      <td>23</td>\n",
       "      <td>94</td>\n",
       "      <td>28.1</td>\n",
       "      <td>0.167</td>\n",
       "      <td>21</td>\n",
       "      <td>0</td>\n",
       "    </tr>\n",
       "    <tr>\n",
       "      <th>4</th>\n",
       "      <td>0</td>\n",
       "      <td>137</td>\n",
       "      <td>40</td>\n",
       "      <td>35</td>\n",
       "      <td>168</td>\n",
       "      <td>43.1</td>\n",
       "      <td>2.288</td>\n",
       "      <td>33</td>\n",
       "      <td>1</td>\n",
       "    </tr>\n",
       "  </tbody>\n",
       "</table>\n",
       "</div>"
      ],
      "text/plain": [
       "   Pregnancies  Glucose  BloodPressure  SkinThickness  Insulin   BMI  \\\n",
       "0            6      148             72             35        0  33.6   \n",
       "1            1       85             66             29        0  26.6   \n",
       "2            8      183             64              0        0  23.3   \n",
       "3            1       89             66             23       94  28.1   \n",
       "4            0      137             40             35      168  43.1   \n",
       "\n",
       "   DiabetesPedigreeFunction  Age  Outcome  \n",
       "0                     0.627   50        1  \n",
       "1                     0.351   31        0  \n",
       "2                     0.672   32        1  \n",
       "3                     0.167   21        0  \n",
       "4                     2.288   33        1  "
      ]
     },
     "execution_count": 3,
     "metadata": {},
     "output_type": "execute_result"
    }
   ],
   "source": [
    "df.head()"
   ]
  },
  {
   "cell_type": "markdown",
   "id": "4a25ce2e",
   "metadata": {},
   "source": [
    "====================================================================================================================="
   ]
  },
  {
   "cell_type": "markdown",
   "id": "75a83c79",
   "metadata": {},
   "source": [
    "#### Definition des variables\n",
    "$\\color{red}{\\text{Outcome}}$ : qui veut dire resultat ( resultat du diabête)\\\n",
    "$\\color{red}{\\text{BloodPressure}}$: Tension artérielle\\\n",
    "$\\color{red}{\\text{Glucose}}$: Glucose\\\n",
    "$\\color{red}{\\text{Insulin}}$: Insuline\\\n",
    "$\\color{red}{\\text{Age}}$: Age\\\n",
    "$\\color{red}{\\text{SkinThickness}}$: Epaisseur du peau\\\n",
    "$\\color{red}{\\text{DiabetesPedigreeFunction}}$: \n",
    "$\\color{red}{\\text{Pregnancies}}$: Grossesse\\\n",
    "$\\color{red}{\\text{BMI}}$:"
   ]
  },
  {
   "cell_type": "markdown",
   "id": "72b4bd7c",
   "metadata": {},
   "source": [
    "===================================================================================================================="
   ]
  },
  {
   "cell_type": "markdown",
   "id": "bda3bcdf",
   "metadata": {},
   "source": [
    "#### Information sur le dataset"
   ]
  },
  {
   "cell_type": "code",
   "execution_count": 4,
   "id": "3febd73e",
   "metadata": {},
   "outputs": [
    {
     "name": "stdout",
     "output_type": "stream",
     "text": [
      "<class 'pandas.core.frame.DataFrame'>\n",
      "RangeIndex: 768 entries, 0 to 767\n",
      "Data columns (total 9 columns):\n",
      " #   Column                    Non-Null Count  Dtype  \n",
      "---  ------                    --------------  -----  \n",
      " 0   Pregnancies               768 non-null    int64  \n",
      " 1   Glucose                   768 non-null    int64  \n",
      " 2   BloodPressure             768 non-null    int64  \n",
      " 3   SkinThickness             768 non-null    int64  \n",
      " 4   Insulin                   768 non-null    int64  \n",
      " 5   BMI                       768 non-null    float64\n",
      " 6   DiabetesPedigreeFunction  768 non-null    float64\n",
      " 7   Age                       768 non-null    int64  \n",
      " 8   Outcome                   768 non-null    int64  \n",
      "dtypes: float64(2), int64(7)\n",
      "memory usage: 54.1 KB\n"
     ]
    }
   ],
   "source": [
    "df.info()"
   ]
  },
  {
   "cell_type": "code",
   "execution_count": 5,
   "id": "a8d97720",
   "metadata": {},
   "outputs": [
    {
     "data": {
      "text/plain": [
       "Pregnancies                   int64\n",
       "Glucose                       int64\n",
       "BloodPressure                 int64\n",
       "SkinThickness                 int64\n",
       "Insulin                       int64\n",
       "BMI                         float64\n",
       "DiabetesPedigreeFunction    float64\n",
       "Age                           int64\n",
       "Outcome                       int64\n",
       "dtype: object"
      ]
     },
     "execution_count": 5,
     "metadata": {},
     "output_type": "execute_result"
    }
   ],
   "source": [
    "df.dtypes"
   ]
  },
  {
   "cell_type": "markdown",
   "id": "09ed25d1",
   "metadata": {},
   "source": [
    "=================================================================================================================="
   ]
  },
  {
   "cell_type": "markdown",
   "id": "43468188",
   "metadata": {},
   "source": [
    "#### Les statisstiques du dataset"
   ]
  },
  {
   "cell_type": "code",
   "execution_count": 6,
   "id": "75fa236d",
   "metadata": {},
   "outputs": [
    {
     "data": {
      "text/html": [
       "<div>\n",
       "<style scoped>\n",
       "    .dataframe tbody tr th:only-of-type {\n",
       "        vertical-align: middle;\n",
       "    }\n",
       "\n",
       "    .dataframe tbody tr th {\n",
       "        vertical-align: top;\n",
       "    }\n",
       "\n",
       "    .dataframe thead th {\n",
       "        text-align: right;\n",
       "    }\n",
       "</style>\n",
       "<table border=\"1\" class=\"dataframe\">\n",
       "  <thead>\n",
       "    <tr style=\"text-align: right;\">\n",
       "      <th></th>\n",
       "      <th>Pregnancies</th>\n",
       "      <th>Glucose</th>\n",
       "      <th>BloodPressure</th>\n",
       "      <th>SkinThickness</th>\n",
       "      <th>Insulin</th>\n",
       "      <th>BMI</th>\n",
       "      <th>DiabetesPedigreeFunction</th>\n",
       "      <th>Age</th>\n",
       "      <th>Outcome</th>\n",
       "    </tr>\n",
       "  </thead>\n",
       "  <tbody>\n",
       "    <tr>\n",
       "      <th>count</th>\n",
       "      <td>768.000000</td>\n",
       "      <td>768.000000</td>\n",
       "      <td>768.000000</td>\n",
       "      <td>768.000000</td>\n",
       "      <td>768.000000</td>\n",
       "      <td>768.000000</td>\n",
       "      <td>768.000000</td>\n",
       "      <td>768.000000</td>\n",
       "      <td>768.000000</td>\n",
       "    </tr>\n",
       "    <tr>\n",
       "      <th>mean</th>\n",
       "      <td>3.845052</td>\n",
       "      <td>120.894531</td>\n",
       "      <td>69.105469</td>\n",
       "      <td>20.536458</td>\n",
       "      <td>79.799479</td>\n",
       "      <td>31.992578</td>\n",
       "      <td>0.471876</td>\n",
       "      <td>33.240885</td>\n",
       "      <td>0.348958</td>\n",
       "    </tr>\n",
       "    <tr>\n",
       "      <th>std</th>\n",
       "      <td>3.369578</td>\n",
       "      <td>31.972618</td>\n",
       "      <td>19.355807</td>\n",
       "      <td>15.952218</td>\n",
       "      <td>115.244002</td>\n",
       "      <td>7.884160</td>\n",
       "      <td>0.331329</td>\n",
       "      <td>11.760232</td>\n",
       "      <td>0.476951</td>\n",
       "    </tr>\n",
       "    <tr>\n",
       "      <th>min</th>\n",
       "      <td>0.000000</td>\n",
       "      <td>0.000000</td>\n",
       "      <td>0.000000</td>\n",
       "      <td>0.000000</td>\n",
       "      <td>0.000000</td>\n",
       "      <td>0.000000</td>\n",
       "      <td>0.078000</td>\n",
       "      <td>21.000000</td>\n",
       "      <td>0.000000</td>\n",
       "    </tr>\n",
       "    <tr>\n",
       "      <th>25%</th>\n",
       "      <td>1.000000</td>\n",
       "      <td>99.000000</td>\n",
       "      <td>62.000000</td>\n",
       "      <td>0.000000</td>\n",
       "      <td>0.000000</td>\n",
       "      <td>27.300000</td>\n",
       "      <td>0.243750</td>\n",
       "      <td>24.000000</td>\n",
       "      <td>0.000000</td>\n",
       "    </tr>\n",
       "    <tr>\n",
       "      <th>50%</th>\n",
       "      <td>3.000000</td>\n",
       "      <td>117.000000</td>\n",
       "      <td>72.000000</td>\n",
       "      <td>23.000000</td>\n",
       "      <td>30.500000</td>\n",
       "      <td>32.000000</td>\n",
       "      <td>0.372500</td>\n",
       "      <td>29.000000</td>\n",
       "      <td>0.000000</td>\n",
       "    </tr>\n",
       "    <tr>\n",
       "      <th>75%</th>\n",
       "      <td>6.000000</td>\n",
       "      <td>140.250000</td>\n",
       "      <td>80.000000</td>\n",
       "      <td>32.000000</td>\n",
       "      <td>127.250000</td>\n",
       "      <td>36.600000</td>\n",
       "      <td>0.626250</td>\n",
       "      <td>41.000000</td>\n",
       "      <td>1.000000</td>\n",
       "    </tr>\n",
       "    <tr>\n",
       "      <th>max</th>\n",
       "      <td>17.000000</td>\n",
       "      <td>199.000000</td>\n",
       "      <td>122.000000</td>\n",
       "      <td>99.000000</td>\n",
       "      <td>846.000000</td>\n",
       "      <td>67.100000</td>\n",
       "      <td>2.420000</td>\n",
       "      <td>81.000000</td>\n",
       "      <td>1.000000</td>\n",
       "    </tr>\n",
       "  </tbody>\n",
       "</table>\n",
       "</div>"
      ],
      "text/plain": [
       "       Pregnancies     Glucose  BloodPressure  SkinThickness     Insulin  \\\n",
       "count   768.000000  768.000000     768.000000     768.000000  768.000000   \n",
       "mean      3.845052  120.894531      69.105469      20.536458   79.799479   \n",
       "std       3.369578   31.972618      19.355807      15.952218  115.244002   \n",
       "min       0.000000    0.000000       0.000000       0.000000    0.000000   \n",
       "25%       1.000000   99.000000      62.000000       0.000000    0.000000   \n",
       "50%       3.000000  117.000000      72.000000      23.000000   30.500000   \n",
       "75%       6.000000  140.250000      80.000000      32.000000  127.250000   \n",
       "max      17.000000  199.000000     122.000000      99.000000  846.000000   \n",
       "\n",
       "              BMI  DiabetesPedigreeFunction         Age     Outcome  \n",
       "count  768.000000                768.000000  768.000000  768.000000  \n",
       "mean    31.992578                  0.471876   33.240885    0.348958  \n",
       "std      7.884160                  0.331329   11.760232    0.476951  \n",
       "min      0.000000                  0.078000   21.000000    0.000000  \n",
       "25%     27.300000                  0.243750   24.000000    0.000000  \n",
       "50%     32.000000                  0.372500   29.000000    0.000000  \n",
       "75%     36.600000                  0.626250   41.000000    1.000000  \n",
       "max     67.100000                  2.420000   81.000000    1.000000  "
      ]
     },
     "execution_count": 6,
     "metadata": {},
     "output_type": "execute_result"
    }
   ],
   "source": [
    "df.describe()"
   ]
  },
  {
   "cell_type": "markdown",
   "id": "a2fdd885",
   "metadata": {},
   "source": [
    "==================================================================================================================="
   ]
  },
  {
   "cell_type": "markdown",
   "id": "20ce479d",
   "metadata": {},
   "source": [
    "#### Le target( la variable à predire)\n",
    "c'est la variable Outcome qui veut dire Resultats"
   ]
  },
  {
   "cell_type": "markdown",
   "id": "38e9fb30",
   "metadata": {},
   "source": [
    "====================================================================================================================="
   ]
  },
  {
   "cell_type": "markdown",
   "id": "972b87d2",
   "metadata": {},
   "source": [
    "#### Division notre dataset en deux classe:\n",
    "la classe des personnes atteient du diabete etla casse des personnes non attaint"
   ]
  },
  {
   "cell_type": "code",
   "execution_count": 7,
   "id": "7ea35e8e",
   "metadata": {},
   "outputs": [],
   "source": [
    "df_yes=df[df['Outcome']==1]\n",
    "df_non=df[df['Outcome']==0]"
   ]
  },
  {
   "cell_type": "code",
   "execution_count": 8,
   "id": "2480dad5",
   "metadata": {
    "scrolled": true
   },
   "outputs": [
    {
     "data": {
      "text/html": [
       "<div>\n",
       "<style scoped>\n",
       "    .dataframe tbody tr th:only-of-type {\n",
       "        vertical-align: middle;\n",
       "    }\n",
       "\n",
       "    .dataframe tbody tr th {\n",
       "        vertical-align: top;\n",
       "    }\n",
       "\n",
       "    .dataframe thead th {\n",
       "        text-align: right;\n",
       "    }\n",
       "</style>\n",
       "<table border=\"1\" class=\"dataframe\">\n",
       "  <thead>\n",
       "    <tr style=\"text-align: right;\">\n",
       "      <th></th>\n",
       "      <th>Pregnancies</th>\n",
       "      <th>Glucose</th>\n",
       "      <th>BloodPressure</th>\n",
       "      <th>SkinThickness</th>\n",
       "      <th>Insulin</th>\n",
       "      <th>BMI</th>\n",
       "      <th>DiabetesPedigreeFunction</th>\n",
       "      <th>Age</th>\n",
       "      <th>Outcome</th>\n",
       "    </tr>\n",
       "  </thead>\n",
       "  <tbody>\n",
       "    <tr>\n",
       "      <th>0</th>\n",
       "      <td>6</td>\n",
       "      <td>148</td>\n",
       "      <td>72</td>\n",
       "      <td>35</td>\n",
       "      <td>0</td>\n",
       "      <td>33.6</td>\n",
       "      <td>0.627</td>\n",
       "      <td>50</td>\n",
       "      <td>1</td>\n",
       "    </tr>\n",
       "    <tr>\n",
       "      <th>2</th>\n",
       "      <td>8</td>\n",
       "      <td>183</td>\n",
       "      <td>64</td>\n",
       "      <td>0</td>\n",
       "      <td>0</td>\n",
       "      <td>23.3</td>\n",
       "      <td>0.672</td>\n",
       "      <td>32</td>\n",
       "      <td>1</td>\n",
       "    </tr>\n",
       "    <tr>\n",
       "      <th>4</th>\n",
       "      <td>0</td>\n",
       "      <td>137</td>\n",
       "      <td>40</td>\n",
       "      <td>35</td>\n",
       "      <td>168</td>\n",
       "      <td>43.1</td>\n",
       "      <td>2.288</td>\n",
       "      <td>33</td>\n",
       "      <td>1</td>\n",
       "    </tr>\n",
       "    <tr>\n",
       "      <th>6</th>\n",
       "      <td>3</td>\n",
       "      <td>78</td>\n",
       "      <td>50</td>\n",
       "      <td>32</td>\n",
       "      <td>88</td>\n",
       "      <td>31.0</td>\n",
       "      <td>0.248</td>\n",
       "      <td>26</td>\n",
       "      <td>1</td>\n",
       "    </tr>\n",
       "    <tr>\n",
       "      <th>8</th>\n",
       "      <td>2</td>\n",
       "      <td>197</td>\n",
       "      <td>70</td>\n",
       "      <td>45</td>\n",
       "      <td>543</td>\n",
       "      <td>30.5</td>\n",
       "      <td>0.158</td>\n",
       "      <td>53</td>\n",
       "      <td>1</td>\n",
       "    </tr>\n",
       "  </tbody>\n",
       "</table>\n",
       "</div>"
      ],
      "text/plain": [
       "   Pregnancies  Glucose  BloodPressure  SkinThickness  Insulin   BMI  \\\n",
       "0            6      148             72             35        0  33.6   \n",
       "2            8      183             64              0        0  23.3   \n",
       "4            0      137             40             35      168  43.1   \n",
       "6            3       78             50             32       88  31.0   \n",
       "8            2      197             70             45      543  30.5   \n",
       "\n",
       "   DiabetesPedigreeFunction  Age  Outcome  \n",
       "0                     0.627   50        1  \n",
       "2                     0.672   32        1  \n",
       "4                     2.288   33        1  \n",
       "6                     0.248   26        1  \n",
       "8                     0.158   53        1  "
      ]
     },
     "execution_count": 8,
     "metadata": {},
     "output_type": "execute_result"
    }
   ],
   "source": [
    "df_yes.head()"
   ]
  },
  {
   "cell_type": "code",
   "execution_count": 9,
   "id": "00c80083",
   "metadata": {},
   "outputs": [
    {
     "data": {
      "text/html": [
       "<div>\n",
       "<style scoped>\n",
       "    .dataframe tbody tr th:only-of-type {\n",
       "        vertical-align: middle;\n",
       "    }\n",
       "\n",
       "    .dataframe tbody tr th {\n",
       "        vertical-align: top;\n",
       "    }\n",
       "\n",
       "    .dataframe thead th {\n",
       "        text-align: right;\n",
       "    }\n",
       "</style>\n",
       "<table border=\"1\" class=\"dataframe\">\n",
       "  <thead>\n",
       "    <tr style=\"text-align: right;\">\n",
       "      <th></th>\n",
       "      <th>Pregnancies</th>\n",
       "      <th>Glucose</th>\n",
       "      <th>BloodPressure</th>\n",
       "      <th>SkinThickness</th>\n",
       "      <th>Insulin</th>\n",
       "      <th>BMI</th>\n",
       "      <th>DiabetesPedigreeFunction</th>\n",
       "      <th>Age</th>\n",
       "      <th>Outcome</th>\n",
       "    </tr>\n",
       "  </thead>\n",
       "  <tbody>\n",
       "    <tr>\n",
       "      <th>1</th>\n",
       "      <td>1</td>\n",
       "      <td>85</td>\n",
       "      <td>66</td>\n",
       "      <td>29</td>\n",
       "      <td>0</td>\n",
       "      <td>26.6</td>\n",
       "      <td>0.351</td>\n",
       "      <td>31</td>\n",
       "      <td>0</td>\n",
       "    </tr>\n",
       "    <tr>\n",
       "      <th>3</th>\n",
       "      <td>1</td>\n",
       "      <td>89</td>\n",
       "      <td>66</td>\n",
       "      <td>23</td>\n",
       "      <td>94</td>\n",
       "      <td>28.1</td>\n",
       "      <td>0.167</td>\n",
       "      <td>21</td>\n",
       "      <td>0</td>\n",
       "    </tr>\n",
       "    <tr>\n",
       "      <th>5</th>\n",
       "      <td>5</td>\n",
       "      <td>116</td>\n",
       "      <td>74</td>\n",
       "      <td>0</td>\n",
       "      <td>0</td>\n",
       "      <td>25.6</td>\n",
       "      <td>0.201</td>\n",
       "      <td>30</td>\n",
       "      <td>0</td>\n",
       "    </tr>\n",
       "    <tr>\n",
       "      <th>7</th>\n",
       "      <td>10</td>\n",
       "      <td>115</td>\n",
       "      <td>0</td>\n",
       "      <td>0</td>\n",
       "      <td>0</td>\n",
       "      <td>35.3</td>\n",
       "      <td>0.134</td>\n",
       "      <td>29</td>\n",
       "      <td>0</td>\n",
       "    </tr>\n",
       "    <tr>\n",
       "      <th>10</th>\n",
       "      <td>4</td>\n",
       "      <td>110</td>\n",
       "      <td>92</td>\n",
       "      <td>0</td>\n",
       "      <td>0</td>\n",
       "      <td>37.6</td>\n",
       "      <td>0.191</td>\n",
       "      <td>30</td>\n",
       "      <td>0</td>\n",
       "    </tr>\n",
       "  </tbody>\n",
       "</table>\n",
       "</div>"
      ],
      "text/plain": [
       "    Pregnancies  Glucose  BloodPressure  SkinThickness  Insulin   BMI  \\\n",
       "1             1       85             66             29        0  26.6   \n",
       "3             1       89             66             23       94  28.1   \n",
       "5             5      116             74              0        0  25.6   \n",
       "7            10      115              0              0        0  35.3   \n",
       "10            4      110             92              0        0  37.6   \n",
       "\n",
       "    DiabetesPedigreeFunction  Age  Outcome  \n",
       "1                      0.351   31        0  \n",
       "3                      0.167   21        0  \n",
       "5                      0.201   30        0  \n",
       "7                      0.134   29        0  \n",
       "10                     0.191   30        0  "
      ]
     },
     "execution_count": 9,
     "metadata": {},
     "output_type": "execute_result"
    }
   ],
   "source": [
    "df_non.head()"
   ]
  },
  {
   "cell_type": "markdown",
   "id": "8b75526f",
   "metadata": {},
   "source": [
    "===================================================================================================================="
   ]
  },
  {
   "cell_type": "markdown",
   "id": "f6af2fb1",
   "metadata": {},
   "source": [
    "#### -Relation entre Target/Glucose"
   ]
  },
  {
   "cell_type": "code",
   "execution_count": 10,
   "id": "785847bf",
   "metadata": {},
   "outputs": [
    {
     "name": "stderr",
     "output_type": "stream",
     "text": [
      "C:\\Users\\HP\\anaconda3\\lib\\site-packages\\seaborn\\distributions.py:2619: FutureWarning: `distplot` is a deprecated function and will be removed in a future version. Please adapt your code to use either `displot` (a figure-level function with similar flexibility) or `histplot` (an axes-level function for histograms).\n",
      "  warnings.warn(msg, FutureWarning)\n",
      "C:\\Users\\HP\\anaconda3\\lib\\site-packages\\seaborn\\distributions.py:2619: FutureWarning: `distplot` is a deprecated function and will be removed in a future version. Please adapt your code to use either `displot` (a figure-level function with similar flexibility) or `histplot` (an axes-level function for histograms).\n",
      "  warnings.warn(msg, FutureWarning)\n"
     ]
    },
    {
     "data": {
      "image/png": "[encoded data removed]",
      "text/plain": [
       "<Figure size 1080x360 with 1 Axes>"
      ]
     },
     "metadata": {
      "needs_background": "light"
     },
     "output_type": "display_data"
    }
   ],
   "source": [
    "plt.figure(figsize=(15,5))\n",
    "sns.distplot(df_yes['Glucose'],label='atteint')\n",
    "sns.distplot(df_non['Glucose'],label='pas atteint')\n",
    "plt.legend()\n",
    "plt.show()"
   ]
  },
  {
   "cell_type": "markdown",
   "id": "1c21d6f5",
   "metadata": {},
   "source": [
    "#### $\\color{blue}{\\text{commentaire}}$\n",
    "on constate une grande difference du taux de glucose entre les gens atteint et les gens non atteint du diabete, donc on peut poser une hypothése selon la quelle : Le taux de Glucose est un facteur determinant pour savoir si une personne est atteint ou non de diabete  reste à verifier lors du traitement de nos données\\\n",
    " $\\color{red}{\\text{Ainsi nous allons consider par hypthése que la variable Glucose a un grand impact sur diabête}}$"
   ]
  },
  {
   "cell_type": "markdown",
   "id": "3e42e032",
   "metadata": {},
   "source": [
    "=================================================================================================================="
   ]
  },
  {
   "cell_type": "markdown",
   "id": "b292d65c",
   "metadata": {},
   "source": [
    "#### -Relation entre Target/BloodPressure"
   ]
  },
  {
   "cell_type": "code",
   "execution_count": 11,
   "id": "0b892d85",
   "metadata": {},
   "outputs": [
    {
     "name": "stderr",
     "output_type": "stream",
     "text": [
      "C:\\Users\\HP\\anaconda3\\lib\\site-packages\\seaborn\\distributions.py:2619: FutureWarning: `distplot` is a deprecated function and will be removed in a future version. Please adapt your code to use either `displot` (a figure-level function with similar flexibility) or `histplot` (an axes-level function for histograms).\n",
      "  warnings.warn(msg, FutureWarning)\n",
      "C:\\Users\\HP\\anaconda3\\lib\\site-packages\\seaborn\\distributions.py:2619: FutureWarning: `distplot` is a deprecated function and will be removed in a future version. Please adapt your code to use either `displot` (a figure-level function with similar flexibility) or `histplot` (an axes-level function for histograms).\n",
      "  warnings.warn(msg, FutureWarning)\n"
     ]
    },
    {
     "data": {
      "image/png": "[encoded data removed]",
      "text/plain": [
       "<Figure size 1080x360 with 1 Axes>"
      ]
     },
     "metadata": {
      "needs_background": "light"
     },
     "output_type": "display_data"
    }
   ],
   "source": [
    "plt.figure(figsize=(15,5))\n",
    "sns.distplot(df_yes['BloodPressure'],label='atteint')\n",
    "sns.distplot(df_non['BloodPressure'],label='pas atteint')\n",
    "plt.legend()\n",
    "plt.show()"
   ]
  },
  {
   "cell_type": "markdown",
   "id": "92c4a8cf",
   "metadata": {},
   "source": [
    "#### $\\color{blue}{\\text{commentaire}}$\n",
    "La visualisation des deux distributions pour cette variable nous permet de voir qu'il n y pas de difference entre la tension artérielle des gens atteints du diabête et ceux qui le sont pas.\n"
   ]
  },
  {
   "cell_type": "markdown",
   "id": "dabda894",
   "metadata": {},
   "source": [
    "==============================================================================================================="
   ]
  },
  {
   "cell_type": "markdown",
   "id": "0fc3dea5",
   "metadata": {},
   "source": [
    "#### -Relation entre Target/ Age"
   ]
  },
  {
   "cell_type": "code",
   "execution_count": 12,
   "id": "b52f441c",
   "metadata": {},
   "outputs": [
    {
     "name": "stderr",
     "output_type": "stream",
     "text": [
      "C:\\Users\\HP\\anaconda3\\lib\\site-packages\\seaborn\\_decorators.py:36: FutureWarning: Pass the following variable as a keyword arg: x. From version 0.12, the only valid positional argument will be `data`, and passing other arguments without an explicit keyword will result in an error or misinterpretation.\n",
      "  warnings.warn(\n",
      "C:\\Users\\HP\\anaconda3\\lib\\site-packages\\seaborn\\_decorators.py:36: FutureWarning: Pass the following variable as a keyword arg: x. From version 0.12, the only valid positional argument will be `data`, and passing other arguments without an explicit keyword will result in an error or misinterpretation.\n",
      "  warnings.warn(\n"
     ]
    },
    {
     "data": {
      "image/png": "[encoded data removed]",
      "text/plain": [
       "<Figure size 1080x360 with 1 Axes>"
      ]
     },
     "metadata": {
      "needs_background": "light"
     },
     "output_type": "display_data"
    }
   ],
   "source": [
    "plt.figure(figsize=(15,5))\n",
    "sns.countplot(df_yes['Age'],color='r',label='atteint')\n",
    "sns.countplot(df_non['Age'],color='b',label='pas atteint')\n",
    "plt.legend()\n",
    "plt.show()"
   ]
  },
  {
   "cell_type": "markdown",
   "id": "0c811779",
   "metadata": {},
   "source": [
    "#### $\\color{blue}{\\text{commentaire}}$\n",
    "Avec la visualisation de l'âge des personnes on constate même si c'est pas evident que les gens qui ont moins de 31 ans atteints rarement le diabête, on note un balotage entre les gens positifs et negatives du diabete pour une age compris entre 31 ans et 40 ans,mais c'est a partir des 41 ans que les gens sont caement touché par le dibête.\\\n",
    " $\\color{red}{\\text{Ainsi nous allons consider par hypthése que la variable Age a un impact sur diabête}}$"
   ]
  },
  {
   "cell_type": "markdown",
   "id": "4fe03490",
   "metadata": {},
   "source": [
    "====================================================================================================================="
   ]
  },
  {
   "cell_type": "markdown",
   "id": "aaae9787",
   "metadata": {},
   "source": [
    "#### -Relation Target/Insulin"
   ]
  },
  {
   "cell_type": "code",
   "execution_count": 13,
   "id": "a723f9c1",
   "metadata": {},
   "outputs": [
    {
     "name": "stderr",
     "output_type": "stream",
     "text": [
      "C:\\Users\\HP\\anaconda3\\lib\\site-packages\\seaborn\\distributions.py:2619: FutureWarning: `distplot` is a deprecated function and will be removed in a future version. Please adapt your code to use either `displot` (a figure-level function with similar flexibility) or `histplot` (an axes-level function for histograms).\n",
      "  warnings.warn(msg, FutureWarning)\n",
      "C:\\Users\\HP\\anaconda3\\lib\\site-packages\\seaborn\\distributions.py:2619: FutureWarning: `distplot` is a deprecated function and will be removed in a future version. Please adapt your code to use either `displot` (a figure-level function with similar flexibility) or `histplot` (an axes-level function for histograms).\n",
      "  warnings.warn(msg, FutureWarning)\n"
     ]
    },
    {
     "data": {
      "image/png": "[encoded data removed]",
      "text/plain": [
       "<Figure size 1080x360 with 1 Axes>"
      ]
     },
     "metadata": {
      "needs_background": "light"
     },
     "output_type": "display_data"
    }
   ],
   "source": [
    "plt.figure(figsize=(15,5))\n",
    "sns.distplot(df_yes['Insulin'],color='y',label='atteint')\n",
    "sns.distplot(df_non['Insulin'],color='g',label='pas atteint')\n",
    "plt.legend()\n",
    "plt.show()"
   ]
  },
  {
   "cell_type": "markdown",
   "id": "2d1c2a6d",
   "metadata": {},
   "source": [
    "#### $\\color{blue}{\\text{commentaire}}$\n",
    "On constate que les des distribution sont quasi-identique d'aprés leurs visualisation donc on peut poser l'hypothese selon la quelle la variable Insulin n'a pas un grand impact sur la variable à predire"
   ]
  },
  {
   "cell_type": "markdown",
   "id": "8f4b5786",
   "metadata": {},
   "source": [
    "====================================================================================================================="
   ]
  },
  {
   "cell_type": "markdown",
   "id": "9a9b1e96",
   "metadata": {},
   "source": [
    "#### Relation Target/Pregnancies"
   ]
  },
  {
   "cell_type": "code",
   "execution_count": 14,
   "id": "08561176",
   "metadata": {},
   "outputs": [
    {
     "name": "stderr",
     "output_type": "stream",
     "text": [
      "C:\\Users\\HP\\anaconda3\\lib\\site-packages\\seaborn\\distributions.py:2619: FutureWarning: `distplot` is a deprecated function and will be removed in a future version. Please adapt your code to use either `displot` (a figure-level function with similar flexibility) or `histplot` (an axes-level function for histograms).\n",
      "  warnings.warn(msg, FutureWarning)\n",
      "C:\\Users\\HP\\anaconda3\\lib\\site-packages\\seaborn\\distributions.py:2619: FutureWarning: `distplot` is a deprecated function and will be removed in a future version. Please adapt your code to use either `displot` (a figure-level function with similar flexibility) or `histplot` (an axes-level function for histograms).\n",
      "  warnings.warn(msg, FutureWarning)\n"
     ]
    },
    {
     "data": {
      "image/png": "[encoded data removed]",
      "text/plain": [
       "<Figure size 1080x360 with 1 Axes>"
      ]
     },
     "metadata": {
      "needs_background": "light"
     },
     "output_type": "display_data"
    }
   ],
   "source": [
    "plt.figure(figsize=(15,5))\n",
    "sns.distplot(df_yes['Pregnancies'],label='atteint')\n",
    "sns.distplot(df_non['Pregnancies'],label='pas atteint')\n",
    "plt.legend()\n",
    "plt.show()"
   ]
  },
  {
   "cell_type": "markdown",
   "id": "4acbf426",
   "metadata": {},
   "source": [
    "#### $\\color{blue}{\\text{commentaire}}$\n",
    "On constate que les des distribution sont quasi-identique d'aprés leurs visualisation donc on peut poser l'hypothese selon la quelle la variable Pregnancies n'a pas un grand impact sur la variable à predire"
   ]
  },
  {
   "cell_type": "markdown",
   "id": "32230f31",
   "metadata": {},
   "source": [
    "======================================================================================================================"
   ]
  },
  {
   "cell_type": "markdown",
   "id": "f3222019",
   "metadata": {},
   "source": [
    "#### - Relation entre Target/DiabetesPedigreeFunction"
   ]
  },
  {
   "cell_type": "code",
   "execution_count": 15,
   "id": "79f55a2b",
   "metadata": {},
   "outputs": [
    {
     "data": {
      "text/html": [
       "<div>\n",
       "<style scoped>\n",
       "    .dataframe tbody tr th:only-of-type {\n",
       "        vertical-align: middle;\n",
       "    }\n",
       "\n",
       "    .dataframe tbody tr th {\n",
       "        vertical-align: top;\n",
       "    }\n",
       "\n",
       "    .dataframe thead th {\n",
       "        text-align: right;\n",
       "    }\n",
       "</style>\n",
       "<table border=\"1\" class=\"dataframe\">\n",
       "  <thead>\n",
       "    <tr style=\"text-align: right;\">\n",
       "      <th></th>\n",
       "      <th>Pregnancies</th>\n",
       "      <th>Glucose</th>\n",
       "      <th>BloodPressure</th>\n",
       "      <th>SkinThickness</th>\n",
       "      <th>Insulin</th>\n",
       "      <th>BMI</th>\n",
       "      <th>DiabetesPedigreeFunction</th>\n",
       "      <th>Age</th>\n",
       "      <th>Outcome</th>\n",
       "    </tr>\n",
       "  </thead>\n",
       "  <tbody>\n",
       "    <tr>\n",
       "      <th>0</th>\n",
       "      <td>6</td>\n",
       "      <td>148</td>\n",
       "      <td>72</td>\n",
       "      <td>35</td>\n",
       "      <td>0</td>\n",
       "      <td>33.6</td>\n",
       "      <td>0.627</td>\n",
       "      <td>50</td>\n",
       "      <td>1</td>\n",
       "    </tr>\n",
       "  </tbody>\n",
       "</table>\n",
       "</div>"
      ],
      "text/plain": [
       "   Pregnancies  Glucose  BloodPressure  SkinThickness  Insulin   BMI  \\\n",
       "0            6      148             72             35        0  33.6   \n",
       "\n",
       "   DiabetesPedigreeFunction  Age  Outcome  \n",
       "0                     0.627   50        1  "
      ]
     },
     "execution_count": 15,
     "metadata": {},
     "output_type": "execute_result"
    }
   ],
   "source": [
    "df.head(1)"
   ]
  },
  {
   "cell_type": "code",
   "execution_count": 16,
   "id": "a32bf36d",
   "metadata": {},
   "outputs": [
    {
     "name": "stderr",
     "output_type": "stream",
     "text": [
      "C:\\Users\\HP\\anaconda3\\lib\\site-packages\\seaborn\\distributions.py:2619: FutureWarning: `distplot` is a deprecated function and will be removed in a future version. Please adapt your code to use either `displot` (a figure-level function with similar flexibility) or `histplot` (an axes-level function for histograms).\n",
      "  warnings.warn(msg, FutureWarning)\n",
      "C:\\Users\\HP\\anaconda3\\lib\\site-packages\\seaborn\\distributions.py:2619: FutureWarning: `distplot` is a deprecated function and will be removed in a future version. Please adapt your code to use either `displot` (a figure-level function with similar flexibility) or `histplot` (an axes-level function for histograms).\n",
      "  warnings.warn(msg, FutureWarning)\n"
     ]
    },
    {
     "data": {
      "image/png": "[encoded data removed]",
      "text/plain": [
       "<Figure size 1080x360 with 1 Axes>"
      ]
     },
     "metadata": {
      "needs_background": "light"
     },
     "output_type": "display_data"
    }
   ],
   "source": [
    "plt.figure(figsize=(15,5))\n",
    "sns.distplot(df_yes['DiabetesPedigreeFunction'],color='r',label='atteint')\n",
    "sns.distplot(df_non['DiabetesPedigreeFunction'],color='g',label='pas atteint')\n",
    "plt.legend()\n",
    "plt.show()"
   ]
  },
  {
   "cell_type": "markdown",
   "id": "d9670e06",
   "metadata": {},
   "source": [
    "#### $\\color{blue}{\\text{commentaire}}$\n",
    "On constate que les des distribution sont quasi-identique d'aprés leurs visualisation donc on peut poser l'hypothese selon la quelle la variable DiabetesPedigreeFunction n'a pas un grand impact sur la variable à predire"
   ]
  },
  {
   "cell_type": "markdown",
   "id": "c2f6ebf9",
   "metadata": {},
   "source": [
    "# 2) Modelisation"
   ]
  },
  {
   "cell_type": "markdown",
   "id": "f81cc230",
   "metadata": {},
   "source": [
    "==============================================================================================================="
   ]
  },
  {
   "cell_type": "markdown",
   "id": "b4ff0e0f",
   "metadata": {},
   "source": [
    "### A) L'algorithme : KNeighborsClassifier (Plus proche voisin)\n",
    "La classification basée sur les voisins est un type d'apprentissage basé sur les instances ou \n",
    "apprentissage non généralisateur : elle ne tente pas de construire un modèle interne général, mais \n",
    "stocke simplement les instances des données d'apprentissage. La classification est calculée à partir \n",
    "d'un simple vote majoritaire des voisins les plus proches de chaque point : un point d'interrogation se \n",
    "voit attribuer la classe de données qui a le plus de représentants parmi les voisins les plus proches du \n",
    "point."
   ]
  },
  {
   "cell_type": "markdown",
   "id": "e09e4780",
   "metadata": {},
   "source": [
    "#### A) a) Creons notre premier model de la maniere la plus basique...."
   ]
  },
  {
   "cell_type": "code",
   "execution_count": 17,
   "id": "42783304",
   "metadata": {},
   "outputs": [],
   "source": [
    "from sklearn.model_selection import train_test_split\n",
    "from sklearn.neighbors import KNeighborsClassifier"
   ]
  },
  {
   "cell_type": "code",
   "execution_count": 18,
   "id": "2f87bcb8",
   "metadata": {},
   "outputs": [],
   "source": [
    "x=df.drop('Outcome',axis=1)\n",
    "y=df['Outcome']"
   ]
  },
  {
   "cell_type": "code",
   "execution_count": 19,
   "id": "882cba36",
   "metadata": {},
   "outputs": [],
   "source": [
    "x_train,x_test,y_train,y_test=train_test_split(x,y,test_size=0.2,random_state=0)"
   ]
  },
  {
   "cell_type": "code",
   "execution_count": 20,
   "id": "6a26e94d",
   "metadata": {},
   "outputs": [],
   "source": [
    "model=KNeighborsClassifier()"
   ]
  },
  {
   "cell_type": "code",
   "execution_count": 21,
   "id": "088aedd3",
   "metadata": {},
   "outputs": [
    {
     "name": "stdout",
     "output_type": "stream",
     "text": [
      "le modele donne \n",
      " \n",
      "une efficacité de  75.32467532467533 % \n",
      "\n",
      "une erreur de 24.675324675324674 %\n"
     ]
    }
   ],
   "source": [
    "model.fit(x_train,y_train)\n",
    "c=model.score(x_test,y_test)\n",
    "print('le modele donne \\n ')\n",
    "print('une efficacité de ',c*100,'% \\n')\n",
    "print('une erreur de',100-c*100,'%')"
   ]
  },
  {
   "cell_type": "code",
   "execution_count": 22,
   "id": "7f041342",
   "metadata": {},
   "outputs": [],
   "source": [
    "from sklearn.metrics import confusion_matrix"
   ]
  },
  {
   "cell_type": "code",
   "execution_count": 23,
   "id": "f576e514",
   "metadata": {},
   "outputs": [],
   "source": [
    "y_pred=model.predict(x_test)"
   ]
  },
  {
   "cell_type": "code",
   "execution_count": 24,
   "id": "6161585a",
   "metadata": {},
   "outputs": [
    {
     "data": {
      "text/plain": [
       "<AxesSubplot:>"
      ]
     },
     "execution_count": 24,
     "metadata": {},
     "output_type": "execute_result"
    },
    {
     "data": {
      "image/png": "[encoded data removed]",
      "text/plain": [
       "<Figure size 432x288 with 2 Axes>"
      ]
     },
     "metadata": {
      "needs_background": "light"
     },
     "output_type": "display_data"
    }
   ],
   "source": [
    "sns.heatmap(confusion_matrix(y_test,y_pred),annot=True)"
   ]
  },
  {
   "cell_type": "markdown",
   "id": "0fcab1e4",
   "metadata": {},
   "source": [
    "#### $\\color{blue}{\\text{Commentaire}}$:\n",
    "On obtient une score de 75% c'est-à-dire à 75% du temps le modele donne de bonne reponse,\\\n",
    "mais avec la vusialisation des resultats du modele suivant les classes on contate que le modele n'est pas tres efficace quant\\\n",
    "a la classement suivant la classe 1 car sur les 41 possibles le modele en a fait 18 de mauvaise classement.\\\n",
    "Pour ameliorer notre modele nous allons d'abord chercher le nombre de voisin le plus pertinant a fin d'avoir le meilleur\\ modele possible"
   ]
  },
  {
   "cell_type": "code",
   "execution_count": 25,
   "id": "fc9a5ca9",
   "metadata": {},
   "outputs": [
    {
     "name": "stdout",
     "output_type": "stream",
     "text": [
      "pour k = 3 le modele du KNeighborsClassifier donne une score de 72.07792207792207 %\n",
      "pour k = 4 le modele du KNeighborsClassifier donne une score de 77.27272727272727 %\n",
      "pour k = 5 le modele du KNeighborsClassifier donne une score de 75.32467532467533 %\n",
      "pour k = 6 le modele du KNeighborsClassifier donne une score de 77.92207792207793 %\n",
      "pour k = 7 le modele du KNeighborsClassifier donne une score de 75.97402597402598 %\n",
      "pour k = 8 le modele du KNeighborsClassifier donne une score de 77.92207792207793 %\n",
      "pour k = 9 le modele du KNeighborsClassifier donne une score de 77.27272727272727 %\n",
      "pour k = 10 le modele du KNeighborsClassifier donne une score de 79.22077922077922 %\n",
      "pour k = 11 le modele du KNeighborsClassifier donne une score de 76.62337662337663 %\n",
      "pour k = 12 le modele du KNeighborsClassifier donne une score de 78.57142857142857 %\n",
      "pour k = 13 le modele du KNeighborsClassifier donne une score de 79.22077922077922 %\n",
      "pour k = 14 le modele du KNeighborsClassifier donne une score de 79.22077922077922 %\n",
      "pour k = 15 le modele du KNeighborsClassifier donne une score de 79.22077922077922 %\n",
      "pour k = 16 le modele du KNeighborsClassifier donne une score de 79.22077922077922 %\n",
      "pour k = 17 le modele du KNeighborsClassifier donne une score de 78.57142857142857 %\n",
      "pour k = 18 le modele du KNeighborsClassifier donne une score de 78.57142857142857 %\n",
      "pour k = 19 le modele du KNeighborsClassifier donne une score de 79.87012987012987 %\n",
      "pour k = 20 le modele du KNeighborsClassifier donne une score de 79.22077922077922 %\n"
     ]
    }
   ],
   "source": [
    "for k in range(3,21):\n",
    "    modele=KNeighborsClassifier(k)\n",
    "    modele.fit(x_train,y_train)\n",
    "    score=modele.score(x_test,y_test)\n",
    "    print('pour k =',k,'le modele du KNeighborsClassifier donne une score de',score*100,'%')"
   ]
  },
  {
   "cell_type": "markdown",
   "id": "c3b99b63",
   "metadata": {},
   "source": [
    "$\\color{red}{\\text{Nous allons continuer par la suite avec k=19 car le modele obtient une meilleure score(79,8%) pour K=19}}$"
   ]
  },
  {
   "cell_type": "markdown",
   "id": "3bfb94e6",
   "metadata": {},
   "source": [
    "======================================================================================================================"
   ]
  },
  {
   "cell_type": "markdown",
   "id": "fed45f1e",
   "metadata": {},
   "source": [
    "#### A) b) Normalisation des données"
   ]
  },
  {
   "cell_type": "code",
   "execution_count": 26,
   "id": "762f8f52",
   "metadata": {},
   "outputs": [],
   "source": [
    "from sklearn.preprocessing import StandardScaler"
   ]
  },
  {
   "cell_type": "code",
   "execution_count": 27,
   "id": "cfd3c544",
   "metadata": {},
   "outputs": [],
   "source": [
    "X=StandardScaler().fit_transform(x)\n",
    "Y=y"
   ]
  },
  {
   "cell_type": "code",
   "execution_count": 28,
   "id": "d7d45bf2",
   "metadata": {},
   "outputs": [
    {
     "data": {
      "text/plain": [
       "array([[ 0.63994726,  0.84832379,  0.14964075, ...,  0.20401277,\n",
       "         0.46849198,  1.4259954 ],\n",
       "       [-0.84488505, -1.12339636, -0.16054575, ..., -0.68442195,\n",
       "        -0.36506078, -0.19067191],\n",
       "       [ 1.23388019,  1.94372388, -0.26394125, ..., -1.10325546,\n",
       "         0.60439732, -0.10558415],\n",
       "       ...,\n",
       "       [ 0.3429808 ,  0.00330087,  0.14964075, ..., -0.73518964,\n",
       "        -0.68519336, -0.27575966],\n",
       "       [-0.84488505,  0.1597866 , -0.47073225, ..., -0.24020459,\n",
       "        -0.37110101,  1.17073215],\n",
       "       [-0.84488505, -0.8730192 ,  0.04624525, ..., -0.20212881,\n",
       "        -0.47378505, -0.87137393]])"
      ]
     },
     "execution_count": 28,
     "metadata": {},
     "output_type": "execute_result"
    }
   ],
   "source": [
    "X"
   ]
  },
  {
   "cell_type": "code",
   "execution_count": 29,
   "id": "cc13cfb1",
   "metadata": {},
   "outputs": [],
   "source": [
    "X_train,X_test,Y_train,Y_test=train_test_split(X,Y,test_size=0.2,random_state=0)"
   ]
  },
  {
   "cell_type": "code",
   "execution_count": 30,
   "id": "679ba156",
   "metadata": {},
   "outputs": [],
   "source": [
    "model=KNeighborsClassifier(19)"
   ]
  },
  {
   "cell_type": "code",
   "execution_count": 31,
   "id": "28749ca4",
   "metadata": {},
   "outputs": [
    {
     "name": "stdout",
     "output_type": "stream",
     "text": [
      "le modele donne \n",
      " \n",
      "une efficacité de  80.51948051948052 % \n",
      "\n",
      "une erreur de 19.480519480519476 %\n"
     ]
    }
   ],
   "source": [
    "model.fit(X_train,Y_train)\n",
    "b=model.score(X_test,Y_test)\n",
    "print('le modele donne \\n ')\n",
    "print('une efficacité de ',b*100,'% \\n')\n",
    "print('une erreur de',100-b*100,'%')"
   ]
  },
  {
   "cell_type": "markdown",
   "id": "02c4aea1",
   "metadata": {},
   "source": [
    "=================================================================================================================="
   ]
  },
  {
   "cell_type": "code",
   "execution_count": 32,
   "id": "a7a2a696",
   "metadata": {},
   "outputs": [],
   "source": [
    "from sklearn.preprocessing import PolynomialFeatures\n",
    "from sklearn.pipeline import make_pipeline"
   ]
  },
  {
   "cell_type": "code",
   "execution_count": 33,
   "id": "f21bfb1c",
   "metadata": {
    "scrolled": true
   },
   "outputs": [
    {
     "name": "stdout",
     "output_type": "stream",
     "text": [
      "Pour k = 1 et i= 1 on a une score de 73.37662337662337 %\n",
      "Pour k = 1 et i= 2 on a une score de 71.42857142857143 %\n",
      "Pour k = 1 et i= 3 on a une score de 69.48051948051948 %\n",
      "Pour k = 1 et i= 4 on a une score de 68.83116883116884 %\n",
      "Pour k = 1 et i= 5 on a une score de 69.48051948051948 %\n",
      "Pour k = 1 et i= 6 on a une score de 69.48051948051948 %\n",
      "Pour k = 1 et i= 7 on a une score de 68.83116883116884 %\n",
      "Pour k = 1 et i= 8 on a une score de 68.83116883116884 %\n",
      "Pour k = 1 et i= 9 on a une score de 70.12987012987013 %\n",
      "Pour k = 2 et i= 1 on a une score de 76.62337662337663 %\n",
      "Pour k = 2 et i= 2 on a une score de 77.27272727272727 %\n",
      "Pour k = 2 et i= 3 on a une score de 77.27272727272727 %\n",
      "Pour k = 2 et i= 4 on a une score de 74.67532467532467 %\n",
      "Pour k = 2 et i= 5 on a une score de 73.37662337662337 %\n",
      "Pour k = 2 et i= 6 on a une score de 74.67532467532467 %\n",
      "Pour k = 2 et i= 7 on a une score de 74.67532467532467 %\n",
      "Pour k = 2 et i= 8 on a une score de 73.37662337662337 %\n",
      "Pour k = 2 et i= 9 on a une score de 76.62337662337663 %\n",
      "Pour k = 3 et i= 1 on a une score de 74.02597402597402 %\n",
      "Pour k = 3 et i= 2 on a une score de 74.67532467532467 %\n",
      "Pour k = 3 et i= 3 on a une score de 74.02597402597402 %\n",
      "Pour k = 3 et i= 4 on a une score de 74.02597402597402 %\n",
      "Pour k = 3 et i= 5 on a une score de 74.67532467532467 %\n",
      "Pour k = 3 et i= 6 on a une score de 73.37662337662337 %\n",
      "Pour k = 3 et i= 7 on a une score de 74.02597402597402 %\n",
      "Pour k = 3 et i= 8 on a une score de 74.67532467532467 %\n",
      "Pour k = 3 et i= 9 on a une score de 75.97402597402598 %\n",
      "Pour k = 4 et i= 1 on a une score de 79.22077922077922 %\n",
      "Pour k = 4 et i= 2 on a une score de 73.37662337662337 %\n",
      "Pour k = 4 et i= 3 on a une score de 76.62337662337663 %\n",
      "Pour k = 4 et i= 4 on a une score de 78.57142857142857 %\n",
      "Pour k = 4 et i= 5 on a une score de 79.87012987012987 %\n",
      "Pour k = 4 et i= 6 on a une score de 78.57142857142857 %\n",
      "Pour k = 4 et i= 7 on a une score de 77.92207792207793 %\n",
      "Pour k = 4 et i= 8 on a une score de 74.67532467532467 %\n",
      "Pour k = 4 et i= 9 on a une score de 77.27272727272727 %\n",
      "Pour k = 5 et i= 1 on a une score de 79.87012987012987 %\n",
      "Pour k = 5 et i= 2 on a une score de 77.92207792207793 %\n",
      "Pour k = 5 et i= 3 on a une score de 77.92207792207793 %\n",
      "Pour k = 5 et i= 4 on a une score de 76.62337662337663 %\n",
      "Pour k = 5 et i= 5 on a une score de 79.22077922077922 %\n",
      "Pour k = 5 et i= 6 on a une score de 77.27272727272727 %\n",
      "Pour k = 5 et i= 7 on a une score de 77.27272727272727 %\n",
      "Pour k = 5 et i= 8 on a une score de 75.97402597402598 %\n",
      "Pour k = 5 et i= 9 on a une score de 79.22077922077922 %\n",
      "Pour k = 6 et i= 1 on a une score de 80.51948051948052 %\n",
      "Pour k = 6 et i= 2 on a une score de 80.51948051948052 %\n",
      "Pour k = 6 et i= 3 on a une score de 78.57142857142857 %\n",
      "Pour k = 6 et i= 4 on a une score de 78.57142857142857 %\n",
      "Pour k = 6 et i= 5 on a une score de 79.22077922077922 %\n",
      "Pour k = 6 et i= 6 on a une score de 79.87012987012987 %\n",
      "Pour k = 6 et i= 7 on a une score de 79.87012987012987 %\n",
      "Pour k = 6 et i= 8 on a une score de 77.92207792207793 %\n",
      "Pour k = 6 et i= 9 on a une score de 78.57142857142857 %\n",
      "Pour k = 7 et i= 1 on a une score de 77.27272727272727 %\n",
      "Pour k = 7 et i= 2 on a une score de 77.27272727272727 %\n",
      "Pour k = 7 et i= 3 on a une score de 78.57142857142857 %\n",
      "Pour k = 7 et i= 4 on a une score de 77.92207792207793 %\n",
      "Pour k = 7 et i= 5 on a une score de 80.51948051948052 %\n",
      "Pour k = 7 et i= 6 on a une score de 78.57142857142857 %\n",
      "Pour k = 7 et i= 7 on a une score de 79.87012987012987 %\n",
      "Pour k = 7 et i= 8 on a une score de 78.57142857142857 %\n",
      "Pour k = 7 et i= 9 on a une score de 79.87012987012987 %\n",
      "Pour k = 8 et i= 1 on a une score de 77.92207792207793 %\n",
      "Pour k = 8 et i= 2 on a une score de 78.57142857142857 %\n",
      "Pour k = 8 et i= 3 on a une score de 77.27272727272727 %\n",
      "Pour k = 8 et i= 4 on a une score de 79.22077922077922 %\n",
      "Pour k = 8 et i= 5 on a une score de 80.51948051948052 %\n",
      "Pour k = 8 et i= 6 on a une score de 78.57142857142857 %\n",
      "Pour k = 8 et i= 7 on a une score de 81.16883116883116 %\n",
      "Pour k = 8 et i= 8 on a une score de 77.27272727272727 %\n",
      "Pour k = 8 et i= 9 on a une score de 79.87012987012987 %\n",
      "Pour k = 9 et i= 1 on a une score de 77.27272727272727 %\n",
      "Pour k = 9 et i= 2 on a une score de 75.97402597402598 %\n",
      "Pour k = 9 et i= 3 on a une score de 76.62337662337663 %\n",
      "Pour k = 9 et i= 4 on a une score de 77.27272727272727 %\n",
      "Pour k = 9 et i= 5 on a une score de 81.16883116883116 %\n",
      "Pour k = 9 et i= 6 on a une score de 81.81818181818183 %\n",
      "Pour k = 9 et i= 7 on a une score de 81.81818181818183 %\n",
      "Pour k = 9 et i= 8 on a une score de 79.87012987012987 %\n",
      "Pour k = 9 et i= 9 on a une score de 80.51948051948052 %\n",
      "Pour k = 10 et i= 1 on a une score de 77.92207792207793 %\n",
      "Pour k = 10 et i= 2 on a une score de 78.57142857142857 %\n",
      "Pour k = 10 et i= 3 on a une score de 77.27272727272727 %\n",
      "Pour k = 10 et i= 4 on a une score de 78.57142857142857 %\n",
      "Pour k = 10 et i= 5 on a une score de 81.16883116883116 %\n",
      "Pour k = 10 et i= 6 on a une score de 79.87012987012987 %\n",
      "Pour k = 10 et i= 7 on a une score de 82.46753246753246 %\n",
      "Pour k = 10 et i= 8 on a une score de 77.92207792207793 %\n",
      "Pour k = 10 et i= 9 on a une score de 81.16883116883116 %\n"
     ]
    },
    {
     "data": {
      "text/plain": [
       "0.8246753246753247"
      ]
     },
     "execution_count": 33,
     "metadata": {},
     "output_type": "execute_result"
    }
   ],
   "source": [
    "scor=[]\n",
    "for k in range(1,11):\n",
    "    for i in range(1,10):\n",
    "        mode=make_pipeline(StandardScaler(),PolynomialFeatures(i),KNeighborsClassifier(k))\n",
    "        mode.fit(x_train,y_train)\n",
    "        score=mode.score(x_test,y_test)\n",
    "        scor.append(mode.score(x_test,y_test))\n",
    "            \n",
    "        print('Pour k =',k,'et i=',i,'on a une score de',score*100,'%')\n",
    "max(scor)"
   ]
  },
  {
   "cell_type": "markdown",
   "id": "4c7b8640",
   "metadata": {},
   "source": [
    "$\\color{red}{\\text{on obtient une meilleure score (82,5%) pour K=10,et i=7.}}$\n",
    "$\\color{red}{\\text{par la suite nous allons continuer avec k=10 (nombre de voisin) et i=7( degre du polynome)}}$"
   ]
  },
  {
   "cell_type": "code",
   "execution_count": 34,
   "id": "62d7fd7d",
   "metadata": {},
   "outputs": [
    {
     "name": "stdout",
     "output_type": "stream",
     "text": [
      "le modele donne \n",
      " \n",
      "une efficacité de  82.46753246753246 % \n",
      "\n",
      "une erreur de 17.532467532467535 %\n"
     ]
    }
   ],
   "source": [
    "modele= mode=make_pipeline(StandardScaler(),PolynomialFeatures(7),KNeighborsClassifier(10))\n",
    "modele.fit(x_train,y_train)\n",
    "d=score=modele.score(x_test,y_test)\n",
    "print('le modele donne \\n ')\n",
    "print('une efficacité de ',d*100,'% \\n')\n",
    "print('une erreur de',100-d*100,'%')"
   ]
  },
  {
   "cell_type": "markdown",
   "id": "1333e84c",
   "metadata": {},
   "source": [
    "================================================================================================================="
   ]
  },
  {
   "cell_type": "markdown",
   "id": "ca7286cb",
   "metadata": {},
   "source": [
    "#### Corrélation"
   ]
  },
  {
   "cell_type": "code",
   "execution_count": 35,
   "id": "e7c6bf75",
   "metadata": {},
   "outputs": [
    {
     "data": {
      "image/png": "[encoded data removed]",
      "text/plain": [
       "<Figure size 1080x360 with 2 Axes>"
      ]
     },
     "metadata": {
      "needs_background": "light"
     },
     "output_type": "display_data"
    }
   ],
   "source": [
    "plt.figure(figsize=(15,5))\n",
    "sns.heatmap(df.corr(),annot=True)\n",
    "plt.show()"
   ]
  },
  {
   "cell_type": "markdown",
   "id": "f10e2f1e",
   "metadata": {},
   "source": [
    "===================================================================================================================="
   ]
  },
  {
   "cell_type": "markdown",
   "id": "29dac9c6",
   "metadata": {},
   "source": [
    "#### Selection de meilleure variable"
   ]
  },
  {
   "cell_type": "code",
   "execution_count": 36,
   "id": "2ff07158",
   "metadata": {},
   "outputs": [
    {
     "data": {
      "text/html": [
       "<div>\n",
       "<style scoped>\n",
       "    .dataframe tbody tr th:only-of-type {\n",
       "        vertical-align: middle;\n",
       "    }\n",
       "\n",
       "    .dataframe tbody tr th {\n",
       "        vertical-align: top;\n",
       "    }\n",
       "\n",
       "    .dataframe thead th {\n",
       "        text-align: right;\n",
       "    }\n",
       "</style>\n",
       "<table border=\"1\" class=\"dataframe\">\n",
       "  <thead>\n",
       "    <tr style=\"text-align: right;\">\n",
       "      <th></th>\n",
       "      <th>Pregnancies</th>\n",
       "      <th>Glucose</th>\n",
       "      <th>BloodPressure</th>\n",
       "      <th>SkinThickness</th>\n",
       "      <th>Insulin</th>\n",
       "      <th>BMI</th>\n",
       "      <th>DiabetesPedigreeFunction</th>\n",
       "      <th>Age</th>\n",
       "      <th>Outcome</th>\n",
       "    </tr>\n",
       "  </thead>\n",
       "  <tbody>\n",
       "    <tr>\n",
       "      <th>0</th>\n",
       "      <td>6</td>\n",
       "      <td>148</td>\n",
       "      <td>72</td>\n",
       "      <td>35</td>\n",
       "      <td>0</td>\n",
       "      <td>33.6</td>\n",
       "      <td>0.627</td>\n",
       "      <td>50</td>\n",
       "      <td>1</td>\n",
       "    </tr>\n",
       "    <tr>\n",
       "      <th>1</th>\n",
       "      <td>1</td>\n",
       "      <td>85</td>\n",
       "      <td>66</td>\n",
       "      <td>29</td>\n",
       "      <td>0</td>\n",
       "      <td>26.6</td>\n",
       "      <td>0.351</td>\n",
       "      <td>31</td>\n",
       "      <td>0</td>\n",
       "    </tr>\n",
       "  </tbody>\n",
       "</table>\n",
       "</div>"
      ],
      "text/plain": [
       "   Pregnancies  Glucose  BloodPressure  SkinThickness  Insulin   BMI  \\\n",
       "0            6      148             72             35        0  33.6   \n",
       "1            1       85             66             29        0  26.6   \n",
       "\n",
       "   DiabetesPedigreeFunction  Age  Outcome  \n",
       "0                     0.627   50        1  \n",
       "1                     0.351   31        0  "
      ]
     },
     "execution_count": 36,
     "metadata": {},
     "output_type": "execute_result"
    }
   ],
   "source": [
    "df.head(2)"
   ]
  },
  {
   "cell_type": "code",
   "execution_count": 37,
   "id": "55c29cdc",
   "metadata": {},
   "outputs": [],
   "source": [
    "from sklearn.feature_selection import SelectKBest,chi2"
   ]
  },
  {
   "cell_type": "code",
   "execution_count": 38,
   "id": "d1a95e27",
   "metadata": {},
   "outputs": [
    {
     "data": {
      "text/plain": [
       "(array([ 111.51969064, 1411.88704064,   17.60537322,   53.10803984,\n",
       "        2175.56527292,  127.66934333,    5.39268155,  181.30368904]),\n",
       " array([4.55261043e-026, 5.48728628e-309, 2.71819252e-005, 3.15697650e-013,\n",
       "        0.00000000e+000, 1.32590849e-029, 2.02213728e-002, 2.51638830e-041]))"
      ]
     },
     "execution_count": 38,
     "metadata": {},
     "output_type": "execute_result"
    }
   ],
   "source": [
    "chi2(x,y)"
   ]
  },
  {
   "cell_type": "code",
   "execution_count": 39,
   "id": "7126daef",
   "metadata": {},
   "outputs": [
    {
     "data": {
      "text/plain": [
       "array([False,  True, False, False,  True,  True, False,  True])"
      ]
     },
     "execution_count": 39,
     "metadata": {},
     "output_type": "execute_result"
    }
   ],
   "source": [
    "select=SelectKBest(chi2,k=4)\n",
    "select.fit_transform(x,y)\n",
    "select.get_support()"
   ]
  },
  {
   "cell_type": "markdown",
   "id": "b01e1791",
   "metadata": {},
   "source": [
    "### $\\color{green}{\\text{les 4 variables selectionnées sont: Glucose, Insulin, BMI et L'Age}}$"
   ]
  },
  {
   "cell_type": "markdown",
   "id": "1dfe5e6d",
   "metadata": {},
   "source": [
    "===================================================================================================================="
   ]
  },
  {
   "cell_type": "code",
   "execution_count": 40,
   "id": "97b12d00",
   "metadata": {},
   "outputs": [],
   "source": [
    "df.drop(['BloodPressure','SkinThickness','DiabetesPedigreeFunction'],axis=1,inplace=True)"
   ]
  },
  {
   "cell_type": "code",
   "execution_count": 41,
   "id": "269f3c6d",
   "metadata": {},
   "outputs": [],
   "source": [
    "x=df.drop('Outcome',axis=1)\n",
    "y=df['Outcome']"
   ]
  },
  {
   "cell_type": "code",
   "execution_count": 42,
   "id": "846aca2d",
   "metadata": {},
   "outputs": [],
   "source": [
    "x_train,x_test,y_train,y_test=train_test_split(x,y,test_size=0.2,random_state=0)"
   ]
  },
  {
   "cell_type": "code",
   "execution_count": 43,
   "id": "8064c058",
   "metadata": {
    "scrolled": true
   },
   "outputs": [
    {
     "name": "stdout",
     "output_type": "stream",
     "text": [
      "Pour k = 1 et i= 1 on a une score de 73.37662337662337 %\n",
      "Pour k = 1 et i= 2 on a une score de 74.02597402597402 %\n",
      "Pour k = 1 et i= 3 on a une score de 75.97402597402598 %\n",
      "Pour k = 1 et i= 4 on a une score de 76.62337662337663 %\n",
      "Pour k = 1 et i= 5 on a une score de 75.97402597402598 %\n",
      "Pour k = 1 et i= 6 on a une score de 75.32467532467533 %\n",
      "Pour k = 1 et i= 7 on a une score de 74.02597402597402 %\n",
      "Pour k = 1 et i= 8 on a une score de 75.32467532467533 %\n",
      "Pour k = 1 et i= 9 on a une score de 74.02597402597402 %\n",
      "Pour k = 2 et i= 1 on a une score de 79.22077922077922 %\n",
      "Pour k = 2 et i= 2 on a une score de 77.92207792207793 %\n",
      "Pour k = 2 et i= 3 on a une score de 76.62337662337663 %\n",
      "Pour k = 2 et i= 4 on a une score de 74.67532467532467 %\n",
      "Pour k = 2 et i= 5 on a une score de 73.37662337662337 %\n",
      "Pour k = 2 et i= 6 on a une score de 74.67532467532467 %\n",
      "Pour k = 2 et i= 7 on a une score de 74.67532467532467 %\n",
      "Pour k = 2 et i= 8 on a une score de 74.02597402597402 %\n",
      "Pour k = 2 et i= 9 on a une score de 72.07792207792207 %\n",
      "Pour k = 3 et i= 1 on a une score de 77.92207792207793 %\n",
      "Pour k = 3 et i= 2 on a une score de 79.22077922077922 %\n",
      "Pour k = 3 et i= 3 on a une score de 77.27272727272727 %\n",
      "Pour k = 3 et i= 4 on a une score de 76.62337662337663 %\n",
      "Pour k = 3 et i= 5 on a une score de 77.27272727272727 %\n",
      "Pour k = 3 et i= 6 on a une score de 79.22077922077922 %\n",
      "Pour k = 3 et i= 7 on a une score de 78.57142857142857 %\n",
      "Pour k = 3 et i= 8 on a une score de 79.22077922077922 %\n",
      "Pour k = 3 et i= 9 on a une score de 79.87012987012987 %\n",
      "Pour k = 4 et i= 1 on a une score de 79.22077922077922 %\n",
      "Pour k = 4 et i= 2 on a une score de 75.97402597402598 %\n",
      "Pour k = 4 et i= 3 on a une score de 75.32467532467533 %\n",
      "Pour k = 4 et i= 4 on a une score de 75.32467532467533 %\n",
      "Pour k = 4 et i= 5 on a une score de 76.62337662337663 %\n",
      "Pour k = 4 et i= 6 on a une score de 77.92207792207793 %\n",
      "Pour k = 4 et i= 7 on a une score de 77.92207792207793 %\n",
      "Pour k = 4 et i= 8 on a une score de 77.27272727272727 %\n",
      "Pour k = 4 et i= 9 on a une score de 78.57142857142857 %\n",
      "Pour k = 5 et i= 1 on a une score de 80.51948051948052 %\n",
      "Pour k = 5 et i= 2 on a une score de 77.92207792207793 %\n",
      "Pour k = 5 et i= 3 on a une score de 77.92207792207793 %\n",
      "Pour k = 5 et i= 4 on a une score de 77.27272727272727 %\n",
      "Pour k = 5 et i= 5 on a une score de 78.57142857142857 %\n",
      "Pour k = 5 et i= 6 on a une score de 78.57142857142857 %\n",
      "Pour k = 5 et i= 7 on a une score de 78.57142857142857 %\n",
      "Pour k = 5 et i= 8 on a une score de 79.22077922077922 %\n",
      "Pour k = 5 et i= 9 on a une score de 79.22077922077922 %\n",
      "Pour k = 6 et i= 1 on a une score de 77.92207792207793 %\n",
      "Pour k = 6 et i= 2 on a une score de 76.62337662337663 %\n",
      "Pour k = 6 et i= 3 on a une score de 76.62337662337663 %\n",
      "Pour k = 6 et i= 4 on a une score de 77.27272727272727 %\n",
      "Pour k = 6 et i= 5 on a une score de 80.51948051948052 %\n",
      "Pour k = 6 et i= 6 on a une score de 81.81818181818183 %\n",
      "Pour k = 6 et i= 7 on a une score de 81.16883116883116 %\n",
      "Pour k = 6 et i= 8 on a une score de 83.11688311688312 %\n",
      "Pour k = 6 et i= 9 on a une score de 81.81818181818183 %\n"
     ]
    },
    {
     "data": {
      "text/plain": [
       "0.8311688311688312"
      ]
     },
     "execution_count": 43,
     "metadata": {},
     "output_type": "execute_result"
    }
   ],
   "source": [
    "scor=[]\n",
    "for k in range(1,7):\n",
    "    for i in range(1,10):\n",
    "        mode=make_pipeline(StandardScaler(),PolynomialFeatures(i),KNeighborsClassifier(k))\n",
    "        mode.fit(x_train,y_train)\n",
    "        score=mode.score(x_test,y_test)\n",
    "        scor.append(mode.score(x_test,y_test))\n",
    "            \n",
    "        print('Pour k =',k,'et i=',i,'on a une score de',score*100,'%')\n",
    "max(scor)"
   ]
  },
  {
   "cell_type": "code",
   "execution_count": 44,
   "id": "e34da594",
   "metadata": {},
   "outputs": [
    {
     "name": "stdout",
     "output_type": "stream",
     "text": [
      "le modele donne \n",
      " \n",
      "une efficacité de  83.11688311688312 % \n",
      "\n",
      "une erreur de 16.883116883116884 %\n"
     ]
    }
   ],
   "source": [
    "modele=make_pipeline(StandardScaler(),PolynomialFeatures(8),KNeighborsClassifier(6))\n",
    "modele.fit(x_train,y_train)\n",
    "d=score=modele.score(x_test,y_test)\n",
    "print('le modele donne \\n ')\n",
    "print('une efficacité de ',d*100,'% \\n')\n",
    "print('une erreur de',100-d*100,'%')"
   ]
  },
  {
   "cell_type": "markdown",
   "id": "85614e46",
   "metadata": {},
   "source": [
    "====================================================================================================================="
   ]
  },
  {
   "cell_type": "markdown",
   "id": "56d3e0eb",
   "metadata": {},
   "source": [
    "### B) Algorithme:  LogisticRegression\n",
    "La régression logistique est un algorithme de classification très répandu, offrant un\\\n",
    "pouvoir explicatif très fort du fait de sa linéarité."
   ]
  },
  {
   "cell_type": "code",
   "execution_count": 45,
   "id": "480fb9d4",
   "metadata": {},
   "outputs": [],
   "source": [
    "from sklearn.linear_model import LogisticRegression"
   ]
  },
  {
   "cell_type": "code",
   "execution_count": 46,
   "id": "2947b087",
   "metadata": {},
   "outputs": [
    {
     "name": "stdout",
     "output_type": "stream",
     "text": [
      "le modele donne \n",
      " \n",
      "une efficacité de  80.51948051948052 % \n",
      "\n",
      "une erreur de 19.480519480519476 %\n"
     ]
    }
   ],
   "source": [
    "logist=LogisticRegression()\n",
    "logist.fit(x_train,y_train)\n",
    "l=logist.score(x_test,y_test)\n",
    "print('le modele donne \\n ')\n",
    "print('une efficacité de ',l*100,'% \\n')\n",
    "print('une erreur de',100-l*100,'%')"
   ]
  },
  {
   "cell_type": "code",
   "execution_count": 47,
   "id": "b8e2278d",
   "metadata": {},
   "outputs": [
    {
     "name": "stdout",
     "output_type": "stream",
     "text": [
      "Pour i= 1 on a une score de 80.51948051948052 %\n",
      "Pour i= 2 on a une score de 79.87012987012987 %\n",
      "Pour i= 3 on a une score de 76.62337662337663 %\n",
      "Pour i= 4 on a une score de 78.57142857142857 %\n"
     ]
    },
    {
     "name": "stderr",
     "output_type": "stream",
     "text": [
      "C:\\Users\\HP\\anaconda3\\lib\\site-packages\\sklearn\\linear_model\\_logistic.py:763: ConvergenceWarning: lbfgs failed to converge (status=1):\n",
      "STOP: TOTAL NO. of ITERATIONS REACHED LIMIT.\n",
      "\n",
      "Increase the number of iterations (max_iter) or scale the data as shown in:\n",
      "    https://scikit-learn.org/stable/modules/preprocessing.html\n",
      "Please also refer to the documentation for alternative solver options:\n",
      "    https://scikit-learn.org/stable/modules/linear_model.html#logistic-regression\n",
      "  n_iter_i = _check_optimize_result(\n",
      "C:\\Users\\HP\\anaconda3\\lib\\site-packages\\sklearn\\linear_model\\_logistic.py:763: ConvergenceWarning: lbfgs failed to converge (status=1):\n",
      "STOP: TOTAL NO. of ITERATIONS REACHED LIMIT.\n",
      "\n",
      "Increase the number of iterations (max_iter) or scale the data as shown in:\n",
      "    https://scikit-learn.org/stable/modules/preprocessing.html\n",
      "Please also refer to the documentation for alternative solver options:\n",
      "    https://scikit-learn.org/stable/modules/linear_model.html#logistic-regression\n",
      "  n_iter_i = _check_optimize_result(\n",
      "C:\\Users\\HP\\anaconda3\\lib\\site-packages\\sklearn\\linear_model\\_logistic.py:763: ConvergenceWarning: lbfgs failed to converge (status=1):\n",
      "STOP: TOTAL NO. of ITERATIONS REACHED LIMIT.\n",
      "\n",
      "Increase the number of iterations (max_iter) or scale the data as shown in:\n",
      "    https://scikit-learn.org/stable/modules/preprocessing.html\n",
      "Please also refer to the documentation for alternative solver options:\n",
      "    https://scikit-learn.org/stable/modules/linear_model.html#logistic-regression\n",
      "  n_iter_i = _check_optimize_result(\n"
     ]
    },
    {
     "name": "stdout",
     "output_type": "stream",
     "text": [
      "Pour i= 5 on a une score de 79.22077922077922 %\n"
     ]
    },
    {
     "name": "stderr",
     "output_type": "stream",
     "text": [
      "C:\\Users\\HP\\anaconda3\\lib\\site-packages\\sklearn\\linear_model\\_logistic.py:763: ConvergenceWarning: lbfgs failed to converge (status=1):\n",
      "STOP: TOTAL NO. of ITERATIONS REACHED LIMIT.\n",
      "\n",
      "Increase the number of iterations (max_iter) or scale the data as shown in:\n",
      "    https://scikit-learn.org/stable/modules/preprocessing.html\n",
      "Please also refer to the documentation for alternative solver options:\n",
      "    https://scikit-learn.org/stable/modules/linear_model.html#logistic-regression\n",
      "  n_iter_i = _check_optimize_result(\n"
     ]
    },
    {
     "name": "stdout",
     "output_type": "stream",
     "text": [
      "Pour i= 6 on a une score de 79.22077922077922 %\n"
     ]
    },
    {
     "name": "stderr",
     "output_type": "stream",
     "text": [
      "C:\\Users\\HP\\anaconda3\\lib\\site-packages\\sklearn\\linear_model\\_logistic.py:763: ConvergenceWarning: lbfgs failed to converge (status=1):\n",
      "STOP: TOTAL NO. of ITERATIONS REACHED LIMIT.\n",
      "\n",
      "Increase the number of iterations (max_iter) or scale the data as shown in:\n",
      "    https://scikit-learn.org/stable/modules/preprocessing.html\n",
      "Please also refer to the documentation for alternative solver options:\n",
      "    https://scikit-learn.org/stable/modules/linear_model.html#logistic-regression\n",
      "  n_iter_i = _check_optimize_result(\n"
     ]
    },
    {
     "name": "stdout",
     "output_type": "stream",
     "text": [
      "Pour i= 7 on a une score de 78.57142857142857 %\n"
     ]
    },
    {
     "name": "stderr",
     "output_type": "stream",
     "text": [
      "C:\\Users\\HP\\anaconda3\\lib\\site-packages\\sklearn\\linear_model\\_logistic.py:763: ConvergenceWarning: lbfgs failed to converge (status=1):\n",
      "STOP: TOTAL NO. of ITERATIONS REACHED LIMIT.\n",
      "\n",
      "Increase the number of iterations (max_iter) or scale the data as shown in:\n",
      "    https://scikit-learn.org/stable/modules/preprocessing.html\n",
      "Please also refer to the documentation for alternative solver options:\n",
      "    https://scikit-learn.org/stable/modules/linear_model.html#logistic-regression\n",
      "  n_iter_i = _check_optimize_result(\n"
     ]
    },
    {
     "name": "stdout",
     "output_type": "stream",
     "text": [
      "Pour i= 8 on a une score de 79.87012987012987 %\n",
      "Pour i= 9 on a une score de 75.32467532467533 %\n"
     ]
    },
    {
     "name": "stderr",
     "output_type": "stream",
     "text": [
      "C:\\Users\\HP\\anaconda3\\lib\\site-packages\\sklearn\\linear_model\\_logistic.py:763: ConvergenceWarning: lbfgs failed to converge (status=1):\n",
      "STOP: TOTAL NO. of ITERATIONS REACHED LIMIT.\n",
      "\n",
      "Increase the number of iterations (max_iter) or scale the data as shown in:\n",
      "    https://scikit-learn.org/stable/modules/preprocessing.html\n",
      "Please also refer to the documentation for alternative solver options:\n",
      "    https://scikit-learn.org/stable/modules/linear_model.html#logistic-regression\n",
      "  n_iter_i = _check_optimize_result(\n"
     ]
    }
   ],
   "source": [
    "    for i in range(1,10):\n",
    "        mode=make_pipeline(StandardScaler(),PolynomialFeatures(i),LogisticRegression())\n",
    "        mode.fit(x_train,y_train)\n",
    "        score=mode.score(x_test,y_test)\n",
    "        scor.append(mode.score(x_test,y_test))\n",
    "            \n",
    "        print('Pour i=',i,'on a une score de',score*100,'%')"
   ]
  },
  {
   "cell_type": "markdown",
   "id": "58abd225",
   "metadata": {},
   "source": [
    "====================================================================================================================="
   ]
  },
  {
   "cell_type": "markdown",
   "id": "aa898d88",
   "metadata": {},
   "source": [
    "#### Conclusion : \n",
    "Comme on a les meilleures scores avec l'algorithme de KNeighborsClassifier vis à vis de l'algorithme de logisticregression\\\n",
    "nous allons conserver la meilleure score de l'algorithme de KNeighborsClassifier qui se trouve ci-apres\\\n",
    "dans la suite de notre travail"
   ]
  },
  {
   "cell_type": "code",
   "execution_count": 48,
   "id": "7f9e4d0d",
   "metadata": {},
   "outputs": [
    {
     "name": "stdout",
     "output_type": "stream",
     "text": [
      "le modele donne \n",
      " \n",
      "une efficacité de  83.11688311688312 % \n",
      "\n",
      "une erreur de 16.883116883116884 %\n"
     ]
    }
   ],
   "source": [
    "modele=make_pipeline(StandardScaler(),PolynomialFeatures(8),KNeighborsClassifier(6))\n",
    "modele.fit(x_train,y_train)\n",
    "d=score=modele.score(x_test,y_test)\n",
    "print('le modele donne \\n ')\n",
    "print('une efficacité de ',d*100,'% \\n')\n",
    "print('une erreur de',100-d*100,'%')"
   ]
  },
  {
   "cell_type": "code",
   "execution_count": 49,
   "id": "a6c07d7c",
   "metadata": {},
   "outputs": [],
   "source": [
    "y_pred=modele.predict(x_test)"
   ]
  },
  {
   "cell_type": "code",
   "execution_count": 50,
   "id": "a159e058",
   "metadata": {},
   "outputs": [
    {
     "data": {
      "text/plain": [
       "<AxesSubplot:>"
      ]
     },
     "execution_count": 50,
     "metadata": {},
     "output_type": "execute_result"
    },
    {
     "data": {
      "image/png": "[encoded data removed]",
      "text/plain": [
       "<Figure size 432x288 with 2 Axes>"
      ]
     },
     "metadata": {
      "needs_background": "light"
     },
     "output_type": "display_data"
    }
   ],
   "source": [
    "sns.heatmap(confusion_matrix(y_test,y_pred),annot=True)"
   ]
  },
  {
   "cell_type": "markdown",
   "id": "21de0ae8",
   "metadata": {},
   "source": [
    "===================================================================================================================="
   ]
  },
  {
   "cell_type": "markdown",
   "id": "668252e7",
   "metadata": {},
   "source": [
    "#### Courbe d'apprentissage"
   ]
  },
  {
   "cell_type": "code",
   "execution_count": 51,
   "id": "acb1f370",
   "metadata": {},
   "outputs": [],
   "source": [
    "from sklearn.model_selection import learning_curve"
   ]
  },
  {
   "cell_type": "code",
   "execution_count": 52,
   "id": "1ae3d030",
   "metadata": {},
   "outputs": [
    {
     "name": "stdout",
     "output_type": "stream",
     "text": [
      "[ 98 141 185 229 272 316 360 403 447 491]\n"
     ]
    },
    {
     "data": {
      "image/png": "[encoded data removed]",
      "text/plain": [
       "<Figure size 1440x360 with 1 Axes>"
      ]
     },
     "metadata": {
      "needs_background": "light"
     },
     "output_type": "display_data"
    }
   ],
   "source": [
    "plt.figure(figsize=(20,5))\n",
    "N,train_score,val_score=learning_curve(modele,x_train,y_train,train_sizes=np.linspace(0.2,1.0,10),cv=5)\n",
    "print(N)\n",
    "plt.plot(N,train_score.mean(axis=1),label='train')\n",
    "plt.plot(N,val_score.mean(axis=1),label='validation')\n",
    "plt.legend()\n",
    "plt.show()"
   ]
  },
  {
   "cell_type": "markdown",
   "id": "8f35e6da",
   "metadata": {},
   "source": [
    "A partir de la courbe nous pouvons clairement voir qu'à mesure que la taille de l'ensembled'entraiment augmente, la courbe de score d'entraiment et la score de validation croisée converge. La précision de la validation croisée augmente a mesure que nous ajoutons plus de données d'entrainement est donc utile dans ce cas c'est-à-dire plus qu'on a des données plus nous pouvons avoir de meilleur score"
   ]
  },
  {
   "cell_type": "code",
   "execution_count": null,
   "id": "7e826a76",
   "metadata": {},
   "outputs": [],
   "source": []
  }
 ],
 "metadata": {
  "kernelspec": {
   "display_name": "Python 3 (ipykernel)",
   "language": "python",
   "name": "python3"
  },
  "language_info": {
   "codemirror_mode": {
    "name": "ipython",
    "version": 3
   },
   "file_extension": ".py",
   "mimetype": "text/x-python",
   "name": "python",
   "nbconvert_exporter": "python",
   "pygments_lexer": "ipython3",
   "version": "3.9.7"
  }
 },
 "nbformat": 4,
 "nbformat_minor": 5
}
