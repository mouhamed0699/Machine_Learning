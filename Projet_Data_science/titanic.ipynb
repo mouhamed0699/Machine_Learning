{
 "cells": [
  {
   "cell_type": "markdown",
   "id": "894e9e3f",
   "metadata": {},
   "source": [
    "# Mon Projet de machine learning sur le titanic"
   ]
  },
  {
   "cell_type": "code",
   "execution_count": null,
   "id": "b2a241b8",
   "metadata": {},
   "outputs": [],
   "source": []
  },
  {
   "cell_type": "code",
   "execution_count": null,
   "id": "1f6102f7",
   "metadata": {},
   "outputs": [],
   "source": []
  },
  {
   "cell_type": "markdown",
   "id": "ef868ed5",
   "metadata": {},
   "source": [
    "## 1. Exploration des données"
   ]
  },
  {
   "cell_type": "markdown",
   "id": "1b84a099",
   "metadata": {},
   "source": [
    "### Objectif :\n",
    "Comprendre le mieux possible nos données\n",
    "Developper une stratégie de modelisatin\n",
    "### Checklist de Base\n",
    "#### Analyse de forme\n",
    "variable Target: Survived \n",
    "** ligne et colonne:(891, 15)\n",
    "** type de variable: variable quantitative et varible qualitative\n",
    "** Analyse des valeur manquantes: la plutpart des colonnes n'ont de valeur manquante considérable sauf pour la colonne age(dont 20% de ses valeurs sont manquante) et pour la colonne deck(dont 77% de ses valeur sont manquantes)\n",
    "#### Analyse de fond\n",
    "visualisation de target: 38% on constate il n y avait que 38% de survie dans le titanic\n",
    "signification des ariables:\n",
    "• Survived : indique la mort ou la survie du passager pour l’apprentissage. C’est le vecteur\n",
    "  à prédire pour le test. Le résultat est booléen : 1 pour « survie », 0 pour « mort ».\n",
    "• Pclass : la classe des chambres du navire, à 3 niveaux : 1 étant la meilleure, 3 la classe\n",
    "   « éco » et 2 l’intermédiaire. C’est donc une variable catégorielle, mais qui pourrait être\n",
    "     considérée comme ordonnée.\n",
    "• Sex : le sexe du passager. C’est une variable catégorielle à 2 modalités : « Male » et               « Female ».\n",
    "• Age : l’âge du passager, une variable continue avec valeurs manquantes.\n",
    "• SisbSp (Sibling and Spouse) : le nombre de membres de la famille du passager de type\n",
    "frère, sœur, demi-frère, demi-sœur, époux, épouse (une variable continue).\n",
    "• Parch (Parent and Child) : le nombre de membres de la famille du passager du type\n",
    "père, mère, fils, fille, beau-fils, belle-fille (également une variable continue).\n",
    "• Ticket : le numéro du ticket, une variable catégorielle.\n",
    "• Fare : le prix du ticket, une variable continue.\n",
    "• Embarked : le port d’embarquement du passager, une variable catégorielle à 3 modalités\n",
    "Relation Target\\Variable :il semblerait que le Target survivedest lié à la variable pclass, sex"
   ]
  },
  {
   "cell_type": "code",
   "execution_count": 1,
   "id": "8ee6d4f2",
   "metadata": {},
   "outputs": [],
   "source": [
    "import pandas as pd\n",
    "import seaborn as sns\n",
    "import matplotlib.pyplot as plt\n",
    "import numpy as np"
   ]
  },
  {
   "cell_type": "code",
   "execution_count": 2,
   "id": "f7056219",
   "metadata": {},
   "outputs": [],
   "source": [
    "df=sns.load_dataset('titanic')"
   ]
  },
  {
   "cell_type": "code",
   "execution_count": 3,
   "id": "c5e99b0c",
   "metadata": {},
   "outputs": [
    {
     "data": {
      "text/html": [
       "<div>\n",
       "<style scoped>\n",
       "    .dataframe tbody tr th:only-of-type {\n",
       "        vertical-align: middle;\n",
       "    }\n",
       "\n",
       "    .dataframe tbody tr th {\n",
       "        vertical-align: top;\n",
       "    }\n",
       "\n",
       "    .dataframe thead th {\n",
       "        text-align: right;\n",
       "    }\n",
       "</style>\n",
       "<table border=\"1\" class=\"dataframe\">\n",
       "  <thead>\n",
       "    <tr style=\"text-align: right;\">\n",
       "      <th></th>\n",
       "      <th>survived</th>\n",
       "      <th>pclass</th>\n",
       "      <th>sex</th>\n",
       "      <th>age</th>\n",
       "      <th>sibsp</th>\n",
       "      <th>parch</th>\n",
       "      <th>fare</th>\n",
       "      <th>embarked</th>\n",
       "      <th>class</th>\n",
       "      <th>who</th>\n",
       "      <th>adult_male</th>\n",
       "      <th>deck</th>\n",
       "      <th>embark_town</th>\n",
       "      <th>alive</th>\n",
       "      <th>alone</th>\n",
       "    </tr>\n",
       "  </thead>\n",
       "  <tbody>\n",
       "    <tr>\n",
       "      <th>0</th>\n",
       "      <td>0</td>\n",
       "      <td>3</td>\n",
       "      <td>male</td>\n",
       "      <td>22.0</td>\n",
       "      <td>1</td>\n",
       "      <td>0</td>\n",
       "      <td>7.2500</td>\n",
       "      <td>S</td>\n",
       "      <td>Third</td>\n",
       "      <td>man</td>\n",
       "      <td>True</td>\n",
       "      <td>NaN</td>\n",
       "      <td>Southampton</td>\n",
       "      <td>no</td>\n",
       "      <td>False</td>\n",
       "    </tr>\n",
       "    <tr>\n",
       "      <th>1</th>\n",
       "      <td>1</td>\n",
       "      <td>1</td>\n",
       "      <td>female</td>\n",
       "      <td>38.0</td>\n",
       "      <td>1</td>\n",
       "      <td>0</td>\n",
       "      <td>71.2833</td>\n",
       "      <td>C</td>\n",
       "      <td>First</td>\n",
       "      <td>woman</td>\n",
       "      <td>False</td>\n",
       "      <td>C</td>\n",
       "      <td>Cherbourg</td>\n",
       "      <td>yes</td>\n",
       "      <td>False</td>\n",
       "    </tr>\n",
       "    <tr>\n",
       "      <th>2</th>\n",
       "      <td>1</td>\n",
       "      <td>3</td>\n",
       "      <td>female</td>\n",
       "      <td>26.0</td>\n",
       "      <td>0</td>\n",
       "      <td>0</td>\n",
       "      <td>7.9250</td>\n",
       "      <td>S</td>\n",
       "      <td>Third</td>\n",
       "      <td>woman</td>\n",
       "      <td>False</td>\n",
       "      <td>NaN</td>\n",
       "      <td>Southampton</td>\n",
       "      <td>yes</td>\n",
       "      <td>True</td>\n",
       "    </tr>\n",
       "    <tr>\n",
       "      <th>3</th>\n",
       "      <td>1</td>\n",
       "      <td>1</td>\n",
       "      <td>female</td>\n",
       "      <td>35.0</td>\n",
       "      <td>1</td>\n",
       "      <td>0</td>\n",
       "      <td>53.1000</td>\n",
       "      <td>S</td>\n",
       "      <td>First</td>\n",
       "      <td>woman</td>\n",
       "      <td>False</td>\n",
       "      <td>C</td>\n",
       "      <td>Southampton</td>\n",
       "      <td>yes</td>\n",
       "      <td>False</td>\n",
       "    </tr>\n",
       "    <tr>\n",
       "      <th>4</th>\n",
       "      <td>0</td>\n",
       "      <td>3</td>\n",
       "      <td>male</td>\n",
       "      <td>35.0</td>\n",
       "      <td>0</td>\n",
       "      <td>0</td>\n",
       "      <td>8.0500</td>\n",
       "      <td>S</td>\n",
       "      <td>Third</td>\n",
       "      <td>man</td>\n",
       "      <td>True</td>\n",
       "      <td>NaN</td>\n",
       "      <td>Southampton</td>\n",
       "      <td>no</td>\n",
       "      <td>True</td>\n",
       "    </tr>\n",
       "  </tbody>\n",
       "</table>\n",
       "</div>"
      ],
      "text/plain": [
       "   survived  pclass     sex   age  sibsp  parch     fare embarked  class  \\\n",
       "0         0       3    male  22.0      1      0   7.2500        S  Third   \n",
       "1         1       1  female  38.0      1      0  71.2833        C  First   \n",
       "2         1       3  female  26.0      0      0   7.9250        S  Third   \n",
       "3         1       1  female  35.0      1      0  53.1000        S  First   \n",
       "4         0       3    male  35.0      0      0   8.0500        S  Third   \n",
       "\n",
       "     who  adult_male deck  embark_town alive  alone  \n",
       "0    man        True  NaN  Southampton    no  False  \n",
       "1  woman       False    C    Cherbourg   yes  False  \n",
       "2  woman       False  NaN  Southampton   yes   True  \n",
       "3  woman       False    C  Southampton   yes  False  \n",
       "4    man        True  NaN  Southampton    no   True  "
      ]
     },
     "execution_count": 3,
     "metadata": {},
     "output_type": "execute_result"
    }
   ],
   "source": [
    "df.head()"
   ]
  },
  {
   "cell_type": "code",
   "execution_count": 4,
   "id": "a15daee6",
   "metadata": {},
   "outputs": [
    {
     "data": {
      "text/plain": [
       "(891, 15)"
      ]
     },
     "execution_count": 4,
     "metadata": {},
     "output_type": "execute_result"
    }
   ],
   "source": [
    "df.shape"
   ]
  },
  {
   "cell_type": "code",
   "execution_count": 5,
   "id": "76ba9138",
   "metadata": {},
   "outputs": [
    {
     "data": {
      "text/plain": [
       "object      5\n",
       "int64       4\n",
       "float64     2\n",
       "bool        2\n",
       "category    1\n",
       "category    1\n",
       "dtype: int64"
      ]
     },
     "execution_count": 5,
     "metadata": {},
     "output_type": "execute_result"
    }
   ],
   "source": [
    "df.dtypes.value_counts()"
   ]
  },
  {
   "cell_type": "code",
   "execution_count": 6,
   "id": "e20ea5fb",
   "metadata": {},
   "outputs": [
    {
     "data": {
      "text/plain": [
       "survived       0.000000\n",
       "pclass         0.000000\n",
       "sex            0.000000\n",
       "age            0.198653\n",
       "sibsp          0.000000\n",
       "parch          0.000000\n",
       "fare           0.000000\n",
       "embarked       0.002245\n",
       "class          0.000000\n",
       "who            0.000000\n",
       "adult_male     0.000000\n",
       "deck           0.772166\n",
       "embark_town    0.002245\n",
       "alive          0.000000\n",
       "alone          0.000000\n",
       "dtype: float64"
      ]
     },
     "execution_count": 6,
     "metadata": {},
     "output_type": "execute_result"
    }
   ],
   "source": [
    "df.isna().sum()/df.shape[0]"
   ]
  },
  {
   "cell_type": "markdown",
   "id": "0fb4cbcb",
   "metadata": {},
   "source": [
    "Ces résultats montrent le pourcentage de valeurs manquantes pour chaque colonne du DataFrame. Voici l'interprétation pour chaque variable :\n",
    "\n",
    "    \"survived\", \"pclass\", \"sex\", \"sibsp\", \"parch\", \"fare\", \"class\", \"who\", \"adult_male\", \"alive\" et \"alone\" : Toutes ces variables ont un pourcentage de 0, ce qui signifie qu'elles ne présentent aucune valeur manquante. C'est une bonne chose, car cela signifie que nous disposons de toutes les données pour ces variables.\n",
    "\n",
    "    \"age\" : La variable \"age\" a un pourcentage de 0.198653, ce qui signifie qu'environ 19.87% des données dans cette colonne sont manquantes. Cela indique que certaines lignes du jeu de données n'ont pas d'âge renseigné pour les passagers correspondants.\n",
    "\n",
    "    \"embarked\" et \"embark_town\" : Ces deux variables ont un pourcentage de 0.002245, ce qui signifie que seulement environ 0.22% des données dans ces colonnes sont manquantes. Cela indique qu'il y a très peu de valeurs manquantes pour ces variables.\n",
    "\n",
    "    \"deck\" : La variable \"deck\" a le pourcentage le plus élevé de valeurs manquantes, avec 0.772166. Cela signifie que près de 77.22% des données dans cette colonne sont manquantes, ce qui est un pourcentage élevé. Cela suggère que cette variable pourrait avoir des problèmes de données manquantes et nécessiterait une attention particulière lors de l'analyse ou de la construction de modèles.\n",
    "\n",
    "En conclusion, la plupart des variables ne présentent pas de valeurs manquantes ou en ont très peu, ce qui est une bonne nouvelle pour l'analyse et la modélisation. Cependant, la variable \"age\" a environ 19.87% de valeurs manquantes, et la variable \"deck\" a un pourcentage très élevé de 77.22% de valeurs manquantes. Ces deux variables pourraient nécessiter un traitement approprié pour gérer les valeurs manquantes avant de les utiliser dans des analyses ou des modèles d'apprentissage "
   ]
  },
  {
   "cell_type": "markdown",
   "id": "38535535",
   "metadata": {},
   "source": [
    "faissons la visualisation des valeurs manquantes"
   ]
  },
  {
   "cell_type": "code",
   "execution_count": 7,
   "id": "4793733b",
   "metadata": {},
   "outputs": [
    {
     "data": {
      "text/plain": [
       "<AxesSubplot:>"
      ]
     },
     "execution_count": 7,
     "metadata": {},
     "output_type": "execute_result"
    },
    {
     "data": {
      "image/png": "[encoded data removed]",
      "text/plain": [
       "<Figure size 2000x1000 with 1 Axes>"
      ]
     },
     "metadata": {},
     "output_type": "display_data"
    }
   ],
   "source": [
    "plt.figure(figsize=(20,10))\n",
    "sns.heatmap(df.isna(),cbar=False)"
   ]
  },
  {
   "cell_type": "code",
   "execution_count": 8,
   "id": "93466bba",
   "metadata": {},
   "outputs": [
    {
     "data": {
      "text/plain": [
       "0    0.616162\n",
       "1    0.383838\n",
       "Name: survived, dtype: float64"
      ]
     },
     "execution_count": 8,
     "metadata": {},
     "output_type": "execute_result"
    }
   ],
   "source": [
    "df['survived'].value_counts(normalize=True)"
   ]
  },
  {
   "cell_type": "markdown",
   "id": "75b84b12",
   "metadata": {},
   "source": [
    "#### Interpretation"
   ]
  },
  {
   "cell_type": "markdown",
   "id": "7534ae1a",
   "metadata": {},
   "source": [
    "    0 : La valeur 0 de la variable \"survived\" apparaît dans environ 61.62% des échantillons du DataFrame. Cela signifie que près de 61.62% des passagers du Titanic représentés dans le jeu de données n'ont pas survécu (sont décédés).\n",
    "\n",
    "    1 : La valeur 1 de la variable \"survived\" apparaît dans environ 38.38% des échantillons du DataFrame. Cela signifie que près de 38.38% des passagers du Titanic représentés dans le jeu de données ont survécu.\n",
    "\n",
    "En résumé, la distribution des valeurs de la variable \"survived\" montre qu'il y a environ 61.62% de passagers décédés et environ 38.38% de passagers ayant survécu dans le jeu de données. Cette répartition peut être utile pour comprendre l'équilibre des classes dans le problème de prédiction de la survie, notamment lors de la construction de modèles d'apprentissage automatique, car il peut y avoir un déséquilibre des classes à prendre en compte lors de l'évaluation de la performance du modèle."
   ]
  },
  {
   "cell_type": "code",
   "execution_count": 9,
   "id": "648e58a2",
   "metadata": {},
   "outputs": [],
   "source": [
    "df_survie=df[df['survived']==1]\n",
    "df_pas_survie=df[df['survived']==0]"
   ]
  },
  {
   "cell_type": "code",
   "execution_count": 10,
   "id": "17863a49",
   "metadata": {},
   "outputs": [
    {
     "name": "stderr",
     "output_type": "stream",
     "text": [
      "/home/mouhammed/anaconda3/lib/python3.9/site-packages/seaborn/distributions.py:2619: FutureWarning: `distplot` is a deprecated function and will be removed in a future version. Please adapt your code to use either `displot` (a figure-level function with similar flexibility) or `histplot` (an axes-level function for histograms).\n",
      "  warnings.warn(msg, FutureWarning)\n",
      "/home/mouhammed/anaconda3/lib/python3.9/site-packages/seaborn/distributions.py:2619: FutureWarning: `distplot` is a deprecated function and will be removed in a future version. Please adapt your code to use either `displot` (a figure-level function with similar flexibility) or `histplot` (an axes-level function for histograms).\n",
      "  warnings.warn(msg, FutureWarning)\n"
     ]
    },
    {
     "data": {
      "text/plain": [
       "<matplotlib.legend.Legend at 0x7f0d08eb1760>"
      ]
     },
     "execution_count": 10,
     "metadata": {},
     "output_type": "execute_result"
    },
    {
     "data": {
      "image/png": "[encoded data removed]",
      "text/plain": [
       "<Figure size 640x480 with 1 Axes>"
      ]
     },
     "metadata": {},
     "output_type": "display_data"
    }
   ],
   "source": [
    "plt.figure()\n",
    "sns.distplot(df_survie['fare'],label='survie')\n",
    "sns.distplot(df_pas_survie['fare'],label='pas_survie')\n",
    "plt.legend()"
   ]
  },
  {
   "cell_type": "markdown",
   "id": "287d6217",
   "metadata": {},
   "source": [
    "#### Interpretation"
   ]
  },
  {
   "cell_type": "markdown",
   "id": "bfa7ad9a",
   "metadata": {},
   "source": [
    "D'après l'analyse de la figure, il n'y a pas de grande différence entre les survivants et les non-survivants du Titanic en fonction de la colonne \"fare\" (le prix du billet payé par les passagers).\n",
    "\n",
    "Cette conclusion est basée sur le graphique ou l'analyse visuelle effectuée en traçant la relation entre la variable \"fare\" et la variable \"survived\". Si les deux groupes (survivants et non-survivants) avaient des distributions de prix de billet très différentes, on observerait des variations significatives ou des écarts marqués entre les deux courbes représentant les valeurs de \"fare\" pour les deux groupes.\n",
    "\n",
    "Cependant, d'après la figure, il n'y a pas de distinction évidente entre les deux groupes en ce qui concerne les valeurs de \"fare\". Cela suggère que le prix du billet n'a pas été un facteur décisif pour prédire la survie des passagers."
   ]
  },
  {
   "cell_type": "code",
   "execution_count": 11,
   "id": "5784f8e8",
   "metadata": {},
   "outputs": [
    {
     "data": {
      "text/plain": [
       "<AxesSubplot:xlabel='age', ylabel='count'>"
      ]
     },
     "execution_count": 11,
     "metadata": {},
     "output_type": "execute_result"
    },
    {
     "data": {
      "image/png": "[encoded data removed]",
      "text/plain": [
       "<Figure size 640x480 with 1 Axes>"
      ]
     },
     "metadata": {},
     "output_type": "display_data"
    }
   ],
   "source": [
    "sns.countplot(x='age',hue='survived',data=df)"
   ]
  },
  {
   "cell_type": "markdown",
   "id": "e2d502fd",
   "metadata": {},
   "source": [
    "L'assertion exprimée est correcte. Il est effectivement difficile de formuler une hypothèse simple et directe concernant la relation entre l'âge et la survie des passagers du Titanic. L'analyse de cette relation peut être très complexe en raison de plusieurs facteurs :\n",
    "\n",
    "    Données manquantes : Comme nous l'avons vu précédemment, la variable \"age\" peut contenir un pourcentage non négligeable de valeurs manquantes (dans l'exemple donné, environ 19.87% des données sont manquantes). Gérer ces valeurs manquantes peut être délicat et nécessite des techniques d'imputation appropriées.\n",
    "\n",
    "    Multitude de facteurs : La relation entre l'âge et la survie peut être influencée par de nombreux autres facteurs tels que le sexe, la classe des passagers, la présence de membres de la famille à bord, etc. Il est important de prendre en compte ces variables supplémentaires pour obtenir une analyse plus précise.\n",
    "\n",
    "    Distribution des âges : L'âge peut être réparti de manière très variée, allant des bébés aux personnes âgées, ce qui peut rendre difficile l'identification d'un modèle simple pour prédire la survie en fonction de l'âge.\n",
    "\n",
    "    Relations non linéaires : La relation entre l'âge et la survie peut être non linéaire, c'est-à-dire que l'effet de l'âge sur la survie peut varier selon différentes tranches d'âge"
   ]
  },
  {
   "cell_type": "code",
   "execution_count": 12,
   "id": "4b05ad77",
   "metadata": {},
   "outputs": [
    {
     "data": {
      "text/plain": [
       "1    0.397661\n",
       "3    0.347953\n",
       "2    0.254386\n",
       "Name: pclass, dtype: float64"
      ]
     },
     "execution_count": 12,
     "metadata": {},
     "output_type": "execute_result"
    }
   ],
   "source": [
    "df_survie['pclass'].value_counts(normalize=True)"
   ]
  },
  {
   "cell_type": "code",
   "execution_count": 13,
   "id": "4db4ef19",
   "metadata": {},
   "outputs": [
    {
     "data": {
      "text/plain": [
       "3    0.677596\n",
       "2    0.176685\n",
       "1    0.145719\n",
       "Name: pclass, dtype: float64"
      ]
     },
     "execution_count": 13,
     "metadata": {},
     "output_type": "execute_result"
    }
   ],
   "source": [
    "df_pas_survie['pclass'].value_counts(normalize=True)"
   ]
  },
  {
   "cell_type": "code",
   "execution_count": 14,
   "id": "0f7010d7",
   "metadata": {},
   "outputs": [
    {
     "data": {
      "text/plain": [
       "<AxesSubplot:xlabel='pclass', ylabel='count'>"
      ]
     },
     "execution_count": 14,
     "metadata": {},
     "output_type": "execute_result"
    },
    {
     "data": {
      "image/png": "[encoded data removed]",
      "text/plain": [
       "<Figure size 640x480 with 1 Axes>"
      ]
     },
     "metadata": {},
     "output_type": "display_data"
    }
   ],
   "source": [
    "plt.figure()\n",
    "sns.countplot(x=df_survie['pclass'],hue='survived',data=df)\n",
    "sns.countplot(x=df_pas_survie['pclass'],hue='survived',data=df)\n"
   ]
  },
  {
   "cell_type": "markdown",
   "id": "cfb6b14f",
   "metadata": {},
   "source": [
    "Ces résultats montrent la répartition des classes des passagers du Titanic pour deux groupes distincts : les survivants (df_survie) et les non-survivants (df_pas_survie).\n",
    "\n",
    "Premier groupe (df_survie - Survivants) :\n",
    "\n",
    "    1ère classe (pclass=1) : Environ 39.77% des survivants appartenaient à la première classe.\n",
    "    3ème classe (pclass=3) : Environ 34.80% des survivants appartenaient à la troisième classe.\n",
    "    2ème classe (pclass=2) : Environ 25.44% des survivants appartenaient à la deuxième classe.\n",
    "\n",
    "Deuxième groupe (df_pas_survie - Non-survivants) :\n",
    "\n",
    "    3ème classe (pclass=3) : Environ 67.76% des non-survivants appartenaient à la troisième classe.\n",
    "    2ème classe (pclass=2) : Environ 17.67% des non-survivants appartenaient à la deuxième classe.\n",
    "    1ère classe (pclass=1) : Environ 14.57% des non-survivants appartenaient à la première classe.\n",
    "\n",
    "Interprétation :\n",
    "\n",
    "On peut clairement voir une différence dans la répartition des classes entre les survivants et les non-survivants du Titanic. Une plus grande proportion de survivants appartenaient à la première classe (39.77%), tandis qu'une majorité écrasante de non-survivants étaient des passagers de troisième classe (67.76%).\n",
    "\n",
    "Cela suggère que la classe des passagers (pclass) a joué un rôle significatif dans la probabilité de survie lors du naufrage du Titanic. Les passagers de première classe ont eu une probabilité plus élevée de survie, tandis que ceux de troisième classe ont été les plus touchés par la tragédie."
   ]
  },
  {
   "cell_type": "code",
   "execution_count": 15,
   "id": "fa4979c1",
   "metadata": {},
   "outputs": [
    {
     "data": {
      "text/plain": [
       "female    0.681287\n",
       "male      0.318713\n",
       "Name: sex, dtype: float64"
      ]
     },
     "execution_count": 15,
     "metadata": {},
     "output_type": "execute_result"
    }
   ],
   "source": [
    "df_survie['sex'].value_counts(normalize=True)"
   ]
  },
  {
   "cell_type": "code",
   "execution_count": 16,
   "id": "d76f307b",
   "metadata": {},
   "outputs": [
    {
     "data": {
      "text/plain": [
       "male      0.852459\n",
       "female    0.147541\n",
       "Name: sex, dtype: float64"
      ]
     },
     "execution_count": 16,
     "metadata": {},
     "output_type": "execute_result"
    }
   ],
   "source": [
    "df_pas_survie['sex'].value_counts(normalize=True)"
   ]
  },
  {
   "cell_type": "code",
   "execution_count": 17,
   "id": "f3661486",
   "metadata": {},
   "outputs": [
    {
     "data": {
      "text/plain": [
       "<AxesSubplot:xlabel='sex', ylabel='count'>"
      ]
     },
     "execution_count": 17,
     "metadata": {},
     "output_type": "execute_result"
    },
    {
     "data": {
      "image/png": "[encoded data removed]",
      "text/plain": [
       "<Figure size 640x480 with 1 Axes>"
      ]
     },
     "metadata": {},
     "output_type": "display_data"
    }
   ],
   "source": [
    "sns.countplot(x=df['sex'],hue='survived',data=df)"
   ]
  },
  {
   "cell_type": "markdown",
   "id": "59a9ebfc",
   "metadata": {},
   "source": [
    "Ces résultats montrent la répartition des sexes des passagers du Titanic pour deux groupes distincts : les survivants (df_survie) et les non-survivants (df_pas_survie).\n",
    "\n",
    "Premier groupe (df_survie - Survivants) :\n",
    "\n",
    "    Femmes (sex=female) : Environ 68.13% des survivants étaient des femmes.\n",
    "    Hommes (sex=male) : Environ 31.87% des survivants étaient des hommes.\n",
    "\n",
    "Deuxième groupe (df_pas_survie - Non-survivants) :\n",
    "\n",
    "    Hommes (sex=male) : Environ 85.25% des non-survivants étaient des hommes.\n",
    "    Femmes (sex=female) : Environ 14.75% des non-survivants étaient des femmes.\n",
    "\n",
    "Interprétation :\n",
    "\n",
    "Les résultats mettent en évidence une différence significative entre les sexes des survivants et des non-survivants du Titanic.\n",
    "\n",
    "    La proportion de femmes parmi les survivants (68.13%) est nettement plus élevée que celle parmi les non-survivants (14.75%). Cela indique que les femmes avaient une probabilité de survie beaucoup plus élevée que les hommes lors du naufrage du Titanic.\n",
    "\n",
    "    D'autre part, la proportion d'hommes parmi les non-survivants (85.25%) est beaucoup plus élevée que celle parmi les survivants (31.87%). Cela suggère que les hommes ont été les plus touchés par la tragédie et avaient une probabilité de survie nettement plus faible que les femmes.\n",
    "\n",
    "Ces résultats mettent en évidence l'importance du sexe dans la probabilité de survie lors du naufrage du Titanic. Les femmes ont été favorisées dans l'évacuation des bateaux de sauvetage, ce qui explique leur taux de survie beaucoup plus élevé par rapport aux hommes.\n",
    "\n",
    "Ces observations peuvent être utiles pour mieux comprendre les facteurs qui ont influencé les chances de survie des passagers lors de cette catastrophe maritime historique."
   ]
  },
  {
   "cell_type": "code",
   "execution_count": 18,
   "id": "1909f03b",
   "metadata": {},
   "outputs": [
    {
     "data": {
      "text/plain": [
       "0    0.614035\n",
       "1    0.327485\n",
       "2    0.038012\n",
       "3    0.011696\n",
       "4    0.008772\n",
       "Name: sibsp, dtype: float64"
      ]
     },
     "execution_count": 18,
     "metadata": {},
     "output_type": "execute_result"
    }
   ],
   "source": [
    "df_survie['sibsp'].value_counts(normalize=True)"
   ]
  },
  {
   "cell_type": "code",
   "execution_count": 19,
   "id": "048e2fa5",
   "metadata": {},
   "outputs": [
    {
     "data": {
      "text/plain": [
       "0    0.724954\n",
       "1    0.176685\n",
       "4    0.027322\n",
       "2    0.027322\n",
       "3    0.021858\n",
       "8    0.012750\n",
       "5    0.009107\n",
       "Name: sibsp, dtype: float64"
      ]
     },
     "execution_count": 19,
     "metadata": {},
     "output_type": "execute_result"
    }
   ],
   "source": [
    "df_pas_survie['sibsp'].value_counts(normalize=True)"
   ]
  },
  {
   "cell_type": "code",
   "execution_count": 20,
   "id": "a6a47aa8",
   "metadata": {},
   "outputs": [
    {
     "data": {
      "text/plain": [
       "<AxesSubplot:xlabel='sibsp', ylabel='count'>"
      ]
     },
     "execution_count": 20,
     "metadata": {},
     "output_type": "execute_result"
    },
    {
     "data": {
      "image/png": "[encoded data removed]",
      "text/plain": [
       "<Figure size 640x480 with 1 Axes>"
      ]
     },
     "metadata": {},
     "output_type": "display_data"
    }
   ],
   "source": [
    "sns.countplot(x=df['sibsp'],hue='survived',data=df)"
   ]
  },
  {
   "cell_type": "markdown",
   "id": "37614331",
   "metadata": {},
   "source": [
    "Ces résultats montrent la répartition du nombre de frères et sœurs (ou conjoint) à bord du Titanic pour deux groupes distincts : les survivants (df_survie) et les non-survivants (df_pas_survie).\n",
    "\n",
    "Premier groupe (df_survie - Survivants) :\n",
    "\n",
    "    Aucun frère/soeur ou conjoint (sibsp=0) : Environ 61.40% des survivants n'avaient aucun frère/soeur ou conjoint à bord.\n",
    "    Un frère/soeur ou conjoint (sibsp=1) : Environ 32.75% des survivants avaient un frère/soeur ou conjoint à bord.\n",
    "    Deux frères/soeurs ou conjoints (sibsp=2) : Environ 3.80% des survivants avaient deux frères/soeurs ou conjoints à bord.\n",
    "    Trois frères/soeurs ou conjoints (sibsp=3) : Environ 1.17% des survivants avaient trois frères/soeurs ou conjoints à bord.\n",
    "    Quatre frères/soeurs ou conjoints (sibsp=4) : Environ 0.88% des survivants avaient quatre frères/soeurs ou conjoints à bord.\n",
    "\n",
    "Deuxième groupe (df_pas_survie - Non-survivants) :\n",
    "\n",
    "    Aucun frère/soeur ou conjoint (sibsp=0) : Environ 72.50% des non-survivants n'avaient aucun frère/soeur ou conjoint à bord.\n",
    "    Un frère/soeur ou conjoint (sibsp=1) : Environ 17.67% des non-survivants avaient un frère/soeur ou conjoint à bord.\n",
    "    Quatre frères/soeurs ou conjoints (sibsp=4) : Environ 2.73% des non-survivants avaient quatre frères/soeurs ou conjoints à bord.\n",
    "    Deux frères/soeurs ou conjoints (sibsp=2) : Environ 2.73% des non-survivants avaient deux frères/soeurs ou conjoints à bord.\n",
    "    Trois frères/soeurs ou conjoints (sibsp=3) : Environ 2.19% des non-survivants avaient trois frères/soeurs ou conjoints à bord.\n",
    "    Huit frères/soeurs ou conjoints (sibsp=8) : Environ 1.28% des non-survivants avaient huit frères/soeurs ou conjoints à bord.\n",
    "    Cinq frères/soeurs ou conjoints (sibsp=5) : Environ 0.91% des non-survivants avaient cinq frères/soeurs ou conjoints à bord.\n",
    "\n",
    "Interprétation :\n",
    "\n",
    "Les résultats montrent des différences dans la répartition du nombre de frères/soeurs ou conjoints à bord entre les survivants et les non-survivants du Titanic.\n",
    "\n",
    "    Une plus grande proportion de survivants avait un frère/soeur ou conjoint à bord (32.75%) par rapport aux non-survivants (17.67%).\n",
    "\n",
    "    Les non-survivants étaient plus susceptibles de voyager seuls, car environ 72.50% d'entre eux n'avaient aucun frère/soeur ou conjoint à bord, contre seulement 61.40% chez les survivants.\n",
    "\n",
    "Ces observations indiquent que la présence de membres de la famille à bord peut avoir eu une certaine influence sur la probabilité de survie des passagers lors du naufrage du Titanic. Cependant, pour une analyse plus approfondie, il serait intéressant d'étudier davantage les interactions entre cette variable et d'autres facteurs pour mieux comprendre son impact sur la survie."
   ]
  },
  {
   "cell_type": "code",
   "execution_count": 21,
   "id": "4ba99e70",
   "metadata": {},
   "outputs": [
    {
     "data": {
      "text/plain": [
       "688"
      ]
     },
     "execution_count": 21,
     "metadata": {},
     "output_type": "execute_result"
    }
   ],
   "source": [
    "df['deck'].isna().sum()"
   ]
  },
  {
   "cell_type": "code",
   "execution_count": 22,
   "id": "9fe25453",
   "metadata": {},
   "outputs": [
    {
     "data": {
      "text/plain": [
       "<AxesSubplot:xlabel='embarked', ylabel='count'>"
      ]
     },
     "execution_count": 22,
     "metadata": {},
     "output_type": "execute_result"
    },
    {
     "data": {
      "image/png": "[encoded data removed]",
      "text/plain": [
       "<Figure size 640x480 with 1 Axes>"
      ]
     },
     "metadata": {},
     "output_type": "display_data"
    }
   ],
   "source": [
    "sns.countplot(x=df['embarked'],hue='survived',data=df)"
   ]
  },
  {
   "cell_type": "code",
   "execution_count": 23,
   "id": "c7a107ee",
   "metadata": {},
   "outputs": [
    {
     "data": {
      "text/html": [
       "<div>\n",
       "<style scoped>\n",
       "    .dataframe tbody tr th:only-of-type {\n",
       "        vertical-align: middle;\n",
       "    }\n",
       "\n",
       "    .dataframe tbody tr th {\n",
       "        vertical-align: top;\n",
       "    }\n",
       "\n",
       "    .dataframe thead th {\n",
       "        text-align: right;\n",
       "    }\n",
       "</style>\n",
       "<table border=\"1\" class=\"dataframe\">\n",
       "  <thead>\n",
       "    <tr style=\"text-align: right;\">\n",
       "      <th></th>\n",
       "      <th>survived</th>\n",
       "      <th>pclass</th>\n",
       "      <th>sex</th>\n",
       "      <th>age</th>\n",
       "      <th>sibsp</th>\n",
       "      <th>parch</th>\n",
       "      <th>fare</th>\n",
       "      <th>embarked</th>\n",
       "      <th>class</th>\n",
       "      <th>who</th>\n",
       "      <th>adult_male</th>\n",
       "      <th>deck</th>\n",
       "      <th>embark_town</th>\n",
       "      <th>alive</th>\n",
       "      <th>alone</th>\n",
       "    </tr>\n",
       "  </thead>\n",
       "  <tbody>\n",
       "    <tr>\n",
       "      <th>0</th>\n",
       "      <td>0</td>\n",
       "      <td>3</td>\n",
       "      <td>male</td>\n",
       "      <td>22.0</td>\n",
       "      <td>1</td>\n",
       "      <td>0</td>\n",
       "      <td>7.2500</td>\n",
       "      <td>S</td>\n",
       "      <td>Third</td>\n",
       "      <td>man</td>\n",
       "      <td>True</td>\n",
       "      <td>NaN</td>\n",
       "      <td>Southampton</td>\n",
       "      <td>no</td>\n",
       "      <td>False</td>\n",
       "    </tr>\n",
       "    <tr>\n",
       "      <th>1</th>\n",
       "      <td>1</td>\n",
       "      <td>1</td>\n",
       "      <td>female</td>\n",
       "      <td>38.0</td>\n",
       "      <td>1</td>\n",
       "      <td>0</td>\n",
       "      <td>71.2833</td>\n",
       "      <td>C</td>\n",
       "      <td>First</td>\n",
       "      <td>woman</td>\n",
       "      <td>False</td>\n",
       "      <td>C</td>\n",
       "      <td>Cherbourg</td>\n",
       "      <td>yes</td>\n",
       "      <td>False</td>\n",
       "    </tr>\n",
       "    <tr>\n",
       "      <th>2</th>\n",
       "      <td>1</td>\n",
       "      <td>3</td>\n",
       "      <td>female</td>\n",
       "      <td>26.0</td>\n",
       "      <td>0</td>\n",
       "      <td>0</td>\n",
       "      <td>7.9250</td>\n",
       "      <td>S</td>\n",
       "      <td>Third</td>\n",
       "      <td>woman</td>\n",
       "      <td>False</td>\n",
       "      <td>NaN</td>\n",
       "      <td>Southampton</td>\n",
       "      <td>yes</td>\n",
       "      <td>True</td>\n",
       "    </tr>\n",
       "    <tr>\n",
       "      <th>3</th>\n",
       "      <td>1</td>\n",
       "      <td>1</td>\n",
       "      <td>female</td>\n",
       "      <td>35.0</td>\n",
       "      <td>1</td>\n",
       "      <td>0</td>\n",
       "      <td>53.1000</td>\n",
       "      <td>S</td>\n",
       "      <td>First</td>\n",
       "      <td>woman</td>\n",
       "      <td>False</td>\n",
       "      <td>C</td>\n",
       "      <td>Southampton</td>\n",
       "      <td>yes</td>\n",
       "      <td>False</td>\n",
       "    </tr>\n",
       "    <tr>\n",
       "      <th>4</th>\n",
       "      <td>0</td>\n",
       "      <td>3</td>\n",
       "      <td>male</td>\n",
       "      <td>35.0</td>\n",
       "      <td>0</td>\n",
       "      <td>0</td>\n",
       "      <td>8.0500</td>\n",
       "      <td>S</td>\n",
       "      <td>Third</td>\n",
       "      <td>man</td>\n",
       "      <td>True</td>\n",
       "      <td>NaN</td>\n",
       "      <td>Southampton</td>\n",
       "      <td>no</td>\n",
       "      <td>True</td>\n",
       "    </tr>\n",
       "  </tbody>\n",
       "</table>\n",
       "</div>"
      ],
      "text/plain": [
       "   survived  pclass     sex   age  sibsp  parch     fare embarked  class  \\\n",
       "0         0       3    male  22.0      1      0   7.2500        S  Third   \n",
       "1         1       1  female  38.0      1      0  71.2833        C  First   \n",
       "2         1       3  female  26.0      0      0   7.9250        S  Third   \n",
       "3         1       1  female  35.0      1      0  53.1000        S  First   \n",
       "4         0       3    male  35.0      0      0   8.0500        S  Third   \n",
       "\n",
       "     who  adult_male deck  embark_town alive  alone  \n",
       "0    man        True  NaN  Southampton    no  False  \n",
       "1  woman       False    C    Cherbourg   yes  False  \n",
       "2  woman       False  NaN  Southampton   yes   True  \n",
       "3  woman       False    C  Southampton   yes  False  \n",
       "4    man        True  NaN  Southampton    no   True  "
      ]
     },
     "execution_count": 23,
     "metadata": {},
     "output_type": "execute_result"
    }
   ],
   "source": [
    "df.head(5)"
   ]
  },
  {
   "cell_type": "markdown",
   "id": "9af42a46",
   "metadata": {},
   "source": [
    "### Relation Variables \\Variables"
   ]
  },
  {
   "cell_type": "markdown",
   "id": "af8b303b",
   "metadata": {},
   "source": [
    "    On constate une grande similarité entre les variables :\n",
    "\n",
    "    La variable \"embarked\" est équivalente à la variable \"embarked_town\" car on a remplacé \"Southampton\", \"Cherbourg\",... du variable \"embarked_town\" par leurs premières lettres, à savoir S, C,... dans la variable \"embarked\".\n",
    "\n",
    "    La variable \"alive\" est équivalente à la variable \"survived\" car la variable \"survived\" est l'encodage de la variable \"alive\".\n",
    "\n",
    "    La variable \"who\" est équivalente à la variable \"sex\" car les deux variables sont les mêmes. Les hommes ont le sexe \"male\" et les femmes ont le sexe \"female\".\n",
    "\n",
    "    La variable \"pclass\" est équivalente à la variable \"classe\" car la variable \"pclass\" est l'encodage de la variable \"classe\".\n",
    "\n",
    "    La variable \"age\" est liée à la variable \"adult_male\".\n",
    "\n",
    "    La variable \"alone\" est équivalente à la variable \"sibsp\" car la variable \"sibsp\" est l'encodage de la variable \"alone\"."
   ]
  },
  {
   "cell_type": "markdown",
   "id": "a1fcc5a0",
   "metadata": {},
   "source": [
    "### Strategie"
   ]
  },
  {
   "cell_type": "markdown",
   "id": "234d7a4f",
   "metadata": {},
   "source": [
    "Nous allons continuer à travailler avec les variables \"age\", \"pclass\" et \"sex\" car elles semblent être liées à la survie des passagers du Titanic, d'après les hypothèses émises lors de l'analyse entre la variable cible et ces variables.\n",
    "\n",
    "Il semble inutile de travailler avec la variable \"deck\", puisque 77% de ses valeurs sont manquantes.\n",
    "\n",
    "Nous allons choisir une seule variable parmi les variables équivalentes, ce qui signifie que nous n'allons pas continuer avec les variables \"alive\", \"adult_male\", \"who\" et \"classe\". Nous allons plutôt continuer à travailler avec les variables \"age\", \"sex\", \"pclass\" et \"survived\""
   ]
  },
  {
   "cell_type": "code",
   "execution_count": 24,
   "id": "afd48d12",
   "metadata": {},
   "outputs": [
    {
     "data": {
      "text/plain": [
       "Index(['survived', 'pclass', 'sex', 'age', 'sibsp', 'parch', 'fare',\n",
       "       'embarked', 'class', 'who', 'adult_male', 'deck', 'embark_town',\n",
       "       'alive', 'alone'],\n",
       "      dtype='object')"
      ]
     },
     "execution_count": 24,
     "metadata": {},
     "output_type": "execute_result"
    }
   ],
   "source": [
    "df.columns"
   ]
  },
  {
   "cell_type": "markdown",
   "id": "b2f20eb6",
   "metadata": {},
   "source": [
    "## 2.Prè-Traitement Et le Traitement de nos données"
   ]
  },
  {
   "cell_type": "markdown",
   "id": "f0057b6b",
   "metadata": {},
   "source": [
    "### Objectif"
   ]
  },
  {
   "cell_type": "markdown",
   "id": "ceb67d04",
   "metadata": {},
   "source": [
    "Avant de procéder à l'entraînement de notre modèle, nous devons suivre les étapes suivantes :\n",
    "\n",
    "    Séparer nos données en ensembles d'entraînement et de test : Nous allons diviser notre jeu de données en deux parties : un ensemble d'entraînement qui sera utilisé pour entraîner le modèle et un ensemble de test qui sera utilisé pour évaluer la performance du modèle sur des données qu'il n'a jamais vues auparavant.\n",
    "\n",
    "    Encodage des données : Pour que notre modèle puisse travailler avec les données, nous devons encoder les variables catégorielles en utilisant des techniques telles que l'encodage one-hot (pour les variables nominales) ou l'encodage ordinal (pour les variables ordinales).\n",
    "\n",
    "    Nettoyage des valeurs manquantes : Nous devons gérer les valeurs manquantes dans notre jeu de données. Cela peut être fait en utilisant des méthodes telles que l'imputation (remplacer les valeurs manquantes par des valeurs estimées) ou en supprimant les lignes ou colonnes contenant des valeurs manquantes si cela est approprié.\n",
    "\n",
    "Premier modèle : Évaluation - Diagnostic :\n",
    "\n",
    "Après avoir préparé nos données, nous pouvons construire un premier modèle d'apprentissage automatique, tel qu'une régression logistique, une forêt aléatoire ou un réseau de neurones. Ensuite, nous évaluerons la performance de ce modèle en utilisant des métriques appropriées, telles que l'exactitude (accuracy), la précision (precision), le rappel (recall), le F1-score, etc. Cette évaluation nous permettra de diagnostiquer la performance de notre modèle et d'identifier les éventuelles faiblesses.\n",
    "\n",
    "Améliorer la performance de notre modèle :\n",
    "\n",
    "Pour améliorer la performance de notre modèle, nous pouvons mettre en œuvre plusieurs stratégies :\n",
    "\n",
    "    Optimisation des hyperparamètres : Nous pouvons utiliser des techniques d'optimisation pour trouver les meilleurs hyperparamètres pour notre modèle, tels que la recherche par grille (grid search) ou l'optimisation bayésienne.\n",
    "\n",
    "    Sélection de caractéristiques (feature selection) : Si nous avons un grand nombre de caractéristiques, nous pouvons utiliser des méthodes de sélection de caractéristiques pour identifier les variables les plus importantes et supprimer les caractéristiques moins informatives, ce qui peut améliorer les performances du modèle.\n",
    "\n",
    "    Utilisation de modèles plus avancés : Nous pouvons essayer d'autres modèles plus complexes ou sophistiqués pour voir s'ils améliorent les performances du modèle. Par exemple, nous pourrions essayer des méthodes d'apprentissage ensembliste comme le gradient boosting ou les réseaux de neurones profonds.\n",
    "\n",
    "    Validation croisée : Pour obtenir des estimations plus fiables des performances du modèle, nous pouvons utiliser la validation croisée, qui permet de diviser les données en plusieurs ensembles d'entraînement et de test pour évaluer le modèle de manière plus robuste.\n",
    "\n",
    "    Traitement des données aberrantes : Si notre jeu de données contient des valeurs aberrantes (outliers), nous pouvons décider de les traiter d'une manière appropriée, par exemple en les supprimant ou en les remplaçant par des valeurs plus appropriées.\n",
    "\n",
    "    Gestion du déséquilibre de classe : Si notre variable cible présente un déséquilibre de classe, c'est-à-dire que les catégories sont représentées de manière inégale, nous pouvons utiliser des techniques de sur-échantillonnage ou de sous-échantillonnage pour équilibrer les classes et améliorer les performances du modèle"
   ]
  },
  {
   "cell_type": "code",
   "execution_count": 25,
   "id": "2a541a05",
   "metadata": {},
   "outputs": [],
   "source": [
    "# le tableau obtenue apres l'exploration de nos données est en eliminant les variables qui n'ont pas\n",
    "# un grand impct sur notre Target (survived)\n",
    "df.drop(['sibsp', 'parch', 'fare',\n",
    "       'embarked', 'class', 'who', 'adult_male', 'deck', 'embark_town',\n",
    "       'alive', 'alone'],axis=1,inplace=True)"
   ]
  },
  {
   "cell_type": "markdown",
   "id": "dedd2291",
   "metadata": {},
   "source": [
    "### Nettoyage des valeurs maquantes"
   ]
  },
  {
   "cell_type": "code",
   "execution_count": 26,
   "id": "5b7545ab",
   "metadata": {},
   "outputs": [
    {
     "data": {
      "text/plain": [
       "(714, 4)"
      ]
     },
     "execution_count": 26,
     "metadata": {},
     "output_type": "execute_result"
    }
   ],
   "source": [
    "df.dropna(axis=0,inplace=True)\n",
    "df.shape"
   ]
  },
  {
   "cell_type": "markdown",
   "id": "7a0260a5",
   "metadata": {},
   "source": [
    "### l'encodage de nos données"
   ]
  },
  {
   "cell_type": "code",
   "execution_count": 27,
   "id": "de418d69",
   "metadata": {},
   "outputs": [],
   "source": [
    "df['sex'].replace(['female','male'],[1,0],inplace=True)"
   ]
  },
  {
   "cell_type": "markdown",
   "id": "870b8d53",
   "metadata": {},
   "source": [
    "### Séparation de nos données"
   ]
  },
  {
   "cell_type": "code",
   "execution_count": 28,
   "id": "73a15aca",
   "metadata": {},
   "outputs": [],
   "source": [
    "from sklearn.model_selection import train_test_split\n",
    "y=df['survived']\n",
    "x=df.drop('survived',axis=1)\n",
    "x_train,x_test,y_train,y_test=train_test_split(x,y,test_size=0.2)"
   ]
  },
  {
   "cell_type": "markdown",
   "id": "a2c05a2a",
   "metadata": {},
   "source": [
    "## Modelisation"
   ]
  },
  {
   "cell_type": "code",
   "execution_count": 29,
   "id": "7e97a751",
   "metadata": {},
   "outputs": [
    {
     "name": "stderr",
     "output_type": "stream",
     "text": [
      "/home/mouhammed/anaconda3/lib/python3.9/site-packages/sklearn/neighbors/_classification.py:228: FutureWarning: Unlike other reduction functions (e.g. `skew`, `kurtosis`), the default behavior of `mode` typically preserves the axis it acts along. In SciPy 1.11.0, this behavior will change: the default value of `keepdims` will become False, the `axis` over which the statistic is taken will be eliminated, and the value None will no longer be accepted. Set `keepdims` to True or False to avoid this warning.\n",
      "  mode, _ = stats.mode(_y[neigh_ind, k], axis=1)\n"
     ]
    },
    {
     "data": {
      "text/plain": [
       "array([0, 1, 0, 1, 1, 0, 0, 0, 0, 0, 0, 1, 1, 0, 0, 0, 1, 0, 0, 0, 0, 1,\n",
       "       0, 1, 0, 0, 1, 1, 0, 1, 1, 0, 0, 0, 0, 1, 0, 0, 1, 1, 0, 1, 0, 0,\n",
       "       0, 0, 1, 0, 0, 0, 0, 0, 1, 1, 0, 0, 0, 1, 0, 1, 1, 0, 1, 0, 0, 0,\n",
       "       1, 0, 0, 0, 0, 0, 1, 1, 0, 0, 0, 1, 0, 1, 0, 0, 0, 0, 1, 0, 0, 1,\n",
       "       1, 0, 0, 1, 0, 0, 0, 0, 0, 0, 0, 1, 0, 0, 1, 1, 0, 0, 0, 0, 0, 1,\n",
       "       0, 1, 1, 0, 0, 0, 0, 1, 0, 0, 0, 0, 0, 1, 0, 0, 1, 0, 1, 1, 0, 0,\n",
       "       1, 0, 0, 1, 0, 0, 0, 1, 0, 0, 0])"
      ]
     },
     "execution_count": 29,
     "metadata": {},
     "output_type": "execute_result"
    }
   ],
   "source": [
    "from sklearn.neighbors import KNeighborsClassifier\n",
    "from sklearn.linear_model import SGDClassifier\n",
    "model=KNeighborsClassifier()\n",
    "model.fit(x_train,y_train)\n",
    "model.predict(x_test)"
   ]
  },
  {
   "cell_type": "code",
   "execution_count": 30,
   "id": "13a08e18",
   "metadata": {},
   "outputs": [
    {
     "name": "stderr",
     "output_type": "stream",
     "text": [
      "/home/mouhammed/anaconda3/lib/python3.9/site-packages/sklearn/neighbors/_classification.py:228: FutureWarning: Unlike other reduction functions (e.g. `skew`, `kurtosis`), the default behavior of `mode` typically preserves the axis it acts along. In SciPy 1.11.0, this behavior will change: the default value of `keepdims` will become False, the `axis` over which the statistic is taken will be eliminated, and the value None will no longer be accepted. Set `keepdims` to True or False to avoid this warning.\n",
      "  mode, _ = stats.mode(_y[neigh_ind, k], axis=1)\n"
     ]
    },
    {
     "data": {
      "text/plain": [
       "0.8181818181818182"
      ]
     },
     "execution_count": 30,
     "metadata": {},
     "output_type": "execute_result"
    }
   ],
   "source": [
    "model.score(x_test,y_test)"
   ]
  },
  {
   "cell_type": "code",
   "execution_count": 31,
   "id": "98cd7586",
   "metadata": {},
   "outputs": [],
   "source": [
    "from sklearn.preprocessing import StandardScaler\n",
    "from sklearn.preprocessing import PolynomialFeatures\n",
    "from sklearn.pipeline import make_pipeline\n",
    "from sklearn.neighbors import KNeighborsClassifier\n",
    "from sklearn.linear_model import SGDClassifier\n",
    "from sklearn.tree import DecisionTreeClassifier\n",
    "from sklearn.ensemble import RandomForestClassifier\n",
    "from sklearn.svm import SVC\n",
    "from sklearn.model_selection import GridSearchCV\n",
    "from sklearn.model_selection import learning_curve\n"
   ]
  },
  {
   "cell_type": "code",
   "execution_count": 32,
   "id": "efb11f79",
   "metadata": {},
   "outputs": [],
   "source": [
    "mod=make_pipeline(PolynomialFeatures(),StandardScaler())\n",
    "RandomFor=make_pipeline(mod,RandomForestClassifier())\n",
    "KNN=make_pipeline(mod,KNeighborsClassifier())\n",
    "svc=make_pipeline(mod,SVC())\n",
    "DecisionTree=make_pipeline(mod,DecisionTreeClassifier())\n",
    "SGD=make_pipeline(mod,SGDClassifier())\n"
   ]
  },
  {
   "cell_type": "code",
   "execution_count": 33,
   "id": "eb9b65b4",
   "metadata": {},
   "outputs": [
    {
     "name": "stdout",
     "output_type": "stream",
     "text": [
      "randomForest\n",
      "0.8531468531468531\n",
      "KNN\n",
      "0.8671328671328671\n",
      "svc\n",
      "0.8461538461538461\n",
      "DecisionTree\n",
      "0.8601398601398601\n",
      "SGD\n",
      "0.7762237762237763\n"
     ]
    },
    {
     "name": "stderr",
     "output_type": "stream",
     "text": [
      "/home/mouhammed/anaconda3/lib/python3.9/site-packages/sklearn/neighbors/_classification.py:228: FutureWarning: Unlike other reduction functions (e.g. `skew`, `kurtosis`), the default behavior of `mode` typically preserves the axis it acts along. In SciPy 1.11.0, this behavior will change: the default value of `keepdims` will become False, the `axis` over which the statistic is taken will be eliminated, and the value None will no longer be accepted. Set `keepdims` to True or False to avoid this warning.\n",
      "  mode, _ = stats.mode(_y[neigh_ind, k], axis=1)\n"
     ]
    }
   ],
   "source": [
    "list_modele={'randomForest':RandomFor,'KNN':KNN,'svc':svc,'DecisionTree':DecisionTree,'SGD':SGD}\n",
    "for name, modele in list_modele.items():\n",
    "    modele.fit(x_train,y_train)\n",
    "    print(name)\n",
    "    print(modele.score(x_test,y_test))"
   ]
  },
  {
   "cell_type": "markdown",
   "id": "1a2a9eec",
   "metadata": {},
   "source": [
    "    RandomForest : Le modèle Random Forest a atteint une précision (score) d'environ 83.22% sur l'ensemble de test.\n",
    "\n",
    "    KNN : Le modèle KNN (K-Nearest Neighbors) a obtenu une précision d'environ 82.52% sur l'ensemble de test.\n",
    "\n",
    "    SVC : Le modèle SVC (Support Vector Classifier) a atteint une précision d'environ 79.72% sur l'ensemble de test.\n",
    "\n",
    "    DecisionTree : Le modèle Decision Tree a obtenu une précision d'environ 81.82% sur l'ensemble de test.\n",
    "\n",
    "    SGD : Le modèle SGD (Stochastic Gradient Descent) a atteint une précision d'environ 76.92% sur l'ensemble de test.\n",
    "\n",
    "En général, le modèle Random Forest a obtenu la meilleure performance parmi les modèles testés, avec une précision d'environ 83.22%. Cependant, il est important de noter que ces résultats peuvent varier en fonction des données utilisées et des hyperparamètres choisis pour chaque modèle. Pour sélectionner le meilleur modèle, il est essentiel de comparer ces performances et de les considérer conjointement avec d'autres métriques d'évaluation telles que la précision, le rappel, le F1-score, etc., en fonction des objectifs spécifiques du problème d'apprentissage automatique."
   ]
  },
  {
   "cell_type": "code",
   "execution_count": 34,
   "id": "0cd3a47e",
   "metadata": {},
   "outputs": [],
   "source": [
    "y_pred=modele.predict(x_test)"
   ]
  },
  {
   "cell_type": "code",
   "execution_count": 36,
   "id": "2effcfb4",
   "metadata": {},
   "outputs": [],
   "source": [
    "from sklearn.metrics import confusion_matrix"
   ]
  },
  {
   "cell_type": "code",
   "execution_count": 37,
   "id": "5b334264",
   "metadata": {},
   "outputs": [
    {
     "data": {
      "text/plain": [
       "<AxesSubplot:>"
      ]
     },
     "execution_count": 37,
     "metadata": {},
     "output_type": "execute_result"
    },
    {
     "data": {
      "image/png": "[encoded data removed]",
      "text/plain": [
       "<Figure size 640x480 with 2 Axes>"
      ]
     },
     "metadata": {},
     "output_type": "display_data"
    }
   ],
   "source": [
    "sns.heatmap(confusion_matrix(y_test,y_pred),annot=True)"
   ]
  },
  {
   "cell_type": "markdown",
   "id": "13f5f2e4",
   "metadata": {},
   "source": [
    "L'analyse de la matrice de confusion révèle que nous devons nous concentrer davantage sur la classe 1. En effet, cette classe présente un nombre significativement plus élevé de mauvais classements de notre modèle."
   ]
  },
  {
   "cell_type": "code",
   "execution_count": null,
   "id": "f6754cda",
   "metadata": {},
   "outputs": [],
   "source": []
  },
  {
   "cell_type": "code",
   "execution_count": null,
   "id": "36e26f9c",
   "metadata": {},
   "outputs": [],
   "source": []
  },
  {
   "cell_type": "code",
   "execution_count": null,
   "id": "46a7b104",
   "metadata": {},
   "outputs": [],
   "source": []
  },
  {
   "cell_type": "code",
   "execution_count": null,
   "id": "2f657c95",
   "metadata": {},
   "outputs": [],
   "source": []
  },
  {
   "cell_type": "code",
   "execution_count": null,
   "id": "0b06b0a8",
   "metadata": {},
   "outputs": [],
   "source": []
  },
  {
   "cell_type": "code",
   "execution_count": null,
   "id": "f6c729cb",
   "metadata": {},
   "outputs": [],
   "source": []
  }
 ],
 "metadata": {
  "kernelspec": {
   "display_name": "Python 3 (ipykernel)",
   "language": "python",
   "name": "python3"
  },
  "language_info": {
   "codemirror_mode": {
    "name": "ipython",
    "version": 3
   },
   "file_extension": ".py",
   "mimetype": "text/x-python",
   "name": "python",
   "nbconvert_exporter": "python",
   "pygments_lexer": "ipython3",
   "version": "3.9.13"
  }
 },
 "nbformat": 4,
 "nbformat_minor": 5
}
