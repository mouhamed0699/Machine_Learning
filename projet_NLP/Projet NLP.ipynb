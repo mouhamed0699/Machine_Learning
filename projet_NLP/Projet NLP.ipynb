{
 "cells": [
  {
   "cell_type": "markdown",
   "id": "8fb00851",
   "metadata": {},
   "source": [
    "# Projet NLP (Analyse des Sentiments liés au COVID sur Twitter)"
   ]
  },
  {
   "cell_type": "markdown",
   "id": "9a3e5d3c",
   "metadata": {},
   "source": [
    "## Presenté par :\n",
    "### Mouhammed niah"
   ]
  },
  {
   "cell_type": "code",
   "execution_count": 1,
   "id": "a264e9c1",
   "metadata": {},
   "outputs": [],
   "source": [
    "import pandas as pd\n",
    "import seaborn as sns\n",
    "import matplotlib.pyplot as plt"
   ]
  },
  {
   "cell_type": "code",
   "execution_count": 2,
   "id": "ce8a92b0",
   "metadata": {},
   "outputs": [],
   "source": [
    "df=pd.read_csv(\"Corona_NLP_train.csv\",encoding=\"ISO-8859-1\")"
   ]
  },
  {
   "cell_type": "markdown",
   "id": "4fedd7bc",
   "metadata": {},
   "source": [
    "# Exploration"
   ]
  },
  {
   "cell_type": "code",
   "execution_count": 3,
   "id": "6fc7189a",
   "metadata": {},
   "outputs": [
    {
     "data": {
      "text/html": [
       "<div>\n",
       "<style scoped>\n",
       "    .dataframe tbody tr th:only-of-type {\n",
       "        vertical-align: middle;\n",
       "    }\n",
       "\n",
       "    .dataframe tbody tr th {\n",
       "        vertical-align: top;\n",
       "    }\n",
       "\n",
       "    .dataframe thead th {\n",
       "        text-align: right;\n",
       "    }\n",
       "</style>\n",
       "<table border=\"1\" class=\"dataframe\">\n",
       "  <thead>\n",
       "    <tr style=\"text-align: right;\">\n",
       "      <th></th>\n",
       "      <th>UserName</th>\n",
       "      <th>ScreenName</th>\n",
       "      <th>Location</th>\n",
       "      <th>TweetAt</th>\n",
       "      <th>OriginalTweet</th>\n",
       "      <th>Sentiment</th>\n",
       "    </tr>\n",
       "  </thead>\n",
       "  <tbody>\n",
       "    <tr>\n",
       "      <th>0</th>\n",
       "      <td>3799</td>\n",
       "      <td>48751</td>\n",
       "      <td>London</td>\n",
       "      <td>16-03-2020</td>\n",
       "      <td>@MeNyrbie @Phil_Gahan @Chrisitv https://t.co/i...</td>\n",
       "      <td>Neutral</td>\n",
       "    </tr>\n",
       "    <tr>\n",
       "      <th>1</th>\n",
       "      <td>3800</td>\n",
       "      <td>48752</td>\n",
       "      <td>UK</td>\n",
       "      <td>16-03-2020</td>\n",
       "      <td>advice Talk to your neighbours family to excha...</td>\n",
       "      <td>Positive</td>\n",
       "    </tr>\n",
       "    <tr>\n",
       "      <th>2</th>\n",
       "      <td>3801</td>\n",
       "      <td>48753</td>\n",
       "      <td>Vagabonds</td>\n",
       "      <td>16-03-2020</td>\n",
       "      <td>Coronavirus Australia: Woolworths to give elde...</td>\n",
       "      <td>Positive</td>\n",
       "    </tr>\n",
       "    <tr>\n",
       "      <th>3</th>\n",
       "      <td>3802</td>\n",
       "      <td>48754</td>\n",
       "      <td>NaN</td>\n",
       "      <td>16-03-2020</td>\n",
       "      <td>My food stock is not the only one which is emp...</td>\n",
       "      <td>Positive</td>\n",
       "    </tr>\n",
       "    <tr>\n",
       "      <th>4</th>\n",
       "      <td>3803</td>\n",
       "      <td>48755</td>\n",
       "      <td>NaN</td>\n",
       "      <td>16-03-2020</td>\n",
       "      <td>Me, ready to go at supermarket during the #COV...</td>\n",
       "      <td>Extremely Negative</td>\n",
       "    </tr>\n",
       "  </tbody>\n",
       "</table>\n",
       "</div>"
      ],
      "text/plain": [
       "   UserName  ScreenName   Location     TweetAt  \\\n",
       "0      3799       48751     London  16-03-2020   \n",
       "1      3800       48752         UK  16-03-2020   \n",
       "2      3801       48753  Vagabonds  16-03-2020   \n",
       "3      3802       48754        NaN  16-03-2020   \n",
       "4      3803       48755        NaN  16-03-2020   \n",
       "\n",
       "                                       OriginalTweet           Sentiment  \n",
       "0  @MeNyrbie @Phil_Gahan @Chrisitv https://t.co/i...             Neutral  \n",
       "1  advice Talk to your neighbours family to excha...            Positive  \n",
       "2  Coronavirus Australia: Woolworths to give elde...            Positive  \n",
       "3  My food stock is not the only one which is emp...            Positive  \n",
       "4  Me, ready to go at supermarket during the #COV...  Extremely Negative  "
      ]
     },
     "execution_count": 3,
     "metadata": {},
     "output_type": "execute_result"
    }
   ],
   "source": [
    "df.head()"
   ]
  },
  {
   "cell_type": "markdown",
   "id": "ba47dc9f",
   "metadata": {},
   "source": [
    "## Definition des variable"
   ]
  },
  {
   "cell_type": "markdown",
   "id": "e0787b06",
   "metadata": {},
   "source": [
    "    UserName : Identifiant unique attribué à chaque utilisateur de Twitter. Il permet de distinguer les différents utilisateurs sur la plateforme.\n",
    "\n",
    "    ScreenName : Nom d'écran unique associé à chaque utilisateur de Twitter. C'est le nom qui apparaît sur le profil public de l'utilisateur et qui est utilisé pour identifier l'utilisateur dans les mentions et les réponses.\n",
    "\n",
    "    Location : Emplacement géographique déclaré par l'utilisateur sur son profil Twitter. Cela peut inclure le nom d'une ville, d'un pays ou d'une région. Dans ce jeu de données, environ 21% des valeurs de cette colonne sont manquantes, indiquant que certains utilisateurs n'ont pas spécifié leur emplacement.\n",
    "\n",
    "    TweetAt : Date et heure auxquelles le tweet a été publié sur Twitter. Cette information permet de suivre le moment précis de la publication du tweet.\n",
    "\n",
    "    OriginalTweet : Le texte complet du tweet publié par l'utilisateur. Il s'agit du contenu brut du message partagé sur Twitter, qui peut inclure du texte, des liens, des hashtags et des mentions.\n",
    "\n",
    "    Sentiment : Le sentiment exprimé dans le tweet, catégorisé en cinq classes : \"Positive\" (positif), \"Negative\" (négatif), \"Neutral\" (neutre), \"Extremely Positive\" (extrêmement positif) et \"Extremely Negative\" (extrêmement négatif). Cette variable permet de comprendre le ton général du tweet, allant de positif à négatif."
   ]
  },
  {
   "cell_type": "code",
   "execution_count": 4,
   "id": "a6d29bdf",
   "metadata": {},
   "outputs": [
    {
     "data": {
      "text/plain": [
       "(41157, 6)"
      ]
     },
     "execution_count": 4,
     "metadata": {},
     "output_type": "execute_result"
    }
   ],
   "source": [
    "df.shape"
   ]
  },
  {
   "cell_type": "markdown",
   "id": "74351a15",
   "metadata": {},
   "source": [
    "## Valeures manquantes"
   ]
  },
  {
   "cell_type": "markdown",
   "id": "cc41e643",
   "metadata": {},
   "source": [
    "## df.isna().sum()/df.shape[0]"
   ]
  },
  {
   "cell_type": "code",
   "execution_count": 5,
   "id": "8f1bdab2",
   "metadata": {},
   "outputs": [
    {
     "data": {
      "text/plain": [
       "<AxesSubplot:>"
      ]
     },
     "execution_count": 5,
     "metadata": {},
     "output_type": "execute_result"
    },
    {
     "data": {
      "image/png": "[encoded data removed]",
      "text/plain": [
       "<Figure size 2000x500 with 1 Axes>"
      ]
     },
     "metadata": {},
     "output_type": "display_data"
    }
   ],
   "source": [
    "plt.figure(figsize=(20,5))\n",
    "sns.heatmap(df.isna(),cbar=False)"
   ]
  },
  {
   "cell_type": "markdown",
   "id": "f467e573",
   "metadata": {},
   "source": [
    "    UserName et ScreenName : Aucune valeur manquante dans ces deux colonnes, ce qui signifie que chaque ligne a des informations sur l'utilisateur et son nom d'écran.\n",
    "\n",
    "    Location : Environ 20.87% des entrées dans la colonne \"Location\" sont manquantes. Cela indique que près d'un cinquième des utilisateurs n'ont pas spécifié leur emplacement dans les tweets.\n",
    "\n",
    "    TweetAt et OriginalTweet : Aucune valeur manquante dans ces colonnes, ce qui signifie que chaque tweet a été enregistré avec sa date et son contenu d'origine.\n",
    "\n",
    "    Sentiment : Aucune valeur manquante dans cette colonne, ce qui signifie que chaque tweet a été étiqueté avec un sentiment spécifique (Positive, Negative, Neutral, Extremely Positive, Extremely Negative).\n",
    "\n",
    "En résumé, il y a une quantité significative de valeurs manquantes dans la colonne \"Location\" (environ 21%), ce qui peut être un défi lors de l'analyse, surtout si l'emplacement est une caractéristique cruciale pour l'étude. Pour les autres colonnes, il n'y a pas de valeurs manquantes, ce qui facilitera l'analyse et le traitement ultérieur des données. Il serait peut-être nécessaire de prendre des décisions sur la façon de gérer les valeurs manquantes dans la colonne \"Location\" en fonction des objectifs spécifiques de l'analyse ou de l'étude."
   ]
  },
  {
   "cell_type": "code",
   "execution_count": 6,
   "id": "ebf0eb54",
   "metadata": {},
   "outputs": [
    {
     "data": {
      "text/plain": [
       "Positive              11422\n",
       "Negative               9917\n",
       "Neutral                7713\n",
       "Extremely Positive     6624\n",
       "Extremely Negative     5481\n",
       "Name: Sentiment, dtype: int64"
      ]
     },
     "execution_count": 6,
     "metadata": {},
     "output_type": "execute_result"
    }
   ],
   "source": [
    "df['Sentiment'].value_counts()"
   ]
  },
  {
   "cell_type": "code",
   "execution_count": 7,
   "id": "214ac04f",
   "metadata": {},
   "outputs": [
    {
     "data": {
      "image/png": "[encoded data removed]",
      "text/plain": [
       "<Figure size 1000x500 with 1 Axes>"
      ]
     },
     "metadata": {},
     "output_type": "display_data"
    }
   ],
   "source": [
    "import matplotlib.pyplot as plt\n",
    "sentiment_counts = df['Sentiment'].value_counts()\n",
    "plt.figure(figsize=(10,5))\n",
    "plt.bar(sentiment_counts.index, sentiment_counts.values)\n",
    "plt.xlabel('Sentiment')\n",
    "plt.ylabel('Nombre de tweets')\n",
    "plt.show()\n"
   ]
  },
  {
   "cell_type": "markdown",
   "id": "8c3d33d9",
   "metadata": {},
   "source": [
    "    Positive : Il y a 11,422 tweets exprimant un sentiment positif.\n",
    "    Negative : Il y a 9,917 tweets exprimant un sentiment négatif.\n",
    "    Neutral : Il y a 7,713 tweets exprimant un sentiment neutre.\n",
    "    Extremely Positive : Il y a 6,624 tweets exprimant un sentiment extrêmement positif.\n",
    "    Extremely Negative : Il y a 5,481 tweets exprimant un sentiment extrêmement négatif.\n",
    "\n",
    "Ces chiffres montrent la diversité des réactions des utilisateurs de Twitter par rapport à la pandémie COVID-19, allant de la positivité extrême à la négativité extrême."
   ]
  },
  {
   "cell_type": "code",
   "execution_count": 8,
   "id": "ddf0f815",
   "metadata": {},
   "outputs": [
    {
     "data": {
      "text/plain": [
       "(41157, 6)"
      ]
     },
     "execution_count": 8,
     "metadata": {},
     "output_type": "execute_result"
    }
   ],
   "source": [
    "df.shape"
   ]
  },
  {
   "cell_type": "code",
   "execution_count": 9,
   "id": "83f36c44",
   "metadata": {},
   "outputs": [
    {
     "data": {
      "text/plain": [
       "'advice Talk to your neighbours family to exchange phone numbers create contact list with phone numbers of neighbours schools employer chemist GP set up online shopping accounts if poss adequate supplies of regular meds but not over order'"
      ]
     },
     "execution_count": 9,
     "metadata": {},
     "output_type": "execute_result"
    }
   ],
   "source": [
    "df.loc[1,\"OriginalTweet\"]"
   ]
  },
  {
   "cell_type": "code",
   "execution_count": 10,
   "id": "d25197eb",
   "metadata": {},
   "outputs": [
    {
     "data": {
      "text/plain": [
       "array(['Neutral', 'Positive', 'Extremely Negative', 'Negative',\n",
       "       'Extremely Positive'], dtype=object)"
      ]
     },
     "execution_count": 10,
     "metadata": {},
     "output_type": "execute_result"
    }
   ],
   "source": [
    "df['Sentiment'].unique()"
   ]
  },
  {
   "cell_type": "markdown",
   "id": "0a87606c",
   "metadata": {},
   "source": [
    "# Traitement de nos Données"
   ]
  },
  {
   "cell_type": "markdown",
   "id": "766f4a21",
   "metadata": {},
   "source": [
    "## Suppression des ponctuation "
   ]
  },
  {
   "cell_type": "markdown",
   "id": "5f134bd8",
   "metadata": {},
   "source": [
    "La suppression de la ponctuation dans un projet de NLP (Traitement Automatique du Langage Naturel) est une étape préliminaire importante lors de la préparation des données textuelles. Voici quelques raisons pour lesquelles la suppression de la ponctuation est généralement effectuée :\n",
    "\n",
    "    Simplification du Texte : La suppression de la ponctuation simplifie le texte en éliminant les caractères non alphabétiques. Cela peut faciliter le traitement ultérieur du texte en réduisant la complexité des données.\n",
    "\n",
    "    Uniformisation des Mots : Les mots contenant de la ponctuation, comme \"word!\" et \"word\", sont traités différemment par les algorithmes de NLP. En supprimant la ponctuation, on s'assure que des mots similaires sont traités de manière uniforme.\n",
    "\n",
    "    Amélioration de la Cohérence : La suppression de la ponctuation peut améliorer la cohérence des données. Par exemple, \"mot.\" et \"mot\" deviennent identiques après la suppression de la ponctuation.\n",
    "\n",
    "    Focus sur le Contenu : Dans de nombreux cas, la ponctuation n'ajoute pas de valeur sémantique significative à l'analyse du texte. En supprimant la ponctuation, l'attention se concentre sur le contenu textuel réel plutôt que sur les caractères de séparation.\n",
    "\n",
    "    Réduction de la Dimensionnalité : Dans le cadre de la vectorisation des mots, la suppression de la ponctuation réduit la dimensionnalité de l'espace vectoriel. Cela peut être particulièrement utile lorsque vous travaillez avec des ensembles de données volumineux, car cela réduit le nombre de fonctionnalités à traiter.\n",
    "\n",
    "    Amélioration de la Précision : Certains modèles de NLP peuvent être sensibles à la ponctuation. En la supprimant, vous pouvez améliorer la précision des modèles en éliminant les bruits indésirables.\n",
    "\n",
    "    Facilitation de la Tokenisation : La suppression de la ponctuation facilite la découpe du texte en unités discrètes appelées \"tokens\". Les tokens sont les éléments de base sur lesquels de nombreuses opérations de traitement du langage naturel sont effectuées.\n",
    "\n",
    "En résumé, la suppression de la ponctuation est une étape de prétraitement essentielle qui simplifie et prépare le texte pour les étapes ultérieures de l'analyse et du traitement automatique du langage naturel."
   ]
  },
  {
   "cell_type": "code",
   "execution_count": 11,
   "id": "62207e56",
   "metadata": {},
   "outputs": [],
   "source": [
    "import string"
   ]
  },
  {
   "cell_type": "code",
   "execution_count": 12,
   "id": "533bdf6f",
   "metadata": {},
   "outputs": [
    {
     "data": {
      "text/plain": [
       "'!\"#$%&\\'()*+,-./:;<=>?@[\\\\]^_`{|}~'"
      ]
     },
     "execution_count": 12,
     "metadata": {},
     "output_type": "execute_result"
    }
   ],
   "source": [
    "string.punctuation"
   ]
  },
  {
   "cell_type": "code",
   "execution_count": 13,
   "id": "22aad3c1",
   "metadata": {},
   "outputs": [],
   "source": [
    "def suprime_ponctuation(text):\n",
    "    new_text=\"\".join([ch for ch in text if ch not in string.punctuation])\n",
    "    return new_text"
   ]
  },
  {
   "cell_type": "code",
   "execution_count": 14,
   "id": "b4d784e4",
   "metadata": {},
   "outputs": [],
   "source": [
    "df['Sans_ponc_OriginalTweet']=df['OriginalTweet'].apply(lambda x : suprime_ponctuation(x))"
   ]
  },
  {
   "cell_type": "code",
   "execution_count": 15,
   "id": "7a17eafa",
   "metadata": {},
   "outputs": [
    {
     "data": {
      "text/html": [
       "<div>\n",
       "<style scoped>\n",
       "    .dataframe tbody tr th:only-of-type {\n",
       "        vertical-align: middle;\n",
       "    }\n",
       "\n",
       "    .dataframe tbody tr th {\n",
       "        vertical-align: top;\n",
       "    }\n",
       "\n",
       "    .dataframe thead th {\n",
       "        text-align: right;\n",
       "    }\n",
       "</style>\n",
       "<table border=\"1\" class=\"dataframe\">\n",
       "  <thead>\n",
       "    <tr style=\"text-align: right;\">\n",
       "      <th></th>\n",
       "      <th>UserName</th>\n",
       "      <th>ScreenName</th>\n",
       "      <th>Location</th>\n",
       "      <th>TweetAt</th>\n",
       "      <th>OriginalTweet</th>\n",
       "      <th>Sentiment</th>\n",
       "      <th>Sans_ponc_OriginalTweet</th>\n",
       "    </tr>\n",
       "  </thead>\n",
       "  <tbody>\n",
       "    <tr>\n",
       "      <th>0</th>\n",
       "      <td>3799</td>\n",
       "      <td>48751</td>\n",
       "      <td>London</td>\n",
       "      <td>16-03-2020</td>\n",
       "      <td>@MeNyrbie @Phil_Gahan @Chrisitv https://t.co/i...</td>\n",
       "      <td>Neutral</td>\n",
       "      <td>MeNyrbie PhilGahan Chrisitv httpstcoiFz9FAn2Pa...</td>\n",
       "    </tr>\n",
       "    <tr>\n",
       "      <th>1</th>\n",
       "      <td>3800</td>\n",
       "      <td>48752</td>\n",
       "      <td>UK</td>\n",
       "      <td>16-03-2020</td>\n",
       "      <td>advice Talk to your neighbours family to excha...</td>\n",
       "      <td>Positive</td>\n",
       "      <td>advice Talk to your neighbours family to excha...</td>\n",
       "    </tr>\n",
       "    <tr>\n",
       "      <th>2</th>\n",
       "      <td>3801</td>\n",
       "      <td>48753</td>\n",
       "      <td>Vagabonds</td>\n",
       "      <td>16-03-2020</td>\n",
       "      <td>Coronavirus Australia: Woolworths to give elde...</td>\n",
       "      <td>Positive</td>\n",
       "      <td>Coronavirus Australia Woolworths to give elder...</td>\n",
       "    </tr>\n",
       "    <tr>\n",
       "      <th>3</th>\n",
       "      <td>3802</td>\n",
       "      <td>48754</td>\n",
       "      <td>NaN</td>\n",
       "      <td>16-03-2020</td>\n",
       "      <td>My food stock is not the only one which is emp...</td>\n",
       "      <td>Positive</td>\n",
       "      <td>My food stock is not the only one which is emp...</td>\n",
       "    </tr>\n",
       "    <tr>\n",
       "      <th>4</th>\n",
       "      <td>3803</td>\n",
       "      <td>48755</td>\n",
       "      <td>NaN</td>\n",
       "      <td>16-03-2020</td>\n",
       "      <td>Me, ready to go at supermarket during the #COV...</td>\n",
       "      <td>Extremely Negative</td>\n",
       "      <td>Me ready to go at supermarket during the COVID...</td>\n",
       "    </tr>\n",
       "  </tbody>\n",
       "</table>\n",
       "</div>"
      ],
      "text/plain": [
       "   UserName  ScreenName   Location     TweetAt  \\\n",
       "0      3799       48751     London  16-03-2020   \n",
       "1      3800       48752         UK  16-03-2020   \n",
       "2      3801       48753  Vagabonds  16-03-2020   \n",
       "3      3802       48754        NaN  16-03-2020   \n",
       "4      3803       48755        NaN  16-03-2020   \n",
       "\n",
       "                                       OriginalTweet           Sentiment  \\\n",
       "0  @MeNyrbie @Phil_Gahan @Chrisitv https://t.co/i...             Neutral   \n",
       "1  advice Talk to your neighbours family to excha...            Positive   \n",
       "2  Coronavirus Australia: Woolworths to give elde...            Positive   \n",
       "3  My food stock is not the only one which is emp...            Positive   \n",
       "4  Me, ready to go at supermarket during the #COV...  Extremely Negative   \n",
       "\n",
       "                             Sans_ponc_OriginalTweet  \n",
       "0  MeNyrbie PhilGahan Chrisitv httpstcoiFz9FAn2Pa...  \n",
       "1  advice Talk to your neighbours family to excha...  \n",
       "2  Coronavirus Australia Woolworths to give elder...  \n",
       "3  My food stock is not the only one which is emp...  \n",
       "4  Me ready to go at supermarket during the COVID...  "
      ]
     },
     "execution_count": 15,
     "metadata": {},
     "output_type": "execute_result"
    }
   ],
   "source": [
    "df.head()"
   ]
  },
  {
   "cell_type": "markdown",
   "id": "375edaa5",
   "metadata": {},
   "source": [
    "================================================================================================"
   ]
  },
  {
   "cell_type": "code",
   "execution_count": 16,
   "id": "bfa6e0da",
   "metadata": {},
   "outputs": [],
   "source": [
    "import re\n",
    "def tokenizer(text):\n",
    "    words = re.split('\\W+', text)\n",
    "    return words"
   ]
  },
  {
   "cell_type": "code",
   "execution_count": 17,
   "id": "05774f57",
   "metadata": {},
   "outputs": [],
   "source": [
    "df['list_mot']=df['Sans_ponc_OriginalTweet'].apply(lambda x : tokenizer(x))"
   ]
  },
  {
   "cell_type": "code",
   "execution_count": 18,
   "id": "c5731f20",
   "metadata": {},
   "outputs": [
    {
     "data": {
      "text/html": [
       "<div>\n",
       "<style scoped>\n",
       "    .dataframe tbody tr th:only-of-type {\n",
       "        vertical-align: middle;\n",
       "    }\n",
       "\n",
       "    .dataframe tbody tr th {\n",
       "        vertical-align: top;\n",
       "    }\n",
       "\n",
       "    .dataframe thead th {\n",
       "        text-align: right;\n",
       "    }\n",
       "</style>\n",
       "<table border=\"1\" class=\"dataframe\">\n",
       "  <thead>\n",
       "    <tr style=\"text-align: right;\">\n",
       "      <th></th>\n",
       "      <th>UserName</th>\n",
       "      <th>ScreenName</th>\n",
       "      <th>Location</th>\n",
       "      <th>TweetAt</th>\n",
       "      <th>OriginalTweet</th>\n",
       "      <th>Sentiment</th>\n",
       "      <th>Sans_ponc_OriginalTweet</th>\n",
       "      <th>list_mot</th>\n",
       "    </tr>\n",
       "  </thead>\n",
       "  <tbody>\n",
       "    <tr>\n",
       "      <th>0</th>\n",
       "      <td>3799</td>\n",
       "      <td>48751</td>\n",
       "      <td>London</td>\n",
       "      <td>16-03-2020</td>\n",
       "      <td>@MeNyrbie @Phil_Gahan @Chrisitv https://t.co/i...</td>\n",
       "      <td>Neutral</td>\n",
       "      <td>MeNyrbie PhilGahan Chrisitv httpstcoiFz9FAn2Pa...</td>\n",
       "      <td>[MeNyrbie, PhilGahan, Chrisitv, httpstcoiFz9FA...</td>\n",
       "    </tr>\n",
       "    <tr>\n",
       "      <th>1</th>\n",
       "      <td>3800</td>\n",
       "      <td>48752</td>\n",
       "      <td>UK</td>\n",
       "      <td>16-03-2020</td>\n",
       "      <td>advice Talk to your neighbours family to excha...</td>\n",
       "      <td>Positive</td>\n",
       "      <td>advice Talk to your neighbours family to excha...</td>\n",
       "      <td>[advice, Talk, to, your, neighbours, family, t...</td>\n",
       "    </tr>\n",
       "    <tr>\n",
       "      <th>2</th>\n",
       "      <td>3801</td>\n",
       "      <td>48753</td>\n",
       "      <td>Vagabonds</td>\n",
       "      <td>16-03-2020</td>\n",
       "      <td>Coronavirus Australia: Woolworths to give elde...</td>\n",
       "      <td>Positive</td>\n",
       "      <td>Coronavirus Australia Woolworths to give elder...</td>\n",
       "      <td>[Coronavirus, Australia, Woolworths, to, give,...</td>\n",
       "    </tr>\n",
       "    <tr>\n",
       "      <th>3</th>\n",
       "      <td>3802</td>\n",
       "      <td>48754</td>\n",
       "      <td>NaN</td>\n",
       "      <td>16-03-2020</td>\n",
       "      <td>My food stock is not the only one which is emp...</td>\n",
       "      <td>Positive</td>\n",
       "      <td>My food stock is not the only one which is emp...</td>\n",
       "      <td>[My, food, stock, is, not, the, only, one, whi...</td>\n",
       "    </tr>\n",
       "    <tr>\n",
       "      <th>4</th>\n",
       "      <td>3803</td>\n",
       "      <td>48755</td>\n",
       "      <td>NaN</td>\n",
       "      <td>16-03-2020</td>\n",
       "      <td>Me, ready to go at supermarket during the #COV...</td>\n",
       "      <td>Extremely Negative</td>\n",
       "      <td>Me ready to go at supermarket during the COVID...</td>\n",
       "      <td>[Me, ready, to, go, at, supermarket, during, t...</td>\n",
       "    </tr>\n",
       "  </tbody>\n",
       "</table>\n",
       "</div>"
      ],
      "text/plain": [
       "   UserName  ScreenName   Location     TweetAt  \\\n",
       "0      3799       48751     London  16-03-2020   \n",
       "1      3800       48752         UK  16-03-2020   \n",
       "2      3801       48753  Vagabonds  16-03-2020   \n",
       "3      3802       48754        NaN  16-03-2020   \n",
       "4      3803       48755        NaN  16-03-2020   \n",
       "\n",
       "                                       OriginalTweet           Sentiment  \\\n",
       "0  @MeNyrbie @Phil_Gahan @Chrisitv https://t.co/i...             Neutral   \n",
       "1  advice Talk to your neighbours family to excha...            Positive   \n",
       "2  Coronavirus Australia: Woolworths to give elde...            Positive   \n",
       "3  My food stock is not the only one which is emp...            Positive   \n",
       "4  Me, ready to go at supermarket during the #COV...  Extremely Negative   \n",
       "\n",
       "                             Sans_ponc_OriginalTweet  \\\n",
       "0  MeNyrbie PhilGahan Chrisitv httpstcoiFz9FAn2Pa...   \n",
       "1  advice Talk to your neighbours family to excha...   \n",
       "2  Coronavirus Australia Woolworths to give elder...   \n",
       "3  My food stock is not the only one which is emp...   \n",
       "4  Me ready to go at supermarket during the COVID...   \n",
       "\n",
       "                                            list_mot  \n",
       "0  [MeNyrbie, PhilGahan, Chrisitv, httpstcoiFz9FA...  \n",
       "1  [advice, Talk, to, your, neighbours, family, t...  \n",
       "2  [Coronavirus, Australia, Woolworths, to, give,...  \n",
       "3  [My, food, stock, is, not, the, only, one, whi...  \n",
       "4  [Me, ready, to, go, at, supermarket, during, t...  "
      ]
     },
     "execution_count": 18,
     "metadata": {},
     "output_type": "execute_result"
    }
   ],
   "source": [
    "df.head()"
   ]
  },
  {
   "cell_type": "markdown",
   "id": "1db2987b",
   "metadata": {},
   "source": [
    "##  StopWord"
   ]
  },
  {
   "cell_type": "markdown",
   "id": "5432115d",
   "metadata": {},
   "source": [
    "La suppression des stopwords dans un projet de NLP (Traitement Automatique du Langage Naturel) est essentielle pour plusieurs raisons :\n",
    "\n",
    "    Réduction du Bruit : Les stopwords, tels que \"le\", \"et\", \"de\", sont des mots couramment utilisés mais n'apportent pas beaucoup de sens au texte. En les supprimant, on élimine le bruit et se concentre sur les mots clés plus significatifs.\n",
    "\n",
    "    Économie d'Espace et de Temps : Les stopwords apparaissent fréquemment dans un texte, donc les stocker ou les traiter peut consommer beaucoup de mémoire et de puissance de calcul. Les supprimer permet d'économiser à la fois de l'espace de stockage et du temps de traitement.\n",
    "\n",
    "    Amélioration de la Précision : Lorsque l'on se concentre sur les mots significatifs plutôt que sur les stopwords, les modèles de NLP peuvent produire des résultats plus précis, car ils se basent sur des termes plus pertinents pour la signification du texte.\n",
    "\n",
    "    Conservation du Sens : Supprimer les stopwords n'affecte généralement pas le sens global du texte, car ces mots n'apportent pas de contribution sémantique importante. Ainsi, le sens du texte est préservé tout en réduisant le poids des données."
   ]
  },
  {
   "cell_type": "code",
   "execution_count": 19,
   "id": "5c786154",
   "metadata": {},
   "outputs": [],
   "source": [
    "import nltk"
   ]
  },
  {
   "cell_type": "code",
   "execution_count": 20,
   "id": "f1217fd4",
   "metadata": {},
   "outputs": [
    {
     "name": "stderr",
     "output_type": "stream",
     "text": [
      "[nltk_data] Downloading package stopwords to\n",
      "[nltk_data]     /home/mouhammed/nltk_data...\n",
      "[nltk_data]   Package stopwords is already up-to-date!\n"
     ]
    },
    {
     "data": {
      "text/plain": [
       "True"
      ]
     },
     "execution_count": 20,
     "metadata": {},
     "output_type": "execute_result"
    }
   ],
   "source": [
    "nltk.download('stopwords')"
   ]
  },
  {
   "cell_type": "code",
   "execution_count": 21,
   "id": "2f371ab7",
   "metadata": {},
   "outputs": [],
   "source": [
    "stopwork_en=nltk.corpus.stopwords.words('english')"
   ]
  },
  {
   "cell_type": "code",
   "execution_count": 22,
   "id": "28ae104d",
   "metadata": {},
   "outputs": [
    {
     "data": {
      "text/plain": [
       "['i',\n",
       " 'me',\n",
       " 'my',\n",
       " 'myself',\n",
       " 'we',\n",
       " 'our',\n",
       " 'ours',\n",
       " 'ourselves',\n",
       " 'you',\n",
       " \"you're\",\n",
       " \"you've\",\n",
       " \"you'll\",\n",
       " \"you'd\",\n",
       " 'your',\n",
       " 'yours',\n",
       " 'yourself',\n",
       " 'yourselves',\n",
       " 'he',\n",
       " 'him',\n",
       " 'his',\n",
       " 'himself',\n",
       " 'she',\n",
       " \"she's\",\n",
       " 'her',\n",
       " 'hers',\n",
       " 'herself',\n",
       " 'it',\n",
       " \"it's\",\n",
       " 'its',\n",
       " 'itself',\n",
       " 'they',\n",
       " 'them',\n",
       " 'their',\n",
       " 'theirs',\n",
       " 'themselves',\n",
       " 'what',\n",
       " 'which',\n",
       " 'who',\n",
       " 'whom',\n",
       " 'this',\n",
       " 'that',\n",
       " \"that'll\",\n",
       " 'these',\n",
       " 'those',\n",
       " 'am',\n",
       " 'is',\n",
       " 'are',\n",
       " 'was',\n",
       " 'were',\n",
       " 'be',\n",
       " 'been',\n",
       " 'being',\n",
       " 'have',\n",
       " 'has',\n",
       " 'had',\n",
       " 'having',\n",
       " 'do',\n",
       " 'does',\n",
       " 'did',\n",
       " 'doing',\n",
       " 'a',\n",
       " 'an',\n",
       " 'the',\n",
       " 'and',\n",
       " 'but',\n",
       " 'if',\n",
       " 'or',\n",
       " 'because',\n",
       " 'as',\n",
       " 'until',\n",
       " 'while',\n",
       " 'of',\n",
       " 'at',\n",
       " 'by',\n",
       " 'for',\n",
       " 'with',\n",
       " 'about',\n",
       " 'against',\n",
       " 'between',\n",
       " 'into',\n",
       " 'through',\n",
       " 'during',\n",
       " 'before',\n",
       " 'after',\n",
       " 'above',\n",
       " 'below',\n",
       " 'to',\n",
       " 'from',\n",
       " 'up',\n",
       " 'down',\n",
       " 'in',\n",
       " 'out',\n",
       " 'on',\n",
       " 'off',\n",
       " 'over',\n",
       " 'under',\n",
       " 'again',\n",
       " 'further',\n",
       " 'then',\n",
       " 'once',\n",
       " 'here',\n",
       " 'there',\n",
       " 'when',\n",
       " 'where',\n",
       " 'why',\n",
       " 'how',\n",
       " 'all',\n",
       " 'any',\n",
       " 'both',\n",
       " 'each',\n",
       " 'few',\n",
       " 'more',\n",
       " 'most',\n",
       " 'other',\n",
       " 'some',\n",
       " 'such',\n",
       " 'no',\n",
       " 'nor',\n",
       " 'not',\n",
       " 'only',\n",
       " 'own',\n",
       " 'same',\n",
       " 'so',\n",
       " 'than',\n",
       " 'too',\n",
       " 'very',\n",
       " 's',\n",
       " 't',\n",
       " 'can',\n",
       " 'will',\n",
       " 'just',\n",
       " 'don',\n",
       " \"don't\",\n",
       " 'should',\n",
       " \"should've\",\n",
       " 'now',\n",
       " 'd',\n",
       " 'll',\n",
       " 'm',\n",
       " 'o',\n",
       " 're',\n",
       " 've',\n",
       " 'y',\n",
       " 'ain',\n",
       " 'aren',\n",
       " \"aren't\",\n",
       " 'couldn',\n",
       " \"couldn't\",\n",
       " 'didn',\n",
       " \"didn't\",\n",
       " 'doesn',\n",
       " \"doesn't\",\n",
       " 'hadn',\n",
       " \"hadn't\",\n",
       " 'hasn',\n",
       " \"hasn't\",\n",
       " 'haven',\n",
       " \"haven't\",\n",
       " 'isn',\n",
       " \"isn't\",\n",
       " 'ma',\n",
       " 'mightn',\n",
       " \"mightn't\",\n",
       " 'mustn',\n",
       " \"mustn't\",\n",
       " 'needn',\n",
       " \"needn't\",\n",
       " 'shan',\n",
       " \"shan't\",\n",
       " 'shouldn',\n",
       " \"shouldn't\",\n",
       " 'wasn',\n",
       " \"wasn't\",\n",
       " 'weren',\n",
       " \"weren't\",\n",
       " 'won',\n",
       " \"won't\",\n",
       " 'wouldn',\n",
       " \"wouldn't\"]"
      ]
     },
     "execution_count": 22,
     "metadata": {},
     "output_type": "execute_result"
    }
   ],
   "source": [
    "stopwork_en"
   ]
  },
  {
   "cell_type": "code",
   "execution_count": 23,
   "id": "a0c32248",
   "metadata": {},
   "outputs": [],
   "source": [
    "def suprime_stopword(liste):\n",
    "    result=[word for word in liste if word not in stopwork_en]\n",
    "    return result"
   ]
  },
  {
   "cell_type": "code",
   "execution_count": 24,
   "id": "fa204742",
   "metadata": {},
   "outputs": [],
   "source": [
    "df['Sans_stopword']=df['list_mot'].apply(lambda x: suprime_stopword(x))"
   ]
  },
  {
   "cell_type": "code",
   "execution_count": 25,
   "id": "52366885",
   "metadata": {},
   "outputs": [
    {
     "data": {
      "text/html": [
       "<div>\n",
       "<style scoped>\n",
       "    .dataframe tbody tr th:only-of-type {\n",
       "        vertical-align: middle;\n",
       "    }\n",
       "\n",
       "    .dataframe tbody tr th {\n",
       "        vertical-align: top;\n",
       "    }\n",
       "\n",
       "    .dataframe thead th {\n",
       "        text-align: right;\n",
       "    }\n",
       "</style>\n",
       "<table border=\"1\" class=\"dataframe\">\n",
       "  <thead>\n",
       "    <tr style=\"text-align: right;\">\n",
       "      <th></th>\n",
       "      <th>UserName</th>\n",
       "      <th>ScreenName</th>\n",
       "      <th>Location</th>\n",
       "      <th>TweetAt</th>\n",
       "      <th>OriginalTweet</th>\n",
       "      <th>Sentiment</th>\n",
       "      <th>Sans_ponc_OriginalTweet</th>\n",
       "      <th>list_mot</th>\n",
       "      <th>Sans_stopword</th>\n",
       "    </tr>\n",
       "  </thead>\n",
       "  <tbody>\n",
       "    <tr>\n",
       "      <th>0</th>\n",
       "      <td>3799</td>\n",
       "      <td>48751</td>\n",
       "      <td>London</td>\n",
       "      <td>16-03-2020</td>\n",
       "      <td>@MeNyrbie @Phil_Gahan @Chrisitv https://t.co/i...</td>\n",
       "      <td>Neutral</td>\n",
       "      <td>MeNyrbie PhilGahan Chrisitv httpstcoiFz9FAn2Pa...</td>\n",
       "      <td>[MeNyrbie, PhilGahan, Chrisitv, httpstcoiFz9FA...</td>\n",
       "      <td>[MeNyrbie, PhilGahan, Chrisitv, httpstcoiFz9FA...</td>\n",
       "    </tr>\n",
       "    <tr>\n",
       "      <th>1</th>\n",
       "      <td>3800</td>\n",
       "      <td>48752</td>\n",
       "      <td>UK</td>\n",
       "      <td>16-03-2020</td>\n",
       "      <td>advice Talk to your neighbours family to excha...</td>\n",
       "      <td>Positive</td>\n",
       "      <td>advice Talk to your neighbours family to excha...</td>\n",
       "      <td>[advice, Talk, to, your, neighbours, family, t...</td>\n",
       "      <td>[advice, Talk, neighbours, family, exchange, p...</td>\n",
       "    </tr>\n",
       "    <tr>\n",
       "      <th>2</th>\n",
       "      <td>3801</td>\n",
       "      <td>48753</td>\n",
       "      <td>Vagabonds</td>\n",
       "      <td>16-03-2020</td>\n",
       "      <td>Coronavirus Australia: Woolworths to give elde...</td>\n",
       "      <td>Positive</td>\n",
       "      <td>Coronavirus Australia Woolworths to give elder...</td>\n",
       "      <td>[Coronavirus, Australia, Woolworths, to, give,...</td>\n",
       "      <td>[Coronavirus, Australia, Woolworths, give, eld...</td>\n",
       "    </tr>\n",
       "    <tr>\n",
       "      <th>3</th>\n",
       "      <td>3802</td>\n",
       "      <td>48754</td>\n",
       "      <td>NaN</td>\n",
       "      <td>16-03-2020</td>\n",
       "      <td>My food stock is not the only one which is emp...</td>\n",
       "      <td>Positive</td>\n",
       "      <td>My food stock is not the only one which is emp...</td>\n",
       "      <td>[My, food, stock, is, not, the, only, one, whi...</td>\n",
       "      <td>[My, food, stock, one, empty, PLEASE, dont, pa...</td>\n",
       "    </tr>\n",
       "    <tr>\n",
       "      <th>4</th>\n",
       "      <td>3803</td>\n",
       "      <td>48755</td>\n",
       "      <td>NaN</td>\n",
       "      <td>16-03-2020</td>\n",
       "      <td>Me, ready to go at supermarket during the #COV...</td>\n",
       "      <td>Extremely Negative</td>\n",
       "      <td>Me ready to go at supermarket during the COVID...</td>\n",
       "      <td>[Me, ready, to, go, at, supermarket, during, t...</td>\n",
       "      <td>[Me, ready, go, supermarket, COVID19, outbreak...</td>\n",
       "    </tr>\n",
       "  </tbody>\n",
       "</table>\n",
       "</div>"
      ],
      "text/plain": [
       "   UserName  ScreenName   Location     TweetAt  \\\n",
       "0      3799       48751     London  16-03-2020   \n",
       "1      3800       48752         UK  16-03-2020   \n",
       "2      3801       48753  Vagabonds  16-03-2020   \n",
       "3      3802       48754        NaN  16-03-2020   \n",
       "4      3803       48755        NaN  16-03-2020   \n",
       "\n",
       "                                       OriginalTweet           Sentiment  \\\n",
       "0  @MeNyrbie @Phil_Gahan @Chrisitv https://t.co/i...             Neutral   \n",
       "1  advice Talk to your neighbours family to excha...            Positive   \n",
       "2  Coronavirus Australia: Woolworths to give elde...            Positive   \n",
       "3  My food stock is not the only one which is emp...            Positive   \n",
       "4  Me, ready to go at supermarket during the #COV...  Extremely Negative   \n",
       "\n",
       "                             Sans_ponc_OriginalTweet  \\\n",
       "0  MeNyrbie PhilGahan Chrisitv httpstcoiFz9FAn2Pa...   \n",
       "1  advice Talk to your neighbours family to excha...   \n",
       "2  Coronavirus Australia Woolworths to give elder...   \n",
       "3  My food stock is not the only one which is emp...   \n",
       "4  Me ready to go at supermarket during the COVID...   \n",
       "\n",
       "                                            list_mot  \\\n",
       "0  [MeNyrbie, PhilGahan, Chrisitv, httpstcoiFz9FA...   \n",
       "1  [advice, Talk, to, your, neighbours, family, t...   \n",
       "2  [Coronavirus, Australia, Woolworths, to, give,...   \n",
       "3  [My, food, stock, is, not, the, only, one, whi...   \n",
       "4  [Me, ready, to, go, at, supermarket, during, t...   \n",
       "\n",
       "                                       Sans_stopword  \n",
       "0  [MeNyrbie, PhilGahan, Chrisitv, httpstcoiFz9FA...  \n",
       "1  [advice, Talk, neighbours, family, exchange, p...  \n",
       "2  [Coronavirus, Australia, Woolworths, give, eld...  \n",
       "3  [My, food, stock, one, empty, PLEASE, dont, pa...  \n",
       "4  [Me, ready, go, supermarket, COVID19, outbreak...  "
      ]
     },
     "execution_count": 25,
     "metadata": {},
     "output_type": "execute_result"
    }
   ],
   "source": [
    "df.head()"
   ]
  },
  {
   "cell_type": "markdown",
   "id": "97f40afe",
   "metadata": {},
   "source": [
    "===================================================================="
   ]
  },
  {
   "cell_type": "markdown",
   "id": "2957aa65",
   "metadata": {},
   "source": [
    "## Stemming"
   ]
  },
  {
   "cell_type": "markdown",
   "id": "e653fb5b",
   "metadata": {},
   "source": [
    "Le Stemming dans un projet de NLP (Traitement Automatique du Langage Naturel) :\n",
    "\n",
    "    Réduction des Mots à Leur Racine : Le stemming consiste à réduire les mots à leur racine ou à leur forme de base. Par exemple, les mots \"manger\", \"mangeait\", \"mangeant\" seraient tous réduits à \"mang\" grâce au stemming. Cela simplifie le texte en regroupant les variations morphologiques d'un mot sous une seule forme.\n",
    "\n",
    "    Amélioration de la Cohérence : En réduisant les mots à leur forme de base, le texte devient plus cohérent. Les mots apparentés sont ramenés à une forme commune, ce qui facilite la comparaison et l'analyse.\n",
    "\n",
    "    Réduction de la Dimensionnalité : En utilisant le stemming, on réduit le nombre de mots différents dans le texte. Cela peut être bénéfique pour les modèles de machine learning, car cela diminue la dimensionnalité de l'espace des caractéristiques, ce qui peut conduire à des modèles plus performants, surtout lorsque les données sont limitées.\n",
    "\n",
    "    Traitement des Variantes : Le stemming est particulièrement utile lorsque l'on traite des textes provenant de sources différentes où les mots peuvent être écrits de manière légèrement différente. En ramenant tous les mots à leur forme de base, on traite les variantes de manière uniforme.\n",
    "\n",
    "    Attention aux Erreurs : Cependant, il est important de noter que le stemming peut parfois produire des racines qui ne sont pas des mots réels ou peuvent même transformer un mot en un autre qui a une signification différente. Il faut donc faire preuve de prudence et comprendre le contexte du texte traité."
   ]
  },
  {
   "cell_type": "code",
   "execution_count": 26,
   "id": "665f817d",
   "metadata": {},
   "outputs": [],
   "source": [
    "ps=nltk.PorterStemmer()"
   ]
  },
  {
   "cell_type": "code",
   "execution_count": 27,
   "id": "eba1d6fc",
   "metadata": {},
   "outputs": [],
   "source": [
    "def stemming(liste):\n",
    "    result=[ps.stem(word) for word in liste]\n",
    "    return result"
   ]
  },
  {
   "cell_type": "code",
   "execution_count": 28,
   "id": "de477858",
   "metadata": {},
   "outputs": [],
   "source": [
    "df['liste_stemming']=df['Sans_stopword'].apply(lambda x:stemming(x))"
   ]
  },
  {
   "cell_type": "code",
   "execution_count": 29,
   "id": "2706782c",
   "metadata": {},
   "outputs": [
    {
     "data": {
      "text/html": [
       "<div>\n",
       "<style scoped>\n",
       "    .dataframe tbody tr th:only-of-type {\n",
       "        vertical-align: middle;\n",
       "    }\n",
       "\n",
       "    .dataframe tbody tr th {\n",
       "        vertical-align: top;\n",
       "    }\n",
       "\n",
       "    .dataframe thead th {\n",
       "        text-align: right;\n",
       "    }\n",
       "</style>\n",
       "<table border=\"1\" class=\"dataframe\">\n",
       "  <thead>\n",
       "    <tr style=\"text-align: right;\">\n",
       "      <th></th>\n",
       "      <th>UserName</th>\n",
       "      <th>ScreenName</th>\n",
       "      <th>Location</th>\n",
       "      <th>TweetAt</th>\n",
       "      <th>OriginalTweet</th>\n",
       "      <th>Sentiment</th>\n",
       "      <th>Sans_ponc_OriginalTweet</th>\n",
       "      <th>list_mot</th>\n",
       "      <th>Sans_stopword</th>\n",
       "      <th>liste_stemming</th>\n",
       "    </tr>\n",
       "  </thead>\n",
       "  <tbody>\n",
       "    <tr>\n",
       "      <th>0</th>\n",
       "      <td>3799</td>\n",
       "      <td>48751</td>\n",
       "      <td>London</td>\n",
       "      <td>16-03-2020</td>\n",
       "      <td>@MeNyrbie @Phil_Gahan @Chrisitv https://t.co/i...</td>\n",
       "      <td>Neutral</td>\n",
       "      <td>MeNyrbie PhilGahan Chrisitv httpstcoiFz9FAn2Pa...</td>\n",
       "      <td>[MeNyrbie, PhilGahan, Chrisitv, httpstcoiFz9FA...</td>\n",
       "      <td>[MeNyrbie, PhilGahan, Chrisitv, httpstcoiFz9FA...</td>\n",
       "      <td>[menyrbi, philgahan, chrisitv, httpstcoifz9fan...</td>\n",
       "    </tr>\n",
       "    <tr>\n",
       "      <th>1</th>\n",
       "      <td>3800</td>\n",
       "      <td>48752</td>\n",
       "      <td>UK</td>\n",
       "      <td>16-03-2020</td>\n",
       "      <td>advice Talk to your neighbours family to excha...</td>\n",
       "      <td>Positive</td>\n",
       "      <td>advice Talk to your neighbours family to excha...</td>\n",
       "      <td>[advice, Talk, to, your, neighbours, family, t...</td>\n",
       "      <td>[advice, Talk, neighbours, family, exchange, p...</td>\n",
       "      <td>[advic, talk, neighbour, famili, exchang, phon...</td>\n",
       "    </tr>\n",
       "    <tr>\n",
       "      <th>2</th>\n",
       "      <td>3801</td>\n",
       "      <td>48753</td>\n",
       "      <td>Vagabonds</td>\n",
       "      <td>16-03-2020</td>\n",
       "      <td>Coronavirus Australia: Woolworths to give elde...</td>\n",
       "      <td>Positive</td>\n",
       "      <td>Coronavirus Australia Woolworths to give elder...</td>\n",
       "      <td>[Coronavirus, Australia, Woolworths, to, give,...</td>\n",
       "      <td>[Coronavirus, Australia, Woolworths, give, eld...</td>\n",
       "      <td>[coronaviru, australia, woolworth, give, elder...</td>\n",
       "    </tr>\n",
       "    <tr>\n",
       "      <th>3</th>\n",
       "      <td>3802</td>\n",
       "      <td>48754</td>\n",
       "      <td>NaN</td>\n",
       "      <td>16-03-2020</td>\n",
       "      <td>My food stock is not the only one which is emp...</td>\n",
       "      <td>Positive</td>\n",
       "      <td>My food stock is not the only one which is emp...</td>\n",
       "      <td>[My, food, stock, is, not, the, only, one, whi...</td>\n",
       "      <td>[My, food, stock, one, empty, PLEASE, dont, pa...</td>\n",
       "      <td>[my, food, stock, one, empti, pleas, dont, pan...</td>\n",
       "    </tr>\n",
       "    <tr>\n",
       "      <th>4</th>\n",
       "      <td>3803</td>\n",
       "      <td>48755</td>\n",
       "      <td>NaN</td>\n",
       "      <td>16-03-2020</td>\n",
       "      <td>Me, ready to go at supermarket during the #COV...</td>\n",
       "      <td>Extremely Negative</td>\n",
       "      <td>Me ready to go at supermarket during the COVID...</td>\n",
       "      <td>[Me, ready, to, go, at, supermarket, during, t...</td>\n",
       "      <td>[Me, ready, go, supermarket, COVID19, outbreak...</td>\n",
       "      <td>[me, readi, go, supermarket, covid19, outbreak...</td>\n",
       "    </tr>\n",
       "  </tbody>\n",
       "</table>\n",
       "</div>"
      ],
      "text/plain": [
       "   UserName  ScreenName   Location     TweetAt  \\\n",
       "0      3799       48751     London  16-03-2020   \n",
       "1      3800       48752         UK  16-03-2020   \n",
       "2      3801       48753  Vagabonds  16-03-2020   \n",
       "3      3802       48754        NaN  16-03-2020   \n",
       "4      3803       48755        NaN  16-03-2020   \n",
       "\n",
       "                                       OriginalTweet           Sentiment  \\\n",
       "0  @MeNyrbie @Phil_Gahan @Chrisitv https://t.co/i...             Neutral   \n",
       "1  advice Talk to your neighbours family to excha...            Positive   \n",
       "2  Coronavirus Australia: Woolworths to give elde...            Positive   \n",
       "3  My food stock is not the only one which is emp...            Positive   \n",
       "4  Me, ready to go at supermarket during the #COV...  Extremely Negative   \n",
       "\n",
       "                             Sans_ponc_OriginalTweet  \\\n",
       "0  MeNyrbie PhilGahan Chrisitv httpstcoiFz9FAn2Pa...   \n",
       "1  advice Talk to your neighbours family to excha...   \n",
       "2  Coronavirus Australia Woolworths to give elder...   \n",
       "3  My food stock is not the only one which is emp...   \n",
       "4  Me ready to go at supermarket during the COVID...   \n",
       "\n",
       "                                            list_mot  \\\n",
       "0  [MeNyrbie, PhilGahan, Chrisitv, httpstcoiFz9FA...   \n",
       "1  [advice, Talk, to, your, neighbours, family, t...   \n",
       "2  [Coronavirus, Australia, Woolworths, to, give,...   \n",
       "3  [My, food, stock, is, not, the, only, one, whi...   \n",
       "4  [Me, ready, to, go, at, supermarket, during, t...   \n",
       "\n",
       "                                       Sans_stopword  \\\n",
       "0  [MeNyrbie, PhilGahan, Chrisitv, httpstcoiFz9FA...   \n",
       "1  [advice, Talk, neighbours, family, exchange, p...   \n",
       "2  [Coronavirus, Australia, Woolworths, give, eld...   \n",
       "3  [My, food, stock, one, empty, PLEASE, dont, pa...   \n",
       "4  [Me, ready, go, supermarket, COVID19, outbreak...   \n",
       "\n",
       "                                      liste_stemming  \n",
       "0  [menyrbi, philgahan, chrisitv, httpstcoifz9fan...  \n",
       "1  [advic, talk, neighbour, famili, exchang, phon...  \n",
       "2  [coronaviru, australia, woolworth, give, elder...  \n",
       "3  [my, food, stock, one, empti, pleas, dont, pan...  \n",
       "4  [me, readi, go, supermarket, covid19, outbreak...  "
      ]
     },
     "execution_count": 29,
     "metadata": {},
     "output_type": "execute_result"
    }
   ],
   "source": [
    "df.head()"
   ]
  },
  {
   "cell_type": "markdown",
   "id": "1a6c5ffe",
   "metadata": {},
   "source": [
    "============================================================================="
   ]
  },
  {
   "cell_type": "markdown",
   "id": "85287c2a",
   "metadata": {},
   "source": [
    "## Lemmatization"
   ]
  },
  {
   "cell_type": "markdown",
   "id": "2ac85ada",
   "metadata": {},
   "source": [
    "La Lemmatisation dans un Projet de NLP (Traitement Automatique du Langage Naturel) :\n",
    "\n",
    "    Recherche de la Forme Canonique : Contrairement au stemming, qui se contente de réduire les mots à leur racine, la lemmatisation vise à trouver la forme canonique ou le lemme d'un mot. Par exemple, les mots \"manger\", \"mangeait\", \"mangeant\" seraient tous ramenés à \"manger\" grâce à la lemmatisation. Cela garantit que le mot résultant est un mot réel et compréhensible.\n",
    "\n",
    "    Préservation de la Sémantique : La lemmatisation préserve la sémantique des mots. En utilisant la lemmatisation, on obtient des mots qui ont un sens précis dans le dictionnaire, ce qui est essentiel pour des tâches NLP telles que la recherche d'entités nommées ou l'analyse de sentiments.\n",
    "\n",
    "    Contexte Grammatical : La lemmatisation prend en compte le contexte grammatical d'un mot dans une phrase. Elle tient compte de la catégorie grammaticale du mot (nom, verbe, adjectif, etc.) et le ramène à sa forme de base en fonction de son rôle dans la phrase.\n",
    "\n",
    "    Qualité des Résultats : En raison de sa compréhension approfondie des mots et de leur contexte, la lemmatisation produit généralement des résultats de meilleure qualité par rapport au stemming. Cependant, elle peut être plus lente que le stemming en raison de sa complexité.\n",
    "\n",
    "    Utilisation dans les Applications Complexes : La lemmatisation est particulièrement utile dans les applications NLP complexes où la précision et la cohérence du texte transformé sont cruciales, comme la traduction automatique, la résumé automatique, et l'analyse de texte pour la recherche scientifique."
   ]
  },
  {
   "cell_type": "code",
   "execution_count": 30,
   "id": "1908070b",
   "metadata": {},
   "outputs": [],
   "source": [
    "wn = nltk.WordNetLemmatizer()"
   ]
  },
  {
   "cell_type": "code",
   "execution_count": 31,
   "id": "9ab184fc",
   "metadata": {},
   "outputs": [],
   "source": [
    "def lemmatiz(liste):\n",
    "    result=[wn.lemmatize(word) for word in liste]\n",
    "    return result"
   ]
  },
  {
   "cell_type": "code",
   "execution_count": 32,
   "id": "3c90ef45",
   "metadata": {},
   "outputs": [],
   "source": [
    "df['liste_lemmatization']=df['liste_stemming'].apply(lambda x:stemming(x))"
   ]
  },
  {
   "cell_type": "code",
   "execution_count": 33,
   "id": "fc8f603e",
   "metadata": {},
   "outputs": [
    {
     "data": {
      "text/html": [
       "<div>\n",
       "<style scoped>\n",
       "    .dataframe tbody tr th:only-of-type {\n",
       "        vertical-align: middle;\n",
       "    }\n",
       "\n",
       "    .dataframe tbody tr th {\n",
       "        vertical-align: top;\n",
       "    }\n",
       "\n",
       "    .dataframe thead th {\n",
       "        text-align: right;\n",
       "    }\n",
       "</style>\n",
       "<table border=\"1\" class=\"dataframe\">\n",
       "  <thead>\n",
       "    <tr style=\"text-align: right;\">\n",
       "      <th></th>\n",
       "      <th>UserName</th>\n",
       "      <th>ScreenName</th>\n",
       "      <th>Location</th>\n",
       "      <th>TweetAt</th>\n",
       "      <th>OriginalTweet</th>\n",
       "      <th>Sentiment</th>\n",
       "      <th>Sans_ponc_OriginalTweet</th>\n",
       "      <th>list_mot</th>\n",
       "      <th>Sans_stopword</th>\n",
       "      <th>liste_stemming</th>\n",
       "      <th>liste_lemmatization</th>\n",
       "    </tr>\n",
       "  </thead>\n",
       "  <tbody>\n",
       "    <tr>\n",
       "      <th>0</th>\n",
       "      <td>3799</td>\n",
       "      <td>48751</td>\n",
       "      <td>London</td>\n",
       "      <td>16-03-2020</td>\n",
       "      <td>@MeNyrbie @Phil_Gahan @Chrisitv https://t.co/i...</td>\n",
       "      <td>Neutral</td>\n",
       "      <td>MeNyrbie PhilGahan Chrisitv httpstcoiFz9FAn2Pa...</td>\n",
       "      <td>[MeNyrbie, PhilGahan, Chrisitv, httpstcoiFz9FA...</td>\n",
       "      <td>[MeNyrbie, PhilGahan, Chrisitv, httpstcoiFz9FA...</td>\n",
       "      <td>[menyrbi, philgahan, chrisitv, httpstcoifz9fan...</td>\n",
       "      <td>[menyrbi, philgahan, chrisitv, httpstcoifz9fan...</td>\n",
       "    </tr>\n",
       "    <tr>\n",
       "      <th>1</th>\n",
       "      <td>3800</td>\n",
       "      <td>48752</td>\n",
       "      <td>UK</td>\n",
       "      <td>16-03-2020</td>\n",
       "      <td>advice Talk to your neighbours family to excha...</td>\n",
       "      <td>Positive</td>\n",
       "      <td>advice Talk to your neighbours family to excha...</td>\n",
       "      <td>[advice, Talk, to, your, neighbours, family, t...</td>\n",
       "      <td>[advice, Talk, neighbours, family, exchange, p...</td>\n",
       "      <td>[advic, talk, neighbour, famili, exchang, phon...</td>\n",
       "      <td>[advic, talk, neighbour, famili, exchang, phon...</td>\n",
       "    </tr>\n",
       "    <tr>\n",
       "      <th>2</th>\n",
       "      <td>3801</td>\n",
       "      <td>48753</td>\n",
       "      <td>Vagabonds</td>\n",
       "      <td>16-03-2020</td>\n",
       "      <td>Coronavirus Australia: Woolworths to give elde...</td>\n",
       "      <td>Positive</td>\n",
       "      <td>Coronavirus Australia Woolworths to give elder...</td>\n",
       "      <td>[Coronavirus, Australia, Woolworths, to, give,...</td>\n",
       "      <td>[Coronavirus, Australia, Woolworths, give, eld...</td>\n",
       "      <td>[coronaviru, australia, woolworth, give, elder...</td>\n",
       "      <td>[coronaviru, australia, woolworth, give, elder...</td>\n",
       "    </tr>\n",
       "    <tr>\n",
       "      <th>3</th>\n",
       "      <td>3802</td>\n",
       "      <td>48754</td>\n",
       "      <td>NaN</td>\n",
       "      <td>16-03-2020</td>\n",
       "      <td>My food stock is not the only one which is emp...</td>\n",
       "      <td>Positive</td>\n",
       "      <td>My food stock is not the only one which is emp...</td>\n",
       "      <td>[My, food, stock, is, not, the, only, one, whi...</td>\n",
       "      <td>[My, food, stock, one, empty, PLEASE, dont, pa...</td>\n",
       "      <td>[my, food, stock, one, empti, pleas, dont, pan...</td>\n",
       "      <td>[my, food, stock, one, empti, plea, dont, pani...</td>\n",
       "    </tr>\n",
       "    <tr>\n",
       "      <th>4</th>\n",
       "      <td>3803</td>\n",
       "      <td>48755</td>\n",
       "      <td>NaN</td>\n",
       "      <td>16-03-2020</td>\n",
       "      <td>Me, ready to go at supermarket during the #COV...</td>\n",
       "      <td>Extremely Negative</td>\n",
       "      <td>Me ready to go at supermarket during the COVID...</td>\n",
       "      <td>[Me, ready, to, go, at, supermarket, during, t...</td>\n",
       "      <td>[Me, ready, go, supermarket, COVID19, outbreak...</td>\n",
       "      <td>[me, readi, go, supermarket, covid19, outbreak...</td>\n",
       "      <td>[me, readi, go, supermarket, covid19, outbreak...</td>\n",
       "    </tr>\n",
       "  </tbody>\n",
       "</table>\n",
       "</div>"
      ],
      "text/plain": [
       "   UserName  ScreenName   Location     TweetAt  \\\n",
       "0      3799       48751     London  16-03-2020   \n",
       "1      3800       48752         UK  16-03-2020   \n",
       "2      3801       48753  Vagabonds  16-03-2020   \n",
       "3      3802       48754        NaN  16-03-2020   \n",
       "4      3803       48755        NaN  16-03-2020   \n",
       "\n",
       "                                       OriginalTweet           Sentiment  \\\n",
       "0  @MeNyrbie @Phil_Gahan @Chrisitv https://t.co/i...             Neutral   \n",
       "1  advice Talk to your neighbours family to excha...            Positive   \n",
       "2  Coronavirus Australia: Woolworths to give elde...            Positive   \n",
       "3  My food stock is not the only one which is emp...            Positive   \n",
       "4  Me, ready to go at supermarket during the #COV...  Extremely Negative   \n",
       "\n",
       "                             Sans_ponc_OriginalTweet  \\\n",
       "0  MeNyrbie PhilGahan Chrisitv httpstcoiFz9FAn2Pa...   \n",
       "1  advice Talk to your neighbours family to excha...   \n",
       "2  Coronavirus Australia Woolworths to give elder...   \n",
       "3  My food stock is not the only one which is emp...   \n",
       "4  Me ready to go at supermarket during the COVID...   \n",
       "\n",
       "                                            list_mot  \\\n",
       "0  [MeNyrbie, PhilGahan, Chrisitv, httpstcoiFz9FA...   \n",
       "1  [advice, Talk, to, your, neighbours, family, t...   \n",
       "2  [Coronavirus, Australia, Woolworths, to, give,...   \n",
       "3  [My, food, stock, is, not, the, only, one, whi...   \n",
       "4  [Me, ready, to, go, at, supermarket, during, t...   \n",
       "\n",
       "                                       Sans_stopword  \\\n",
       "0  [MeNyrbie, PhilGahan, Chrisitv, httpstcoiFz9FA...   \n",
       "1  [advice, Talk, neighbours, family, exchange, p...   \n",
       "2  [Coronavirus, Australia, Woolworths, give, eld...   \n",
       "3  [My, food, stock, one, empty, PLEASE, dont, pa...   \n",
       "4  [Me, ready, go, supermarket, COVID19, outbreak...   \n",
       "\n",
       "                                      liste_stemming  \\\n",
       "0  [menyrbi, philgahan, chrisitv, httpstcoifz9fan...   \n",
       "1  [advic, talk, neighbour, famili, exchang, phon...   \n",
       "2  [coronaviru, australia, woolworth, give, elder...   \n",
       "3  [my, food, stock, one, empti, pleas, dont, pan...   \n",
       "4  [me, readi, go, supermarket, covid19, outbreak...   \n",
       "\n",
       "                                 liste_lemmatization  \n",
       "0  [menyrbi, philgahan, chrisitv, httpstcoifz9fan...  \n",
       "1  [advic, talk, neighbour, famili, exchang, phon...  \n",
       "2  [coronaviru, australia, woolworth, give, elder...  \n",
       "3  [my, food, stock, one, empti, plea, dont, pani...  \n",
       "4  [me, readi, go, supermarket, covid19, outbreak...  "
      ]
     },
     "execution_count": 33,
     "metadata": {},
     "output_type": "execute_result"
    }
   ],
   "source": [
    "df.head()"
   ]
  },
  {
   "cell_type": "code",
   "execution_count": 34,
   "id": "81ddfe48",
   "metadata": {},
   "outputs": [],
   "source": [
    "def grouper(liste):\n",
    "    return \" \".join(liste)\n",
    "    "
   ]
  },
  {
   "cell_type": "code",
   "execution_count": 35,
   "id": "732d08f4",
   "metadata": {},
   "outputs": [],
   "source": [
    "df['clean_tweet']=df['liste_lemmatization'].apply(lambda x:grouper(x))"
   ]
  },
  {
   "cell_type": "code",
   "execution_count": 36,
   "id": "5712f89b",
   "metadata": {},
   "outputs": [
    {
     "data": {
      "text/html": [
       "<div>\n",
       "<style scoped>\n",
       "    .dataframe tbody tr th:only-of-type {\n",
       "        vertical-align: middle;\n",
       "    }\n",
       "\n",
       "    .dataframe tbody tr th {\n",
       "        vertical-align: top;\n",
       "    }\n",
       "\n",
       "    .dataframe thead th {\n",
       "        text-align: right;\n",
       "    }\n",
       "</style>\n",
       "<table border=\"1\" class=\"dataframe\">\n",
       "  <thead>\n",
       "    <tr style=\"text-align: right;\">\n",
       "      <th></th>\n",
       "      <th>UserName</th>\n",
       "      <th>ScreenName</th>\n",
       "      <th>Location</th>\n",
       "      <th>TweetAt</th>\n",
       "      <th>OriginalTweet</th>\n",
       "      <th>Sentiment</th>\n",
       "      <th>Sans_ponc_OriginalTweet</th>\n",
       "      <th>list_mot</th>\n",
       "      <th>Sans_stopword</th>\n",
       "      <th>liste_stemming</th>\n",
       "      <th>liste_lemmatization</th>\n",
       "      <th>clean_tweet</th>\n",
       "    </tr>\n",
       "  </thead>\n",
       "  <tbody>\n",
       "    <tr>\n",
       "      <th>0</th>\n",
       "      <td>3799</td>\n",
       "      <td>48751</td>\n",
       "      <td>London</td>\n",
       "      <td>16-03-2020</td>\n",
       "      <td>@MeNyrbie @Phil_Gahan @Chrisitv https://t.co/i...</td>\n",
       "      <td>Neutral</td>\n",
       "      <td>MeNyrbie PhilGahan Chrisitv httpstcoiFz9FAn2Pa...</td>\n",
       "      <td>[MeNyrbie, PhilGahan, Chrisitv, httpstcoiFz9FA...</td>\n",
       "      <td>[MeNyrbie, PhilGahan, Chrisitv, httpstcoiFz9FA...</td>\n",
       "      <td>[menyrbi, philgahan, chrisitv, httpstcoifz9fan...</td>\n",
       "      <td>[menyrbi, philgahan, chrisitv, httpstcoifz9fan...</td>\n",
       "      <td>menyrbi philgahan chrisitv httpstcoifz9fan2pa ...</td>\n",
       "    </tr>\n",
       "    <tr>\n",
       "      <th>1</th>\n",
       "      <td>3800</td>\n",
       "      <td>48752</td>\n",
       "      <td>UK</td>\n",
       "      <td>16-03-2020</td>\n",
       "      <td>advice Talk to your neighbours family to excha...</td>\n",
       "      <td>Positive</td>\n",
       "      <td>advice Talk to your neighbours family to excha...</td>\n",
       "      <td>[advice, Talk, to, your, neighbours, family, t...</td>\n",
       "      <td>[advice, Talk, neighbours, family, exchange, p...</td>\n",
       "      <td>[advic, talk, neighbour, famili, exchang, phon...</td>\n",
       "      <td>[advic, talk, neighbour, famili, exchang, phon...</td>\n",
       "      <td>advic talk neighbour famili exchang phone numb...</td>\n",
       "    </tr>\n",
       "    <tr>\n",
       "      <th>2</th>\n",
       "      <td>3801</td>\n",
       "      <td>48753</td>\n",
       "      <td>Vagabonds</td>\n",
       "      <td>16-03-2020</td>\n",
       "      <td>Coronavirus Australia: Woolworths to give elde...</td>\n",
       "      <td>Positive</td>\n",
       "      <td>Coronavirus Australia Woolworths to give elder...</td>\n",
       "      <td>[Coronavirus, Australia, Woolworths, to, give,...</td>\n",
       "      <td>[Coronavirus, Australia, Woolworths, give, eld...</td>\n",
       "      <td>[coronaviru, australia, woolworth, give, elder...</td>\n",
       "      <td>[coronaviru, australia, woolworth, give, elder...</td>\n",
       "      <td>coronaviru australia woolworth give elderli di...</td>\n",
       "    </tr>\n",
       "    <tr>\n",
       "      <th>3</th>\n",
       "      <td>3802</td>\n",
       "      <td>48754</td>\n",
       "      <td>NaN</td>\n",
       "      <td>16-03-2020</td>\n",
       "      <td>My food stock is not the only one which is emp...</td>\n",
       "      <td>Positive</td>\n",
       "      <td>My food stock is not the only one which is emp...</td>\n",
       "      <td>[My, food, stock, is, not, the, only, one, whi...</td>\n",
       "      <td>[My, food, stock, one, empty, PLEASE, dont, pa...</td>\n",
       "      <td>[my, food, stock, one, empti, pleas, dont, pan...</td>\n",
       "      <td>[my, food, stock, one, empti, plea, dont, pani...</td>\n",
       "      <td>my food stock one empti plea dont panic there ...</td>\n",
       "    </tr>\n",
       "    <tr>\n",
       "      <th>4</th>\n",
       "      <td>3803</td>\n",
       "      <td>48755</td>\n",
       "      <td>NaN</td>\n",
       "      <td>16-03-2020</td>\n",
       "      <td>Me, ready to go at supermarket during the #COV...</td>\n",
       "      <td>Extremely Negative</td>\n",
       "      <td>Me ready to go at supermarket during the COVID...</td>\n",
       "      <td>[Me, ready, to, go, at, supermarket, during, t...</td>\n",
       "      <td>[Me, ready, go, supermarket, COVID19, outbreak...</td>\n",
       "      <td>[me, readi, go, supermarket, covid19, outbreak...</td>\n",
       "      <td>[me, readi, go, supermarket, covid19, outbreak...</td>\n",
       "      <td>me readi go supermarket covid19 outbreak not i...</td>\n",
       "    </tr>\n",
       "  </tbody>\n",
       "</table>\n",
       "</div>"
      ],
      "text/plain": [
       "   UserName  ScreenName   Location     TweetAt  \\\n",
       "0      3799       48751     London  16-03-2020   \n",
       "1      3800       48752         UK  16-03-2020   \n",
       "2      3801       48753  Vagabonds  16-03-2020   \n",
       "3      3802       48754        NaN  16-03-2020   \n",
       "4      3803       48755        NaN  16-03-2020   \n",
       "\n",
       "                                       OriginalTweet           Sentiment  \\\n",
       "0  @MeNyrbie @Phil_Gahan @Chrisitv https://t.co/i...             Neutral   \n",
       "1  advice Talk to your neighbours family to excha...            Positive   \n",
       "2  Coronavirus Australia: Woolworths to give elde...            Positive   \n",
       "3  My food stock is not the only one which is emp...            Positive   \n",
       "4  Me, ready to go at supermarket during the #COV...  Extremely Negative   \n",
       "\n",
       "                             Sans_ponc_OriginalTweet  \\\n",
       "0  MeNyrbie PhilGahan Chrisitv httpstcoiFz9FAn2Pa...   \n",
       "1  advice Talk to your neighbours family to excha...   \n",
       "2  Coronavirus Australia Woolworths to give elder...   \n",
       "3  My food stock is not the only one which is emp...   \n",
       "4  Me ready to go at supermarket during the COVID...   \n",
       "\n",
       "                                            list_mot  \\\n",
       "0  [MeNyrbie, PhilGahan, Chrisitv, httpstcoiFz9FA...   \n",
       "1  [advice, Talk, to, your, neighbours, family, t...   \n",
       "2  [Coronavirus, Australia, Woolworths, to, give,...   \n",
       "3  [My, food, stock, is, not, the, only, one, whi...   \n",
       "4  [Me, ready, to, go, at, supermarket, during, t...   \n",
       "\n",
       "                                       Sans_stopword  \\\n",
       "0  [MeNyrbie, PhilGahan, Chrisitv, httpstcoiFz9FA...   \n",
       "1  [advice, Talk, neighbours, family, exchange, p...   \n",
       "2  [Coronavirus, Australia, Woolworths, give, eld...   \n",
       "3  [My, food, stock, one, empty, PLEASE, dont, pa...   \n",
       "4  [Me, ready, go, supermarket, COVID19, outbreak...   \n",
       "\n",
       "                                      liste_stemming  \\\n",
       "0  [menyrbi, philgahan, chrisitv, httpstcoifz9fan...   \n",
       "1  [advic, talk, neighbour, famili, exchang, phon...   \n",
       "2  [coronaviru, australia, woolworth, give, elder...   \n",
       "3  [my, food, stock, one, empti, pleas, dont, pan...   \n",
       "4  [me, readi, go, supermarket, covid19, outbreak...   \n",
       "\n",
       "                                 liste_lemmatization  \\\n",
       "0  [menyrbi, philgahan, chrisitv, httpstcoifz9fan...   \n",
       "1  [advic, talk, neighbour, famili, exchang, phon...   \n",
       "2  [coronaviru, australia, woolworth, give, elder...   \n",
       "3  [my, food, stock, one, empti, plea, dont, pani...   \n",
       "4  [me, readi, go, supermarket, covid19, outbreak...   \n",
       "\n",
       "                                         clean_tweet  \n",
       "0  menyrbi philgahan chrisitv httpstcoifz9fan2pa ...  \n",
       "1  advic talk neighbour famili exchang phone numb...  \n",
       "2  coronaviru australia woolworth give elderli di...  \n",
       "3  my food stock one empti plea dont panic there ...  \n",
       "4  me readi go supermarket covid19 outbreak not i...  "
      ]
     },
     "execution_count": 36,
     "metadata": {},
     "output_type": "execute_result"
    }
   ],
   "source": [
    "df.head()"
   ]
  },
  {
   "cell_type": "code",
   "execution_count": 37,
   "id": "4d641986",
   "metadata": {},
   "outputs": [],
   "source": [
    "data=df[['UserName','ScreenName','Location','clean_tweet','Sentiment']]"
   ]
  },
  {
   "cell_type": "code",
   "execution_count": 38,
   "id": "34e2800e",
   "metadata": {},
   "outputs": [
    {
     "data": {
      "text/html": [
       "<div>\n",
       "<style scoped>\n",
       "    .dataframe tbody tr th:only-of-type {\n",
       "        vertical-align: middle;\n",
       "    }\n",
       "\n",
       "    .dataframe tbody tr th {\n",
       "        vertical-align: top;\n",
       "    }\n",
       "\n",
       "    .dataframe thead th {\n",
       "        text-align: right;\n",
       "    }\n",
       "</style>\n",
       "<table border=\"1\" class=\"dataframe\">\n",
       "  <thead>\n",
       "    <tr style=\"text-align: right;\">\n",
       "      <th></th>\n",
       "      <th>UserName</th>\n",
       "      <th>ScreenName</th>\n",
       "      <th>Location</th>\n",
       "      <th>clean_tweet</th>\n",
       "      <th>Sentiment</th>\n",
       "    </tr>\n",
       "  </thead>\n",
       "  <tbody>\n",
       "    <tr>\n",
       "      <th>0</th>\n",
       "      <td>3799</td>\n",
       "      <td>48751</td>\n",
       "      <td>London</td>\n",
       "      <td>menyrbi philgahan chrisitv httpstcoifz9fan2pa ...</td>\n",
       "      <td>Neutral</td>\n",
       "    </tr>\n",
       "    <tr>\n",
       "      <th>1</th>\n",
       "      <td>3800</td>\n",
       "      <td>48752</td>\n",
       "      <td>UK</td>\n",
       "      <td>advic talk neighbour famili exchang phone numb...</td>\n",
       "      <td>Positive</td>\n",
       "    </tr>\n",
       "    <tr>\n",
       "      <th>2</th>\n",
       "      <td>3801</td>\n",
       "      <td>48753</td>\n",
       "      <td>Vagabonds</td>\n",
       "      <td>coronaviru australia woolworth give elderli di...</td>\n",
       "      <td>Positive</td>\n",
       "    </tr>\n",
       "    <tr>\n",
       "      <th>3</th>\n",
       "      <td>3802</td>\n",
       "      <td>48754</td>\n",
       "      <td>NaN</td>\n",
       "      <td>my food stock one empti plea dont panic there ...</td>\n",
       "      <td>Positive</td>\n",
       "    </tr>\n",
       "    <tr>\n",
       "      <th>4</th>\n",
       "      <td>3803</td>\n",
       "      <td>48755</td>\n",
       "      <td>NaN</td>\n",
       "      <td>me readi go supermarket covid19 outbreak not i...</td>\n",
       "      <td>Extremely Negative</td>\n",
       "    </tr>\n",
       "  </tbody>\n",
       "</table>\n",
       "</div>"
      ],
      "text/plain": [
       "   UserName  ScreenName   Location  \\\n",
       "0      3799       48751     London   \n",
       "1      3800       48752         UK   \n",
       "2      3801       48753  Vagabonds   \n",
       "3      3802       48754        NaN   \n",
       "4      3803       48755        NaN   \n",
       "\n",
       "                                         clean_tweet           Sentiment  \n",
       "0  menyrbi philgahan chrisitv httpstcoifz9fan2pa ...             Neutral  \n",
       "1  advic talk neighbour famili exchang phone numb...            Positive  \n",
       "2  coronaviru australia woolworth give elderli di...            Positive  \n",
       "3  my food stock one empti plea dont panic there ...            Positive  \n",
       "4  me readi go supermarket covid19 outbreak not i...  Extremely Negative  "
      ]
     },
     "execution_count": 38,
     "metadata": {},
     "output_type": "execute_result"
    }
   ],
   "source": [
    "data.head()"
   ]
  },
  {
   "cell_type": "code",
   "execution_count": null,
   "id": "03a052a2",
   "metadata": {},
   "outputs": [],
   "source": []
  },
  {
   "cell_type": "markdown",
   "id": "78c42a17",
   "metadata": {},
   "source": [
    "==============================================================================="
   ]
  },
  {
   "cell_type": "markdown",
   "id": "aaa9faf7",
   "metadata": {},
   "source": [
    "# Modelisation"
   ]
  },
  {
   "cell_type": "markdown",
   "id": "578a072b",
   "metadata": {},
   "source": [
    "## Vectorization"
   ]
  },
  {
   "cell_type": "markdown",
   "id": "c7c3ef99",
   "metadata": {},
   "source": [
    "La Vectorisation dans un Projet de NLP (Traitement Automatique du Langage Naturel) :\n",
    "\n",
    "    Transformation des Mots en Vecteurs : La vectorisation dans le contexte du NLP consiste à convertir des mots ou des phrases en vecteurs numériques compréhensibles par les algorithmes d'apprentissage automatique. Chaque mot est associé à un vecteur numérique dans un espace vectoriel. Cette représentation vectorielle permet aux algorithmes de machine learning de manipuler et d'analyser le texte.\n",
    "\n",
    "    Utilisation d'Algorithmes d'Apprentissage : La vectorisation est essentielle car de nombreux algorithmes d'apprentissage automatique, tels que les réseaux de neurones, les machines à vecteurs de support (SVM), et les méthodes d'ensemble comme les forêts aléatoires, ne peuvent pas travailler directement avec du texte brut. Ils nécessitent des données numériques en entrée.\n",
    "\n",
    "    Différentes Méthodes de Vectorisation : Il existe différentes techniques de vectorisation, notamment la TF-IDF (Term Frequency-Inverse Document Frequency) et les méthodes de word embedding telles que Word2Vec et GloVe. Ces méthodes attribuent des valeurs numériques aux mots en fonction de leur fréquence, de leur importance dans le contexte du document ou de leur signification sémantique.\n",
    "\n",
    "    Capture de la Sémantique : Les méthodes de vectorisation basées sur le contexte, comme Word2Vec, capturent également la sémantique des mots en examinant les mots voisins dans le texte. Cela signifie que des mots similaires ou liés dans le sens seront représentés par des vecteurs similaires ou proches dans l'espace vectoriel.\n",
    "\n",
    "    Réduction de la Dimensionalité : La vectorisation peut également impliquer des techniques de réduction de la dimensionalité, telles que l'analyse en composantes principales (PCA) ou le t-SNE, qui permettent de représenter des données complexes dans un espace de dimensions réduites tout en préservant les relations importantes entre les mots.\n",
    "\n",
    "    Amélioration de la Précision : La vectorisation permet d'améliorer la précision des modèles NLP en fournissant une représentation numérique plus riche et significative du texte. Elle permet aux modèles de comprendre les relations entre les mots et d'effectuer des tâches telles que la classification de texte, la traduction automatique, et l'analyse de sentiments avec une meilleure précision."
   ]
  },
  {
   "cell_type": "code",
   "execution_count": 39,
   "id": "c4d002a7",
   "metadata": {},
   "outputs": [],
   "source": [
    "from sklearn.feature_extraction.text import CountVectorizer,TfidfVectorizer"
   ]
  },
  {
   "cell_type": "code",
   "execution_count": 40,
   "id": "99b5a071",
   "metadata": {},
   "outputs": [],
   "source": [
    "vectorisation=TfidfVectorizer(max_features=20000)"
   ]
  },
  {
   "cell_type": "code",
   "execution_count": 41,
   "id": "78694f61",
   "metadata": {},
   "outputs": [],
   "source": [
    "vect=vectorisation.fit_transform(data['clean_tweet'])"
   ]
  },
  {
   "cell_type": "code",
   "execution_count": 42,
   "id": "969c78a8",
   "metadata": {},
   "outputs": [
    {
     "data": {
      "text/plain": [
       "array([[0., 0., 0., ..., 0., 0., 0.],\n",
       "       [0., 0., 0., ..., 0., 0., 0.],\n",
       "       [0., 0., 0., ..., 0., 0., 0.],\n",
       "       ...,\n",
       "       [0., 0., 0., ..., 0., 0., 0.],\n",
       "       [0., 0., 0., ..., 0., 0., 0.],\n",
       "       [0., 0., 0., ..., 0., 0., 0.]])"
      ]
     },
     "execution_count": 42,
     "metadata": {},
     "output_type": "execute_result"
    }
   ],
   "source": [
    "vect.toarray()"
   ]
  },
  {
   "cell_type": "code",
   "execution_count": 43,
   "id": "7909cdae",
   "metadata": {
    "scrolled": true
   },
   "outputs": [
    {
     "data": {
      "text/plain": [
       "array([[0., 0., 0., 0., 0., 0., 0., 0., 0., 0.],\n",
       "       [0., 0., 0., 0., 0., 0., 0., 0., 0., 0.],\n",
       "       [0., 0., 0., 0., 0., 0., 0., 0., 0., 0.],\n",
       "       [0., 0., 0., 0., 0., 0., 0., 0., 0., 0.],\n",
       "       [0., 0., 0., 0., 0., 0., 0., 0., 0., 0.],\n",
       "       [0., 0., 0., 0., 0., 0., 0., 0., 0., 0.],\n",
       "       [0., 0., 0., 0., 0., 0., 0., 0., 0., 0.],\n",
       "       [0., 0., 0., 0., 0., 0., 0., 0., 0., 0.],\n",
       "       [0., 0., 0., 0., 0., 0., 0., 0., 0., 0.],\n",
       "       [0., 0., 0., 0., 0., 0., 0., 0., 0., 0.]])"
      ]
     },
     "execution_count": 43,
     "metadata": {},
     "output_type": "execute_result"
    }
   ],
   "source": [
    "vect[:10, :10].toarray()"
   ]
  },
  {
   "cell_type": "code",
   "execution_count": 44,
   "id": "f9c8b9b7",
   "metadata": {},
   "outputs": [
    {
     "data": {
      "text/plain": [
       "(41157, 20000)"
      ]
     },
     "execution_count": 44,
     "metadata": {},
     "output_type": "execute_result"
    }
   ],
   "source": [
    "vect.shape"
   ]
  },
  {
   "cell_type": "code",
   "execution_count": 45,
   "id": "6aaa951c",
   "metadata": {},
   "outputs": [],
   "source": [
    "from sklearn.preprocessing import LabelEncoder\n",
    "from sklearn.model_selection import train_test_split\n",
    "from sklearn.linear_model import LogisticRegression\n",
    "from sklearn.naive_bayes import MultinomialNB\n",
    "from sklearn.ensemble import RandomForestClassifier\n",
    "from sklearn.metrics import precision_recall_fscore_support as score\n"
   ]
  },
  {
   "cell_type": "code",
   "execution_count": 46,
   "id": "cc767d00",
   "metadata": {},
   "outputs": [],
   "source": [
    "le=LabelEncoder()"
   ]
  },
  {
   "cell_type": "code",
   "execution_count": 47,
   "id": "16f02def",
   "metadata": {},
   "outputs": [],
   "source": [
    "y = data['Sentiment']\n",
    "y = le.fit_transform(y)"
   ]
  },
  {
   "cell_type": "code",
   "execution_count": 48,
   "id": "c63ea01e",
   "metadata": {},
   "outputs": [],
   "source": [
    "X_train, X_test, Y_train, Y_test = train_test_split(vect.toarray(), y, test_size=0.2, random_state=42)"
   ]
  },
  {
   "cell_type": "code",
   "execution_count": 49,
   "id": "185423d2",
   "metadata": {},
   "outputs": [],
   "source": [
    "def random_forest_hyper_params(n_decision_tree, depth):\n",
    "    alg_RandomForest = RandomForestClassifier(n_estimators=n_decision_tree, max_depth=depth, n_jobs=-1)\n",
    "    model = alg_RandomForest.fit(X_train, Y_train)\n",
    "    predictions = model.predict(X_test)\n",
    "    precision, recall, fscore, support = score(Y_test, predictions, average='weighted')\n",
    "    print('nb decision tree: {} / Depth: {} | Precision: {} / Recall: {}'.format(\n",
    "        n_decision_tree, depth, round(precision, 3), round(recall, 3)))"
   ]
  },
  {
   "cell_type": "code",
   "execution_count": 50,
   "id": "5f38bf8b",
   "metadata": {},
   "outputs": [
    {
     "name": "stdout",
     "output_type": "stream",
     "text": [
      "nb decision tree: 5 / Depth: 10 | Precision: 0.444 / Recall: 0.317\n",
      "nb decision tree: 5 / Depth: 20 | Precision: 0.421 / Recall: 0.345\n",
      "nb decision tree: 20 / Depth: 10 | Precision: 0.535 / Recall: 0.294\n",
      "nb decision tree: 20 / Depth: 20 | Precision: 0.522 / Recall: 0.357\n",
      "nb decision tree: 50 / Depth: 10 | Precision: 0.636 / Recall: 0.295\n",
      "nb decision tree: 50 / Depth: 20 | Precision: 0.579 / Recall: 0.35\n",
      "nb decision tree: 100 / Depth: 10 | Precision: 0.649 / Recall: 0.295\n",
      "nb decision tree: 100 / Depth: 20 | Precision: 0.598 / Recall: 0.345\n"
     ]
    }
   ],
   "source": [
    "for ith_decision_tree in [5, 20, 50,100]:\n",
    "    \n",
    "    for depth in [10, 20]:\n",
    "        \n",
    "        random_forest_hyper_params(ith_decision_tree, depth)"
   ]
  },
  {
   "cell_type": "code",
   "execution_count": 51,
   "id": "a64d5bb1",
   "metadata": {},
   "outputs": [],
   "source": [
    "from sklearn.svm import SVC\n"
   ]
  },
  {
   "cell_type": "code",
   "execution_count": 52,
   "id": "40637782",
   "metadata": {},
   "outputs": [],
   "source": [
    "#from sklearn.model_selection import GridSearchCV\n",
    "\n",
    "# Définir les paramètres que vous souhaitez tester\n",
    "#param_grid = {\n",
    " #   'kernel': ['linear', 'poly'],\n",
    " #   'C': [0.1, 1, 10],\n",
    "#}\n",
    "\n",
    "\n",
    "# Créer un modèle SVM\n",
    "#svm_model = SVC()\n",
    "\n",
    "# Utiliser la recherche sur grille avec validation croisée (par exemple, 5 plis)\n",
    "#grid_search = GridSearchCV(estimator=svm_model, param_grid=param_grid, cv=5, scoring='accuracy')\n",
    "\n",
    "# Entraîner le modèle sur les données d'entraînement\n",
    "#grid_search.fit(X_train, Y_train)\n",
    "\n",
    "# Afficher les meilleurs paramètres trouvés par la recherche sur grille\n",
    "#print(\"Meilleurs paramètres :\", grid_search.best_params_)\n",
    "\n",
    "# Afficher la précision du modèle avec les meilleurs paramètres sur les données de test\n",
    "#best_svm_model = grid_search.best_estimator_\n",
    "#accuracy = best_svm_model.score(X_test, Y_test)\n",
    "#print(\"Précision sur les données de test :\", accuracy)\n"
   ]
  },
  {
   "cell_type": "code",
   "execution_count": null,
   "id": "a8f5e01c",
   "metadata": {},
   "outputs": [],
   "source": []
  }
 ],
 "metadata": {
  "kernelspec": {
   "display_name": "Python 3 (ipykernel)",
   "language": "python",
   "name": "python3"
  },
  "language_info": {
   "codemirror_mode": {
    "name": "ipython",
    "version": 3
   },
   "file_extension": ".py",
   "mimetype": "text/x-python",
   "name": "python",
   "nbconvert_exporter": "python",
   "pygments_lexer": "ipython3",
   "version": "3.9.13"
  }
 },
 "nbformat": 4,
 "nbformat_minor": 5
}
